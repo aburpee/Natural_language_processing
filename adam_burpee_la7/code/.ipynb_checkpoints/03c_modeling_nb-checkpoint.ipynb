{
 "cells": [
  {
   "cell_type": "code",
   "execution_count": 1,
   "metadata": {},
   "outputs": [],
   "source": [
    "import pandas as pd\n",
    "import numpy as np\n",
    "from sklearn.feature_extraction.text import CountVectorizer, TfidfVectorizer\n",
    "from sklearn.linear_model import LogisticRegression\n",
    "from sklearn.model_selection import train_test_split, GridSearchCV, RandomizedSearchCV\n",
    "from sklearn.pipeline import Pipeline\n",
    "import pickle\n",
    "import re\n",
    "from sklearn.ensemble import RandomForestClassifier"
   ]
  },
  {
   "cell_type": "code",
   "execution_count": 2,
   "metadata": {},
   "outputs": [],
   "source": [
    "with open('../assets/stopwords.pkl', 'rb') as f: #pickles adding columns back into \n",
    "    stopwords = pickle.load(f)\n",
    "with open('../assets/X_train.pkl', 'rb') as f: #pickles adding columns back into \n",
    "    X_train = pickle.load(f)\n",
    "with open('../assets/X_test.pkl', 'rb') as f: #pickles adding columns back into \n",
    "    X_test = pickle.load(f)\n",
    "with open('../assets/y_train.pkl', 'rb') as f: #pickles adding columns back into \n",
    "    y_train = pickle.load(f)\n",
    "with open('../assets/y_test.pkl', 'rb') as f: #pickles adding columns back into \n",
    "    y_test = pickle.load(f)"
   ]
  },
  {
   "cell_type": "code",
   "execution_count": 3,
   "metadata": {},
   "outputs": [
    {
     "data": {
      "text/plain": [
       "351"
      ]
     },
     "execution_count": 3,
     "metadata": {},
     "output_type": "execute_result"
    }
   ],
   "source": [
    "len(stopwords)"
   ]
  },
  {
   "cell_type": "code",
   "execution_count": 4,
   "metadata": {},
   "outputs": [],
   "source": [
    "# df = pd.read_csv('../data/df_clean.csv')"
   ]
  },
  {
   "cell_type": "code",
   "execution_count": 5,
   "metadata": {},
   "outputs": [
    {
     "data": {
      "text/plain": [
       "8"
      ]
     },
     "execution_count": 5,
     "metadata": {},
     "output_type": "execute_result"
    }
   ],
   "source": [
    "import multiprocessing\n",
    "\n",
    "multiprocessing.cpu_count()"
   ]
  },
  {
   "cell_type": "code",
   "execution_count": 6,
   "metadata": {},
   "outputs": [],
   "source": [
    "cvec = CountVectorizer(stop_words=stopwords)"
   ]
  },
  {
   "cell_type": "code",
   "execution_count": 7,
   "metadata": {},
   "outputs": [
    {
     "data": {
      "text/plain": [
       "CountVectorizer(analyzer='word', binary=False, decode_error='strict',\n",
       "        dtype=<class 'numpy.int64'>, encoding='utf-8', input='content',\n",
       "        lowercase=True, max_df=1.0, max_features=None, min_df=1,\n",
       "        ngram_range=(1, 1), preprocessor=None,\n",
       "        stop_words=frozenset({'beside', 'then', 'look', 'above', 'know', 'among', 'rather', 'will', 'serious', 'whenever', 'con', 'itself', 'are', 'next', 'work', 'anyway', 'beyond', 'however', 'nobody', 'them', 'ten', 'alone', 'than', 'her', 'way', 'how', 'something', 'themselves', 'food', 'any', 'very', '... 'between', 'back', 'after', 'over', 'he', 'start', 'think', 'formerly', 'therefore', 'six', 'she'}),\n",
       "        strip_accents=None, token_pattern='(?u)\\\\b\\\\w\\\\w+\\\\b',\n",
       "        tokenizer=None, vocabulary=None)"
      ]
     },
     "execution_count": 7,
     "metadata": {},
     "output_type": "execute_result"
    }
   ],
   "source": [
    "cvec.fit(X_train)"
   ]
  },
  {
   "cell_type": "code",
   "execution_count": 8,
   "metadata": {},
   "outputs": [],
   "source": [
    "X_train_cvec = cvec.transform(X_train)"
   ]
  },
  {
   "cell_type": "code",
   "execution_count": 9,
   "metadata": {},
   "outputs": [
    {
     "data": {
      "text/plain": [
       "(13182, 15966)"
      ]
     },
     "execution_count": 9,
     "metadata": {},
     "output_type": "execute_result"
    }
   ],
   "source": [
    "X_train_cvec.shape"
   ]
  },
  {
   "cell_type": "code",
   "execution_count": 10,
   "metadata": {},
   "outputs": [],
   "source": [
    "X_test_cvec = cvec.transform(X_test)"
   ]
  },
  {
   "cell_type": "code",
   "execution_count": 11,
   "metadata": {},
   "outputs": [],
   "source": [
    "X_train_cvec = pd.DataFrame(X_train_cvec.toarray(), columns = cvec.get_feature_names())"
   ]
  },
  {
   "cell_type": "code",
   "execution_count": 12,
   "metadata": {},
   "outputs": [],
   "source": [
    "X_test_cvec = pd.DataFrame(X_test_cvec.toarray(), columns = cvec.get_feature_names())"
   ]
  },
  {
   "cell_type": "code",
   "execution_count": 13,
   "metadata": {},
   "outputs": [],
   "source": [
    "# pipe = Pipeline([\n",
    "#     ('tfidf', TfidfVectorizer(stop_words = stopwords)),\n",
    "#     ('rf', RandomForestClassifier(random_state = 42))\n",
    "# ])\n",
    "\n",
    "# # Tune GridSearchCV\n",
    "# params = {\n",
    "#     'tfidf__stop_words': [stopwords],\n",
    "#     'tfidf__max_features': [2500, 3000 ,3500],\n",
    "#     'tfidf__ngram_range': [(1,1), (1,2)]\n",
    "# }\n",
    "# gs_rf = GridSearchCV(pipe, param_grid = params, cv = 3)"
   ]
  },
  {
   "cell_type": "code",
   "execution_count": 15,
   "metadata": {},
   "outputs": [
    {
     "name": "stderr",
     "output_type": "stream",
     "text": [
      "/Users/adamburpee/anaconda3/lib/python3.7/site-packages/sklearn/ensemble/forest.py:246: FutureWarning: The default value of n_estimators will change from 10 in version 0.20 to 100 in 0.22.\n",
      "  \"10 in version 0.20 to 100 in 0.22.\", FutureWarning)\n"
     ]
    },
    {
     "data": {
      "text/plain": [
       "1134"
      ]
     },
     "execution_count": 15,
     "metadata": {},
     "output_type": "execute_result"
    }
   ],
   "source": [
    "rf = RandomForestClassifier(random_state = 42)\n",
    "rf.fit(X_train_cvec, y_train)\n",
    "max([x.tree_.max_depth for x in rf.estimators_])"
   ]
  },
  {
   "cell_type": "code",
   "execution_count": 16,
   "metadata": {},
   "outputs": [
    {
     "data": {
      "text/plain": [
       "(13182, 15966)"
      ]
     },
     "execution_count": 16,
     "metadata": {},
     "output_type": "execute_result"
    }
   ],
   "source": [
    "X_train_cvec.shape"
   ]
  },
  {
   "cell_type": "code",
   "execution_count": null,
   "metadata": {},
   "outputs": [],
   "source": [
    "rf = RandomForestClassifier(random_state = 42, n_jobs = 5)\n",
    "rf_params = {\n",
    "    'n_estimators' : [50, 100, 150, 200, 250, 300, 400, 500],\n",
    "    'max_depth': [500, 700, 800, 900, 1000, 1050, 1100, 1130],\n",
    "    'max_features': [4000, 4500, 5000, 7000, 7500, 8500, 9000, 10000, 12500, 15000],\n",
    "#min number of items in decision node for it to take a sample. 'you have to have this many values in a node for a split to be able to happen'\n",
    "    'min_samples_split': [2,3,4,5,7]\n",
    "#min leaf size: both child nodes have to be of 'this' size before a split can occur\n",
    "}\n",
    "rs = RandomizedSearchCV(rf, param_distributions = rf_params, cv = 5)\n",
    "#trying out all param combinations\n",
    "#for each combo, we're doing 5 fold cross val\n",
    "#use best params and fit to training data\n",
    "rs.fit(X_train_cvec, y_train)\n",
    "print(rs.best_score_) #cross val score from best_params_\n",
    "rs.best_params_"
   ]
  },
  {
   "cell_type": "code",
   "execution_count": null,
   "metadata": {},
   "outputs": [],
   "source": [
    "print('yes')"
   ]
  },
  {
   "cell_type": "code",
   "execution_count": 61,
   "metadata": {},
   "outputs": [
    {
     "data": {
      "text/plain": [
       "0.8167129512749306"
      ]
     },
     "execution_count": 61,
     "metadata": {},
     "output_type": "execute_result"
    }
   ],
   "source": [
    "gs.score(X_train_tf, y_train)"
   ]
  },
  {
   "cell_type": "code",
   "execution_count": 62,
   "metadata": {},
   "outputs": [
    {
     "data": {
      "text/plain": [
       "0.6971226653205452"
      ]
     },
     "execution_count": 62,
     "metadata": {},
     "output_type": "execute_result"
    }
   ],
   "source": [
    "gs.score(X_test_tf, y_test)"
   ]
  },
  {
   "cell_type": "code",
   "execution_count": 40,
   "metadata": {},
   "outputs": [],
   "source": [
    "preds_rf = gs.predict(X_test_tf)"
   ]
  },
  {
   "cell_type": "code",
   "execution_count": 41,
   "metadata": {},
   "outputs": [
    {
     "data": {
      "text/plain": [
       "array([1, 1, 1, ..., 1, 1, 1])"
      ]
     },
     "execution_count": 41,
     "metadata": {},
     "output_type": "execute_result"
    }
   ],
   "source": [
    "preds_rf"
   ]
  },
  {
   "cell_type": "code",
   "execution_count": 116,
   "metadata": {},
   "outputs": [
    {
     "name": "stdout",
     "output_type": "stream",
     "text": [
      "0.822841726618705\n"
     ]
    },
    {
     "data": {
      "text/plain": [
       "{'max_depth': 434,\n",
       " 'max_features': 4,\n",
       " 'min_samples_split': 3,\n",
       " 'n_estimators': 200}"
      ]
     },
     "execution_count": 116,
     "metadata": {},
     "output_type": "execute_result"
    }
   ],
   "source": [
    "# rf = RandomForestClassifier(random_state = 42)\n",
    "# rf_params = {\n",
    "#     'n_estimators' : [150, 200],\n",
    "#     'max_depth': [375, 434],\n",
    "#     'max_features': ['auto', 2, 4],\n",
    "# #min number of items in decision node for it to take a sample. 'you have to have this many values in a node for a split to be able to happen'\n",
    "#     'min_samples_split': [3,4]\n",
    "# #min leaf size: both child nodes have to be of 'this' size before a split can occur\n",
    "# }\n",
    "# gs = GridSearchCV(rf, param_grid = rf_params, cv = 5)\n",
    "# #trying out all param combinations\n",
    "# #for each combo, we're doing 5 fold cross val\n",
    "# #use best params and fit to training data\n",
    "# gs.fit(X_train_cvec, y_train)\n",
    "# print(gs.best_score_) #cross val score from best_params_\n",
    "# gs.best_params_"
   ]
  },
  {
   "cell_type": "code",
   "execution_count": 47,
   "metadata": {},
   "outputs": [
    {
     "data": {
      "text/plain": [
       "array([1.40409948e-04, 6.99155047e-05, 1.57468033e-04, ...,\n",
       "       4.63724751e-05, 3.80861377e-05, 1.30301958e-04])"
      ]
     },
     "execution_count": 47,
     "metadata": {},
     "output_type": "execute_result"
    }
   ],
   "source": [
    "gs.best_estimator_.feature_importances_"
   ]
  },
  {
   "cell_type": "code",
   "execution_count": 54,
   "metadata": {},
   "outputs": [],
   "source": [
    "import matplotlib.pyplot as plt\n",
    "\n",
    "%matplotlib inline"
   ]
  },
  {
   "cell_type": "code",
   "execution_count": 55,
   "metadata": {},
   "outputs": [],
   "source": [
    "feat_importance = pd.DataFrame(gs.best_estimator_.feature_importances_, \n",
    "                               X_train_df.columns, \n",
    "                               columns=['importance'])"
   ]
  },
  {
   "cell_type": "code",
   "execution_count": 56,
   "metadata": {},
   "outputs": [
    {
     "data": {
      "text/plain": [
       "Text(0, 0.5, 'Feature')"
      ]
     },
     "execution_count": 56,
     "metadata": {},
     "output_type": "execute_result"
    },
    {
     "data": {
      "image/png": "[encoded data removed]",
      "text/plain": [
       "<Figure size 1440x720 with 1 Axes>"
      ]
     },
     "metadata": {
      "needs_background": "light"
     },
     "output_type": "display_data"
    }
   ],
   "source": [
    "plt.figure(figsize=(20,10))\n",
    "temp = feat_importance.sort_values('importance', ascending=False).head(20)\n",
    "plt.barh(temp.index, temp['importance'])\n",
    "plt.title('Top 20 Features', fontsize=30)\n",
    "plt.xlabel('Amount of information gained', fontsize=20)\n",
    "plt.ylabel('Feature', fontsize=20)"
   ]
  },
  {
   "cell_type": "code",
   "execution_count": null,
   "metadata": {},
   "outputs": [],
   "source": []
  }
 ],
 "metadata": {
  "kernelspec": {
   "display_name": "Python 3",
   "language": "python",
   "name": "python3"
  },
  "language_info": {
   "codemirror_mode": {
    "name": "ipython",
    "version": 3
   },
   "file_extension": ".py",
   "mimetype": "text/x-python",
   "name": "python",
   "nbconvert_exporter": "python",
   "pygments_lexer": "ipython3",
   "version": "3.7.2"
  }
 },
 "nbformat": 4,
 "nbformat_minor": 2
}
