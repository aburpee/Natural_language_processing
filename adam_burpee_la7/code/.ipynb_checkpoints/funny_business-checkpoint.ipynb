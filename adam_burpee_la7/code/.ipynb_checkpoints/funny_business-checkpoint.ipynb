{
 "cells": [
  {
   "cell_type": "markdown",
   "metadata": {},
   "source": [
    "# Using the Pushshift API\n",
    "\n",
    "Pushshift is a service that archives and indexes Reddit at regular intervals. It allows for higher-level search functionality and querying for Reddit comments and submissions, facilitating data collection for analysis and modeling. It leverages the requests library to return a json response that can then be parsed for the data of interest.\n",
    "\n",
    "Resources: \n",
    "- Pushshift Endpoints: https://pushshift.io/\n",
    "- Pushshift Documentation: https://github.com/pushshift/api\n",
    "- Pushshift Subreddit: https://www.reddit.com/r/pushshift/comments/89pxra/pushshift_api_with_large_amounts_of_data/\n"
   ]
  },
  {
   "cell_type": "code",
   "execution_count": 187,
   "metadata": {},
   "outputs": [],
   "source": [
    "import requests, time, csv, json, re\n",
    "import pandas as pd"
   ]
  },
  {
   "cell_type": "markdown",
   "metadata": {},
   "source": [
    "## Setting the base query syntax:"
   ]
  },
  {
   "cell_type": "markdown",
   "metadata": {},
   "source": [
    "Setting the query url to the pushshift api"
   ]
  },
  {
   "cell_type": "code",
   "execution_count": 188,
   "metadata": {},
   "outputs": [],
   "source": [
    "url = 'https://api.pushshift.io/reddit/search/submission/'"
   ]
  },
  {
   "cell_type": "markdown",
   "metadata": {},
   "source": [
    "Setting the parameters for the query. A full list of parameters can be found on: https://pushshift.io/api-parameters/"
   ]
  },
  {
   "cell_type": "code",
   "execution_count": 189,
   "metadata": {},
   "outputs": [],
   "source": [
    "params = {#'searchType':'submission',\n",
    "          'subreddit':'lifeprotips, unethicallifeprotips',\n",
    "          'sort':'desc',\n",
    "          'size':10,\n",
    "#           'before': '10d',\n",
    "#           'after': '168d',\n",
    "         }"
   ]
  },
  {
   "cell_type": "markdown",
   "metadata": {},
   "source": [
    "Making the request."
   ]
  },
  {
   "cell_type": "code",
   "execution_count": 14,
   "metadata": {},
   "outputs": [],
   "source": [
    "response = requests.get(url, params=params)"
   ]
  },
  {
   "cell_type": "markdown",
   "metadata": {},
   "source": [
    "Checking the url to make sure the query terms are correct and the server is responsive"
   ]
  },
  {
   "cell_type": "code",
   "execution_count": 15,
   "metadata": {},
   "outputs": [
    {
     "data": {
      "text/plain": [
       "200"
      ]
     },
     "execution_count": 15,
     "metadata": {},
     "output_type": "execute_result"
    }
   ],
   "source": [
    "response.status_code"
   ]
  },
  {
   "cell_type": "markdown",
   "metadata": {},
   "source": [
    "The status code returned from the server is 200, meaning the query was accepted and there aren't any connection issues. Checking length of the json file."
   ]
  },
  {
   "cell_type": "code",
   "execution_count": 16,
   "metadata": {},
   "outputs": [
    {
     "data": {
      "text/plain": [
       "10"
      ]
     },
     "execution_count": 16,
     "metadata": {},
     "output_type": "execute_result"
    }
   ],
   "source": [
    "len(response.json()['data'])"
   ]
  },
  {
   "cell_type": "markdown",
   "metadata": {},
   "source": [
    "Length is 10, as expected. Assessing the file structure for keys of interest."
   ]
  },
  {
   "cell_type": "code",
   "execution_count": 17,
   "metadata": {},
   "outputs": [
    {
     "data": {
      "text/plain": [
       "[{'author': 'IllustriousVirus26',\n",
       "  'author_flair_css_class': None,\n",
       "  'author_flair_richtext': [],\n",
       "  'author_flair_text': None,\n",
       "  'author_flair_type': 'text',\n",
       "  'author_fullname': 't2_db25fyv',\n",
       "  'author_patreon_flair': False,\n",
       "  'can_mod_post': False,\n",
       "  'contest_mode': False,\n",
       "  'created_utc': 1554087060,\n",
       "  'domain': 'self.LifeProTips',\n",
       "  'full_link': 'https://www.reddit.com/r/LifeProTips/comments/b7wduw/the_more_you_keep_your_mind_occupied_the_less_you/',\n",
       "  'gildings': {'gid_1': 0, 'gid_2': 0, 'gid_3': 0},\n",
       "  'id': 'b7wduw',\n",
       "  'is_crosspostable': False,\n",
       "  'is_meta': False,\n",
       "  'is_original_content': False,\n",
       "  'is_reddit_media_domain': False,\n",
       "  'is_robot_indexable': False,\n",
       "  'is_self': True,\n",
       "  'is_video': False,\n",
       "  'link_flair_background_color': '',\n",
       "  'link_flair_css_class': 'removed',\n",
       "  'link_flair_richtext': [],\n",
       "  'link_flair_text': 'Removed',\n",
       "  'link_flair_text_color': 'dark',\n",
       "  'link_flair_type': 'text',\n",
       "  'locked': False,\n",
       "  'media_only': False,\n",
       "  'no_follow': True,\n",
       "  'num_comments': 2,\n",
       "  'num_crossposts': 0,\n",
       "  'over_18': False,\n",
       "  'parent_whitelist_status': 'all_ads',\n",
       "  'permalink': '/r/LifeProTips/comments/b7wduw/the_more_you_keep_your_mind_occupied_the_less_you/',\n",
       "  'pinned': False,\n",
       "  'post_hint': 'self',\n",
       "  'preview': {'enabled': False,\n",
       "   'images': [{'id': 'acThvSmOx3z3pB2acRD-0iwrC-WY4_jPe0YIjr-MsdE',\n",
       "     'resolutions': [{'height': 81,\n",
       "       'url': 'https://external-preview.redd.it/d3LrNPjmR_YhkadsTzItr_3aEyLgN_ep8qmxYYFX3kg.jpg?width=108&amp;crop=smart&amp;auto=webp&amp;s=26c240fc45afbe02dd0702f89d11d67ed671f397',\n",
       "       'width': 108},\n",
       "      {'height': 162,\n",
       "       'url': 'https://external-preview.redd.it/d3LrNPjmR_YhkadsTzItr_3aEyLgN_ep8qmxYYFX3kg.jpg?width=216&amp;crop=smart&amp;auto=webp&amp;s=3732206c83e06177370602aac71163eca1e96128',\n",
       "       'width': 216},\n",
       "      {'height': 240,\n",
       "       'url': 'https://external-preview.redd.it/d3LrNPjmR_YhkadsTzItr_3aEyLgN_ep8qmxYYFX3kg.jpg?width=320&amp;crop=smart&amp;auto=webp&amp;s=0c88b5f58fa4efce9995444a6d409fb527acc24b',\n",
       "       'width': 320}],\n",
       "     'source': {'height': 360,\n",
       "      'url': 'https://external-preview.redd.it/d3LrNPjmR_YhkadsTzItr_3aEyLgN_ep8qmxYYFX3kg.jpg?auto=webp&amp;s=9cf7a9c0db2bff800c32c482c9354b91da608e87',\n",
       "      'width': 480},\n",
       "     'variants': {}}]},\n",
       "  'pwls': 6,\n",
       "  'retrieved_on': 1554087061,\n",
       "  'score': 1,\n",
       "  'selftext': '[removed]',\n",
       "  'send_replies': True,\n",
       "  'spoiler': False,\n",
       "  'stickied': False,\n",
       "  'subreddit': 'LifeProTips',\n",
       "  'subreddit_id': 't5_2s5oq',\n",
       "  'subreddit_subscribers': 15663588,\n",
       "  'subreddit_type': 'public',\n",
       "  'suggested_sort': 'confidence',\n",
       "  'thumbnail': 'self',\n",
       "  'title': 'The more you keep your mind occupied the less you hate on people.',\n",
       "  'url': 'https://www.reddit.com/r/LifeProTips/comments/b7wduw/the_more_you_keep_your_mind_occupied_the_less_you/',\n",
       "  'whitelist_status': 'all_ads',\n",
       "  'wls': 6},\n",
       " {'author': 'Kazaa_Was_My_Idea',\n",
       "  'author_flair_css_class': None,\n",
       "  'author_flair_richtext': [],\n",
       "  'author_flair_text': None,\n",
       "  'author_flair_type': 'text',\n",
       "  'author_fullname': 't2_3bm02cvs',\n",
       "  'author_patreon_flair': False,\n",
       "  'can_mod_post': False,\n",
       "  'contest_mode': False,\n",
       "  'created_utc': 1554086690,\n",
       "  'domain': 'self.LifeProTips',\n",
       "  'full_link': 'https://www.reddit.com/r/LifeProTips/comments/b7wbo4/what_to_do_if_you_win_the_powerball/',\n",
       "  'gildings': {'gid_1': 0, 'gid_2': 0, 'gid_3': 0},\n",
       "  'id': 'b7wbo4',\n",
       "  'is_crosspostable': True,\n",
       "  'is_meta': False,\n",
       "  'is_original_content': False,\n",
       "  'is_reddit_media_domain': False,\n",
       "  'is_robot_indexable': True,\n",
       "  'is_self': True,\n",
       "  'is_video': False,\n",
       "  'link_flair_background_color': '',\n",
       "  'link_flair_richtext': [],\n",
       "  'link_flair_text_color': 'dark',\n",
       "  'link_flair_type': 'text',\n",
       "  'locked': False,\n",
       "  'media_only': False,\n",
       "  'no_follow': True,\n",
       "  'num_comments': 1,\n",
       "  'num_crossposts': 0,\n",
       "  'over_18': False,\n",
       "  'parent_whitelist_status': 'all_ads',\n",
       "  'permalink': '/r/LifeProTips/comments/b7wbo4/what_to_do_if_you_win_the_powerball/',\n",
       "  'pinned': False,\n",
       "  'pwls': 6,\n",
       "  'retrieved_on': 1554086691,\n",
       "  'score': 1,\n",
       "  'selftext': \"I don't know if you'll ever be lucky enough to hit the 1 in 200 million lottery ticket, but if you just won the Powerball and you need some life protips, here are the top 4:\\n\\n**1. Protect That Ticket and Take Your Time**\\n\\n**2. Don’t Quit Your Job Just Yet**\\n\\n**3. Hire Professionals**\\n\\n**4. Change Your Address and Go Unlisted**\\n\\nFull List: [What to do if you win the lottery](https://www.moneycrashers.com/what-to-do-win-lottery/)\\n\\n&amp;#x200B;\\n\\nCongratulations to whoever hit that massive draw! On the off chance that you do read this forum - I hope you find these useful. Even if you didn't win, this list is pretty solid if you ever find yourself  in a radically cash flush position out of the blue. Heck, if you're in a radically destitute state - #2 and/or #4 would still be solid advice. \",\n",
       "  'send_replies': True,\n",
       "  'spoiler': False,\n",
       "  'stickied': False,\n",
       "  'subreddit': 'LifeProTips',\n",
       "  'subreddit_id': 't5_2s5oq',\n",
       "  'subreddit_subscribers': 15663548,\n",
       "  'subreddit_type': 'public',\n",
       "  'suggested_sort': 'confidence',\n",
       "  'thumbnail': 'self',\n",
       "  'title': 'What to Do if You Win the Powerball',\n",
       "  'url': 'https://www.reddit.com/r/LifeProTips/comments/b7wbo4/what_to_do_if_you_win_the_powerball/',\n",
       "  'whitelist_status': 'all_ads',\n",
       "  'wls': 6},\n",
       " {'author': 'tyrannyofdragons',\n",
       "  'author_flair_css_class': None,\n",
       "  'author_flair_richtext': [],\n",
       "  'author_flair_text': None,\n",
       "  'author_flair_type': 'text',\n",
       "  'author_fullname': 't2_ptu9l',\n",
       "  'author_patreon_flair': False,\n",
       "  'can_mod_post': False,\n",
       "  'contest_mode': False,\n",
       "  'created_utc': 1554086653,\n",
       "  'domain': 'self.LifeProTips',\n",
       "  'full_link': 'https://www.reddit.com/r/LifeProTips/comments/b7wbg7/can_you_do_the_better_life_challenge/',\n",
       "  'gildings': {'gid_1': 0, 'gid_2': 0, 'gid_3': 0},\n",
       "  'id': 'b7wbg7',\n",
       "  'is_crosspostable': False,\n",
       "  'is_meta': False,\n",
       "  'is_original_content': False,\n",
       "  'is_reddit_media_domain': False,\n",
       "  'is_robot_indexable': False,\n",
       "  'is_self': True,\n",
       "  'is_video': False,\n",
       "  'link_flair_background_color': '',\n",
       "  'link_flair_css_class': 'removed',\n",
       "  'link_flair_richtext': [],\n",
       "  'link_flair_text': 'Removed',\n",
       "  'link_flair_text_color': 'dark',\n",
       "  'link_flair_type': 'text',\n",
       "  'locked': False,\n",
       "  'media_only': False,\n",
       "  'no_follow': True,\n",
       "  'num_comments': 2,\n",
       "  'num_crossposts': 0,\n",
       "  'over_18': False,\n",
       "  'parent_whitelist_status': 'all_ads',\n",
       "  'permalink': '/r/LifeProTips/comments/b7wbg7/can_you_do_the_better_life_challenge/',\n",
       "  'pinned': False,\n",
       "  'pwls': 6,\n",
       "  'retrieved_on': 1554086655,\n",
       "  'score': 1,\n",
       "  'selftext': '[removed]',\n",
       "  'send_replies': True,\n",
       "  'spoiler': False,\n",
       "  'stickied': False,\n",
       "  'subreddit': 'LifeProTips',\n",
       "  'subreddit_id': 't5_2s5oq',\n",
       "  'subreddit_subscribers': 15663544,\n",
       "  'subreddit_type': 'public',\n",
       "  'suggested_sort': 'confidence',\n",
       "  'thumbnail': 'self',\n",
       "  'title': 'Can you do the better life challenge!!!',\n",
       "  'url': 'https://www.reddit.com/r/LifeProTips/comments/b7wbg7/can_you_do_the_better_life_challenge/',\n",
       "  'whitelist_status': 'all_ads',\n",
       "  'wls': 6},\n",
       " {'author': 'andrewd-27',\n",
       "  'author_flair_css_class': None,\n",
       "  'author_flair_richtext': [],\n",
       "  'author_flair_text': None,\n",
       "  'author_flair_type': 'text',\n",
       "  'author_fullname': 't2_uc9jx',\n",
       "  'author_patreon_flair': False,\n",
       "  'can_mod_post': False,\n",
       "  'contest_mode': False,\n",
       "  'created_utc': 1554086469,\n",
       "  'domain': 'self.LifeProTips',\n",
       "  'full_link': 'https://www.reddit.com/r/LifeProTips/comments/b7wad7/lpt_not_sure_if_someones_in_the_bathroom_or_stall/',\n",
       "  'gildings': {'gid_1': 0, 'gid_2': 0, 'gid_3': 0},\n",
       "  'id': 'b7wad7',\n",
       "  'is_crosspostable': False,\n",
       "  'is_meta': False,\n",
       "  'is_original_content': False,\n",
       "  'is_reddit_media_domain': False,\n",
       "  'is_robot_indexable': False,\n",
       "  'is_self': True,\n",
       "  'is_video': False,\n",
       "  'link_flair_background_color': '',\n",
       "  'link_flair_richtext': [],\n",
       "  'link_flair_template_id': '3f69b584-1f22-11e9-8e41-0eb3706cb7c0',\n",
       "  'link_flair_text': 'Removed: Hygiene/toilet tip',\n",
       "  'link_flair_text_color': 'dark',\n",
       "  'link_flair_type': 'text',\n",
       "  'locked': False,\n",
       "  'media_only': False,\n",
       "  'no_follow': True,\n",
       "  'num_comments': 2,\n",
       "  'num_crossposts': 0,\n",
       "  'over_18': False,\n",
       "  'parent_whitelist_status': 'all_ads',\n",
       "  'permalink': '/r/LifeProTips/comments/b7wad7/lpt_not_sure_if_someones_in_the_bathroom_or_stall/',\n",
       "  'pinned': False,\n",
       "  'pwls': 6,\n",
       "  'retrieved_on': 1554086470,\n",
       "  'score': 1,\n",
       "  'selftext': '[removed]',\n",
       "  'send_replies': True,\n",
       "  'spoiler': False,\n",
       "  'stickied': False,\n",
       "  'subreddit': 'LifeProTips',\n",
       "  'subreddit_id': 't5_2s5oq',\n",
       "  'subreddit_subscribers': 15663532,\n",
       "  'subreddit_type': 'public',\n",
       "  'suggested_sort': 'confidence',\n",
       "  'thumbnail': 'self',\n",
       "  'title': 'LPT: Not sure if someone’s in the bathroom or stall? Turn the doorknob and don’t open it or open the door a little and wait, if you don’t hear anyone it’s empty',\n",
       "  'url': 'https://www.reddit.com/r/LifeProTips/comments/b7wad7/lpt_not_sure_if_someones_in_the_bathroom_or_stall/',\n",
       "  'whitelist_status': 'all_ads',\n",
       "  'wls': 6},\n",
       " {'author': 'sonic7z',\n",
       "  'author_flair_css_class': None,\n",
       "  'author_flair_richtext': [],\n",
       "  'author_flair_text': None,\n",
       "  'author_flair_type': 'text',\n",
       "  'author_fullname': 't2_1tvrzk5i',\n",
       "  'author_patreon_flair': False,\n",
       "  'can_mod_post': False,\n",
       "  'contest_mode': False,\n",
       "  'created_utc': 1554086348,\n",
       "  'domain': 'self.LifeProTips',\n",
       "  'full_link': 'https://www.reddit.com/r/LifeProTips/comments/b7w9ni/instagram_scam/',\n",
       "  'gildings': {'gid_1': 0, 'gid_2': 0, 'gid_3': 0},\n",
       "  'id': 'b7w9ni',\n",
       "  'is_crosspostable': False,\n",
       "  'is_meta': False,\n",
       "  'is_original_content': False,\n",
       "  'is_reddit_media_domain': False,\n",
       "  'is_robot_indexable': False,\n",
       "  'is_self': True,\n",
       "  'is_video': False,\n",
       "  'link_flair_background_color': '',\n",
       "  'link_flair_richtext': [],\n",
       "  'link_flair_text_color': 'dark',\n",
       "  'link_flair_type': 'text',\n",
       "  'locked': False,\n",
       "  'media_only': False,\n",
       "  'no_follow': True,\n",
       "  'num_comments': 2,\n",
       "  'num_crossposts': 0,\n",
       "  'over_18': False,\n",
       "  'parent_whitelist_status': 'all_ads',\n",
       "  'permalink': '/r/LifeProTips/comments/b7w9ni/instagram_scam/',\n",
       "  'pinned': False,\n",
       "  'pwls': 6,\n",
       "  'retrieved_on': 1554086349,\n",
       "  'score': 1,\n",
       "  'selftext': '[removed]',\n",
       "  'send_replies': True,\n",
       "  'spoiler': False,\n",
       "  'stickied': False,\n",
       "  'subreddit': 'LifeProTips',\n",
       "  'subreddit_id': 't5_2s5oq',\n",
       "  'subreddit_subscribers': 15663520,\n",
       "  'subreddit_type': 'public',\n",
       "  'suggested_sort': 'confidence',\n",
       "  'thumbnail': 'self',\n",
       "  'title': 'Instagram scam',\n",
       "  'url': 'https://www.reddit.com/r/LifeProTips/comments/b7w9ni/instagram_scam/',\n",
       "  'whitelist_status': 'all_ads',\n",
       "  'wls': 6},\n",
       " {'author': 'chinchuberry',\n",
       "  'author_flair_css_class': None,\n",
       "  'author_flair_richtext': [],\n",
       "  'author_flair_text': None,\n",
       "  'author_flair_type': 'text',\n",
       "  'author_fullname': 't2_35h31qu4',\n",
       "  'author_patreon_flair': False,\n",
       "  'can_mod_post': False,\n",
       "  'contest_mode': False,\n",
       "  'created_utc': 1554085054,\n",
       "  'domain': 'self.LifeProTips',\n",
       "  'full_link': 'https://www.reddit.com/r/LifeProTips/comments/b7w1v3/lpt_if_you_ever_find_yourself_naked_in_public/',\n",
       "  'gildings': {'gid_1': 0, 'gid_2': 0, 'gid_3': 0},\n",
       "  'id': 'b7w1v3',\n",
       "  'is_crosspostable': True,\n",
       "  'is_meta': False,\n",
       "  'is_original_content': False,\n",
       "  'is_reddit_media_domain': False,\n",
       "  'is_robot_indexable': True,\n",
       "  'is_self': True,\n",
       "  'is_video': False,\n",
       "  'link_flair_background_color': '',\n",
       "  'link_flair_richtext': [],\n",
       "  'link_flair_text_color': 'dark',\n",
       "  'link_flair_type': 'text',\n",
       "  'locked': False,\n",
       "  'media_only': False,\n",
       "  'no_follow': True,\n",
       "  'num_comments': 1,\n",
       "  'num_crossposts': 0,\n",
       "  'over_18': False,\n",
       "  'parent_whitelist_status': 'all_ads',\n",
       "  'permalink': '/r/LifeProTips/comments/b7w1v3/lpt_if_you_ever_find_yourself_naked_in_public/',\n",
       "  'pinned': False,\n",
       "  'pwls': 6,\n",
       "  'retrieved_on': 1554085055,\n",
       "  'score': 1,\n",
       "  'selftext': '',\n",
       "  'send_replies': True,\n",
       "  'spoiler': False,\n",
       "  'stickied': False,\n",
       "  'subreddit': 'LifeProTips',\n",
       "  'subreddit_id': 't5_2s5oq',\n",
       "  'subreddit_subscribers': 15663382,\n",
       "  'subreddit_type': 'public',\n",
       "  'suggested_sort': 'confidence',\n",
       "  'thumbnail': 'self',\n",
       "  'title': 'LPT: if you ever find yourself naked in public, cover your face, not your genitals.',\n",
       "  'url': 'https://www.reddit.com/r/LifeProTips/comments/b7w1v3/lpt_if_you_ever_find_yourself_naked_in_public/',\n",
       "  'whitelist_status': 'all_ads',\n",
       "  'wls': 6},\n",
       " {'author': 'TehBumConsumer',\n",
       "  'author_flair_css_class': None,\n",
       "  'author_flair_richtext': [],\n",
       "  'author_flair_text': None,\n",
       "  'author_flair_type': 'text',\n",
       "  'author_fullname': 't2_276tky25',\n",
       "  'author_patreon_flair': False,\n",
       "  'can_mod_post': False,\n",
       "  'contest_mode': False,\n",
       "  'created_utc': 1554084871,\n",
       "  'domain': 'self.LifeProTips',\n",
       "  'full_link': 'https://www.reddit.com/r/LifeProTips/comments/b7w0qq/bullying/',\n",
       "  'gildings': {'gid_1': 0, 'gid_2': 0, 'gid_3': 0},\n",
       "  'id': 'b7w0qq',\n",
       "  'is_crosspostable': True,\n",
       "  'is_meta': False,\n",
       "  'is_original_content': False,\n",
       "  'is_reddit_media_domain': False,\n",
       "  'is_robot_indexable': True,\n",
       "  'is_self': True,\n",
       "  'is_video': False,\n",
       "  'link_flair_background_color': '#f44336',\n",
       "  'link_flair_css_class': 'productivity',\n",
       "  'link_flair_richtext': [],\n",
       "  'link_flair_template_id': 'fa4fa9bc-cbd1-11e2-9da7-12313d17f99e',\n",
       "  'link_flair_text': 'Productivity',\n",
       "  'link_flair_text_color': 'light',\n",
       "  'link_flair_type': 'text',\n",
       "  'locked': False,\n",
       "  'media_only': False,\n",
       "  'no_follow': True,\n",
       "  'num_comments': 1,\n",
       "  'num_crossposts': 0,\n",
       "  'over_18': False,\n",
       "  'parent_whitelist_status': 'all_ads',\n",
       "  'permalink': '/r/LifeProTips/comments/b7w0qq/bullying/',\n",
       "  'pinned': False,\n",
       "  'pwls': 6,\n",
       "  'retrieved_on': 1554084872,\n",
       "  'score': 1,\n",
       "  'selftext': 'Bullying is something close to everybody deals with, it being in the workplace, school, at home; anywhere. What the prey has to do is simply keep their head above water and realize that there are people who love you out there and all you have to do is swallow your pride and get help. But also, here\\'s my message to the predator, if you have the mental, physical, or verbal power to do good but you use it for bad intentions and to put people down, that isn\\'t fair to you or the ones you are bullying. I have used words that were once said by one of my icons Corey Taylor, just look up \"Corey Taylor bullying\" on YouTube and you\\'l find the words I cherry picked. I hope this helps bullies to wake up and to support those being bullied.',\n",
       "  'send_replies': True,\n",
       "  'spoiler': False,\n",
       "  'stickied': False,\n",
       "  'subreddit': 'LifeProTips',\n",
       "  'subreddit_id': 't5_2s5oq',\n",
       "  'subreddit_subscribers': 15663368,\n",
       "  'subreddit_type': 'public',\n",
       "  'suggested_sort': 'confidence',\n",
       "  'thumbnail': 'self',\n",
       "  'title': 'Bullying',\n",
       "  'url': 'https://www.reddit.com/r/LifeProTips/comments/b7w0qq/bullying/',\n",
       "  'whitelist_status': 'all_ads',\n",
       "  'wls': 6},\n",
       " {'author': 'ronin_d',\n",
       "  'author_flair_css_class': None,\n",
       "  'author_flair_richtext': [],\n",
       "  'author_flair_text': None,\n",
       "  'author_flair_type': 'text',\n",
       "  'author_fullname': 't2_psc35',\n",
       "  'author_patreon_flair': False,\n",
       "  'can_mod_post': False,\n",
       "  'contest_mode': False,\n",
       "  'created_utc': 1554084814,\n",
       "  'domain': 'self.LifeProTips',\n",
       "  'full_link': 'https://www.reddit.com/r/LifeProTips/comments/b7w0dj/lpt_if_youre_going_out_on_a_date_that_involves/',\n",
       "  'gildings': {'gid_1': 0, 'gid_2': 0, 'gid_3': 0},\n",
       "  'id': 'b7w0dj',\n",
       "  'is_crosspostable': True,\n",
       "  'is_meta': False,\n",
       "  'is_original_content': False,\n",
       "  'is_reddit_media_domain': False,\n",
       "  'is_robot_indexable': True,\n",
       "  'is_self': True,\n",
       "  'is_video': False,\n",
       "  'link_flair_background_color': '#03a9f4',\n",
       "  'link_flair_css_class': 'social',\n",
       "  'link_flair_richtext': [],\n",
       "  'link_flair_template_id': '35e6477c-91ee-11e4-ab51-22000b2284be',\n",
       "  'link_flair_text': 'Social',\n",
       "  'link_flair_text_color': 'light',\n",
       "  'link_flair_type': 'text',\n",
       "  'locked': False,\n",
       "  'media_only': False,\n",
       "  'no_follow': True,\n",
       "  'num_comments': 5,\n",
       "  'num_crossposts': 0,\n",
       "  'over_18': False,\n",
       "  'parent_whitelist_status': 'all_ads',\n",
       "  'permalink': '/r/LifeProTips/comments/b7w0dj/lpt_if_youre_going_out_on_a_date_that_involves/',\n",
       "  'pinned': False,\n",
       "  'pwls': 6,\n",
       "  'retrieved_on': 1554084815,\n",
       "  'score': 1,\n",
       "  'selftext': '',\n",
       "  'send_replies': True,\n",
       "  'spoiler': False,\n",
       "  'stickied': False,\n",
       "  'subreddit': 'LifeProTips',\n",
       "  'subreddit_id': 't5_2s5oq',\n",
       "  'subreddit_subscribers': 15663365,\n",
       "  'subreddit_type': 'public',\n",
       "  'suggested_sort': 'confidence',\n",
       "  'thumbnail': 'self',\n",
       "  'title': 'LPT: If you’re going out on a date that involves dinner and a movie, watch the movie first so you have something to talk about at dinner.',\n",
       "  'url': 'https://www.reddit.com/r/LifeProTips/comments/b7w0dj/lpt_if_youre_going_out_on_a_date_that_involves/',\n",
       "  'whitelist_status': 'all_ads',\n",
       "  'wls': 6},\n",
       " {'author': 'iamfuturetrunks',\n",
       "  'author_flair_css_class': None,\n",
       "  'author_flair_richtext': [],\n",
       "  'author_flair_text': None,\n",
       "  'author_flair_type': 'text',\n",
       "  'author_fullname': 't2_k5xjl',\n",
       "  'author_patreon_flair': False,\n",
       "  'can_mod_post': False,\n",
       "  'contest_mode': False,\n",
       "  'created_utc': 1554084402,\n",
       "  'domain': 'self.LifeProTips',\n",
       "  'full_link': 'https://www.reddit.com/r/LifeProTips/comments/b7vxuk/lpt_if_you_find_yourself_doing_specificuncommon/',\n",
       "  'gildings': {'gid_1': 0, 'gid_2': 0, 'gid_3': 0},\n",
       "  'id': 'b7vxuk',\n",
       "  'is_crosspostable': True,\n",
       "  'is_meta': False,\n",
       "  'is_original_content': False,\n",
       "  'is_reddit_media_domain': False,\n",
       "  'is_robot_indexable': True,\n",
       "  'is_self': True,\n",
       "  'is_video': False,\n",
       "  'link_flair_background_color': '',\n",
       "  'link_flair_richtext': [],\n",
       "  'link_flair_text_color': 'dark',\n",
       "  'link_flair_type': 'text',\n",
       "  'locked': False,\n",
       "  'media_only': False,\n",
       "  'no_follow': True,\n",
       "  'num_comments': 0,\n",
       "  'num_crossposts': 0,\n",
       "  'over_18': False,\n",
       "  'parent_whitelist_status': 'all_ads',\n",
       "  'permalink': '/r/LifeProTips/comments/b7vxuk/lpt_if_you_find_yourself_doing_specificuncommon/',\n",
       "  'pinned': False,\n",
       "  'pwls': 6,\n",
       "  'retrieved_on': 1554084403,\n",
       "  'score': 1,\n",
       "  'selftext': 'If you find yourself having to do some physical stuff like renovating, fixing, or just cleaning up something thats pretty bad either for work or personal and have a digital camera (or a smart phone) take a before and after pic at least (if you remember to). That way you can either show it to a higher up, or save it for later if someone notices it and didn\\'t see the before. \\n\\nEven better in some cases to take some during pics to show some of the process. That way you have some proof that you did it, plus in some cases you could use it to show off your work to maybe get a raise or show future employers the kinds of stuff you did to maybe help you land that new job?\\n\\nPlus you have something to look back at and be like \"yeah I did that, that was all me!\" \\n\\nOr if you crave those sweet sweet fake internet points you can post it on places like reddit and get like dozens of upvotes...... DOZENS of them! \\n\\nProbably wont help those of you in office jobs or ones that deal with computers, sorry. Hope this helps out other people though. ',\n",
       "  'send_replies': True,\n",
       "  'spoiler': False,\n",
       "  'stickied': False,\n",
       "  'subreddit': 'LifeProTips',\n",
       "  'subreddit_id': 't5_2s5oq',\n",
       "  'subreddit_subscribers': 15663324,\n",
       "  'subreddit_type': 'public',\n",
       "  'suggested_sort': 'confidence',\n",
       "  'thumbnail': 'self',\n",
       "  'title': 'LPT: If you find yourself doing specific/uncommon physical tasks for work or for personal use, take a before and after pic at least.',\n",
       "  'url': 'https://www.reddit.com/r/LifeProTips/comments/b7vxuk/lpt_if_you_find_yourself_doing_specificuncommon/',\n",
       "  'whitelist_status': 'all_ads',\n",
       "  'wls': 6},\n",
       " {'author': 'chinchuberry',\n",
       "  'author_flair_css_class': None,\n",
       "  'author_flair_richtext': [],\n",
       "  'author_flair_text': None,\n",
       "  'author_flair_type': 'text',\n",
       "  'author_fullname': 't2_35h31qu4',\n",
       "  'author_patreon_flair': False,\n",
       "  'can_mod_post': False,\n",
       "  'contest_mode': False,\n",
       "  'created_utc': 1554084317,\n",
       "  'domain': 'self.LifeProTips',\n",
       "  'full_link': 'https://www.reddit.com/r/LifeProTips/comments/b7vxbo/dont_ask_a_girl_where_she_wants_to_eat_tell_her/',\n",
       "  'gildings': {'gid_1': 0, 'gid_2': 0, 'gid_3': 0},\n",
       "  'id': 'b7vxbo',\n",
       "  'is_crosspostable': False,\n",
       "  'is_meta': False,\n",
       "  'is_original_content': False,\n",
       "  'is_reddit_media_domain': False,\n",
       "  'is_robot_indexable': False,\n",
       "  'is_self': True,\n",
       "  'is_video': False,\n",
       "  'link_flair_background_color': '',\n",
       "  'link_flair_richtext': [],\n",
       "  'link_flair_text_color': 'dark',\n",
       "  'link_flair_type': 'text',\n",
       "  'locked': False,\n",
       "  'media_only': False,\n",
       "  'no_follow': True,\n",
       "  'num_comments': 2,\n",
       "  'num_crossposts': 0,\n",
       "  'over_18': False,\n",
       "  'parent_whitelist_status': 'all_ads',\n",
       "  'permalink': '/r/LifeProTips/comments/b7vxbo/dont_ask_a_girl_where_she_wants_to_eat_tell_her/',\n",
       "  'pinned': False,\n",
       "  'pwls': 6,\n",
       "  'retrieved_on': 1554084319,\n",
       "  'score': 1,\n",
       "  'selftext': '[removed]',\n",
       "  'send_replies': True,\n",
       "  'spoiler': False,\n",
       "  'stickied': False,\n",
       "  'subreddit': 'LifeProTips',\n",
       "  'subreddit_id': 't5_2s5oq',\n",
       "  'subreddit_subscribers': 15663319,\n",
       "  'subreddit_type': 'public',\n",
       "  'suggested_sort': 'confidence',\n",
       "  'thumbnail': 'self',\n",
       "  'title': \"Don't ask a girl where she wants to eat. Tell her to guess where you are going. Take her to the first guess\",\n",
       "  'url': 'https://www.reddit.com/r/LifeProTips/comments/b7vxbo/dont_ask_a_girl_where_she_wants_to_eat_tell_her/',\n",
       "  'whitelist_status': 'all_ads',\n",
       "  'wls': 6}]"
      ]
     },
     "execution_count": 17,
     "metadata": {},
     "output_type": "execute_result"
    }
   ],
   "source": [
    "response.json()['data']"
   ]
  },
  {
   "cell_type": "markdown",
   "metadata": {},
   "source": [
    "Keys of interest are:\n",
    "- author\n",
    "- body\n",
    "- retrieved_on\n",
    "- created_utc\n",
    "- link_id\n",
    "- parent_id\n",
    "- permalink\n",
    "- subreddit\n",
    "- subreddit_id"
   ]
  },
  {
   "cell_type": "code",
   "execution_count": 18,
   "metadata": {},
   "outputs": [],
   "source": [
    "col_list = ['author',\n",
    "            'title',\n",
    "            'selftext',\n",
    "#             'body',\n",
    "            'retrieved_on'\n",
    "            'subreddit',\n",
    "            'subreddit_id',\n",
    "            'created_utc',\n",
    "            'retrieved_on',\n",
    "            'link_id',\n",
    "            'parent_id',\n",
    "            'permalink',\n",
    "            ]"
   ]
  },
  {
   "cell_type": "markdown",
   "metadata": {},
   "source": [
    " ## Querying Reddit and saving raw data in .json format:"
   ]
  },
  {
   "cell_type": "markdown",
   "metadata": {},
   "source": [
    "Writing a function for creating a logfile and formatting file names with a unique timestamp."
   ]
  },
  {
   "cell_type": "code",
   "execution_count": 19,
   "metadata": {},
   "outputs": [],
   "source": [
    "def filename_format_log(file_path, \n",
    "                        logfile = '../assets/file_log.txt', \n",
    "                        now = round(time.time()), \n",
    "                        file_description = None): \n",
    "   \n",
    "    try:\n",
    "        ext = re.search('(?<!^)(?<!\\.)\\.(?!\\.)', file_path).start() \n",
    "    except:\n",
    "        raise NameError('Please enter a relative path with a file extension.') \n",
    "    \n",
    "    stamp = re.search('(?<!^)(?<!\\.)[a-z]+_[a-z]+(?=\\.)', file_path).start()\n",
    "    formatted_name = f'{file_path[:stamp]}{now}_{file_path[stamp:]}'  \n",
    "    if not file_description:\n",
    "        file_description = f'Pull: {time.asctime(time.gmtime(now))}'\n",
    "    with open(logfile, 'a+') as f:\n",
    "        f.write(f'{formatted_name}: {file_description}\\n')\n",
    "    return formatted_name, now, file_description"
   ]
  },
  {
   "cell_type": "markdown",
   "metadata": {},
   "source": [
    "Writing a function for collecting comments and parsing into a dataframe with the features of interest, saving out the raw data for each pull. Request loop inspired: [(Source)](https://www.reddit.com/r/pushshift/comments/89pxra/pushshift_api_with_large_amounts_of_data/)."
   ]
  },
  {
   "cell_type": "code",
   "execution_count": 42,
   "metadata": {},
   "outputs": [],
   "source": [
    "def reddit_query(subreddits, n_samples=30000, searchType='submission', before=None, after=None):\n",
    "    url = f'https://api.pushshift.io/reddit/search/submission/'\n",
    "    last_post = round(time.time())\n",
    "    post_list = []\n",
    "    \n",
    "    run = 1\n",
    "    while len(post_list) < n_samples:\n",
    "        \n",
    "        try:\n",
    "            print(f'Starting query {run}')\n",
    "            \n",
    "            params = {#'searchType':searchType,\n",
    "              'subreddit':subreddits,\n",
    "              'sort':'desc',\n",
    "              'size':1000,\n",
    "              'before': last_post-1,\n",
    "              'after':after,\n",
    "             }\n",
    "                \n",
    "            response = requests.get(url, params = params)\n",
    "            posts = response.json()['data']\n",
    "            \n",
    "            if len(posts) == 0:\n",
    "                last_post = last_post\n",
    "            else:\n",
    "                last_post = posts[-1]['created_utc']\n",
    "                post_list.extend(posts)\n",
    "                timestamp = posts[-1]['created_utc']\n",
    "                time.sleep(1) \n",
    "                run += 1\n",
    "        except:\n",
    "            if response.status_code != 200:\n",
    "                return f'Check status. Error code: {response.status_code}'\n",
    "            else:\n",
    "                return 'Error. Pull not completed.'\n",
    "    \n",
    "    formatted_name, now, file_description = filename_format_log(file_path =f'../data/raw_{searchType}s.json', now=timestamp)\n",
    "    with open(formatted_name, 'w+') as f:\n",
    "        json.dump(post_list, f)\n",
    "    \n",
    "    print(f'Saved and completed query and returned {len(post_list)} {searchType}s.')\n",
    "    print(f'Reddit text is ready for processing.')\n",
    "    return print(f'Last timestamp was {timestamp}.')"
   ]
  },
  {
   "cell_type": "markdown",
   "metadata": {},
   "source": [
    "Using the query function to collect 15 comments from the conservative subreddit."
   ]
  },
  {
   "cell_type": "code",
   "execution_count": 95,
   "metadata": {},
   "outputs": [
    {
     "name": "stdout",
     "output_type": "stream",
     "text": [
      "Starting query 1\n",
      "Starting query 2\n",
      "Starting query 3\n",
      "Starting query 4\n",
      "Starting query 5\n",
      "Starting query 6\n",
      "Starting query 7\n",
      "Starting query 8\n",
      "Starting query 9\n",
      "Starting query 10\n",
      "Saved and completed query and returned 10000 submissions.\n",
      "Reddit text is ready for processing.\n",
      "Last timestamp was 1549858877.\n"
     ]
    }
   ],
   "source": [
    "reddit_query(subreddits='lifeprotips',\n",
    "             n_samples=10000,\n",
    "             searchType='submission',\n",
    "#              before = '10d',\n",
    "#              after = '168d'\n",
    "            )"
   ]
  },
  {
   "cell_type": "markdown",
   "metadata": {},
   "source": [
    "1553699454"
   ]
  },
  {
   "cell_type": "code",
   "execution_count": 165,
   "metadata": {},
   "outputs": [],
   "source": [
    "with open(f'../data/1549858877_raw_submissions.json', 'r') as f:\n",
    "    lpt_list = json.load(f)"
   ]
  },
  {
   "cell_type": "code",
   "execution_count": 166,
   "metadata": {},
   "outputs": [
    {
     "data": {
      "text/plain": [
       "10000"
      ]
     },
     "execution_count": 166,
     "metadata": {},
     "output_type": "execute_result"
    }
   ],
   "source": [
    "len(lpt_list)"
   ]
  },
  {
   "cell_type": "code",
   "execution_count": 106,
   "metadata": {},
   "outputs": [
    {
     "data": {
      "text/plain": [
       "{'author': 'minigunman123',\n",
       " 'author_flair_css_class': None,\n",
       " 'author_flair_richtext': [],\n",
       " 'author_flair_text': None,\n",
       " 'author_flair_type': 'text',\n",
       " 'author_fullname': 't2_63uak',\n",
       " 'author_patreon_flair': False,\n",
       " 'can_mod_post': False,\n",
       " 'contest_mode': False,\n",
       " 'created_utc': 1554088723,\n",
       " 'domain': 'self.LifeProTips',\n",
       " 'full_link': 'https://www.reddit.com/r/LifeProTips/comments/b7wnp4/if_you_load_a_news_website_with_a_paywall_keep/',\n",
       " 'gildings': {'gid_1': 0, 'gid_2': 0, 'gid_3': 0},\n",
       " 'id': 'b7wnp4',\n",
       " 'is_crosspostable': False,\n",
       " 'is_meta': False,\n",
       " 'is_original_content': False,\n",
       " 'is_reddit_media_domain': False,\n",
       " 'is_robot_indexable': False,\n",
       " 'is_self': True,\n",
       " 'is_video': False,\n",
       " 'link_flair_background_color': '',\n",
       " 'link_flair_richtext': [],\n",
       " 'link_flair_text_color': 'dark',\n",
       " 'link_flair_type': 'text',\n",
       " 'locked': False,\n",
       " 'media_only': False,\n",
       " 'no_follow': True,\n",
       " 'num_comments': 2,\n",
       " 'num_crossposts': 0,\n",
       " 'over_18': False,\n",
       " 'parent_whitelist_status': 'all_ads',\n",
       " 'permalink': '/r/LifeProTips/comments/b7wnp4/if_you_load_a_news_website_with_a_paywall_keep/',\n",
       " 'pinned': False,\n",
       " 'pwls': 6,\n",
       " 'retrieved_on': 1554088724,\n",
       " 'score': 1,\n",
       " 'selftext': '[removed]',\n",
       " 'send_replies': True,\n",
       " 'spoiler': False,\n",
       " 'stickied': False,\n",
       " 'subreddit': 'LifeProTips',\n",
       " 'subreddit_id': 't5_2s5oq',\n",
       " 'subreddit_subscribers': 15663748,\n",
       " 'subreddit_type': 'public',\n",
       " 'suggested_sort': 'confidence',\n",
       " 'thumbnail': 'self',\n",
       " 'title': \"If you load a news website with a paywall, keep refreshing the page and hitting escape quickly so that the paywall doesn't load. As you improve this, you will be able to load the article, but prevent the page from loading the paywall.\",\n",
       " 'url': 'https://www.reddit.com/r/LifeProTips/comments/b7wnp4/if_you_load_a_news_website_with_a_paywall_keep/',\n",
       " 'whitelist_status': 'all_ads',\n",
       " 'wls': 6}"
      ]
     },
     "execution_count": 106,
     "metadata": {},
     "output_type": "execute_result"
    }
   ],
   "source": [
    "lpt_list[0]"
   ]
  },
  {
   "cell_type": "code",
   "execution_count": 99,
   "metadata": {},
   "outputs": [
    {
     "name": "stdout",
     "output_type": "stream",
     "text": [
      "Starting query 1\n",
      "Starting query 2\n",
      "Starting query 3\n",
      "Starting query 4\n",
      "Starting query 5\n",
      "Starting query 6\n",
      "Starting query 7\n",
      "Starting query 8\n",
      "Starting query 9\n",
      "Starting query 10\n",
      "Saved and completed query and returned 10000 submissions.\n",
      "Reddit text is ready for processing.\n",
      "Last timestamp was 1542760866.\n"
     ]
    }
   ],
   "source": [
    "reddit_query(subreddits='unethicallifeprotips',\n",
    "             n_samples=10000,\n",
    "             searchType='submission',\n",
    "#              before = '10d',\n",
    "#              after = '168d'\n",
    "            )"
   ]
  },
  {
   "cell_type": "code",
   "execution_count": 167,
   "metadata": {},
   "outputs": [],
   "source": [
    "with open(f'../data/1542760866_raw_submissions.json', 'r') as f:\n",
    "    ulpt_list = json.load(f)"
   ]
  },
  {
   "cell_type": "code",
   "execution_count": 168,
   "metadata": {},
   "outputs": [
    {
     "data": {
      "text/plain": [
       "{'author': 'ThatNothing',\n",
       " 'author_flair_css_class': None,\n",
       " 'author_flair_richtext': [],\n",
       " 'author_flair_text': None,\n",
       " 'author_flair_type': 'text',\n",
       " 'author_fullname': 't2_3iog3nfl',\n",
       " 'author_patreon_flair': False,\n",
       " 'can_mod_post': False,\n",
       " 'contest_mode': False,\n",
       " 'created_utc': 1554088420,\n",
       " 'domain': 'self.UnethicalLifeProTips',\n",
       " 'full_link': 'https://www.reddit.com/r/UnethicalLifeProTips/comments/b7wm0c/ulpt_request_resume_tips_for_college_grads/',\n",
       " 'gildings': {'gid_1': 0, 'gid_2': 0, 'gid_3': 0},\n",
       " 'id': 'b7wm0c',\n",
       " 'is_crosspostable': False,\n",
       " 'is_meta': False,\n",
       " 'is_original_content': False,\n",
       " 'is_reddit_media_domain': False,\n",
       " 'is_robot_indexable': False,\n",
       " 'is_self': True,\n",
       " 'is_video': False,\n",
       " 'link_flair_background_color': '',\n",
       " 'link_flair_richtext': [],\n",
       " 'link_flair_text_color': 'dark',\n",
       " 'link_flair_type': 'text',\n",
       " 'locked': False,\n",
       " 'media_only': False,\n",
       " 'no_follow': True,\n",
       " 'num_comments': 0,\n",
       " 'num_crossposts': 0,\n",
       " 'over_18': False,\n",
       " 'parent_whitelist_status': 'house_only',\n",
       " 'permalink': '/r/UnethicalLifeProTips/comments/b7wm0c/ulpt_request_resume_tips_for_college_grads/',\n",
       " 'pinned': False,\n",
       " 'pwls': 1,\n",
       " 'retrieved_on': 1554088421,\n",
       " 'score': 1,\n",
       " 'selftext': '[removed]',\n",
       " 'send_replies': True,\n",
       " 'spoiler': False,\n",
       " 'stickied': False,\n",
       " 'subreddit': 'UnethicalLifeProTips',\n",
       " 'subreddit_id': 't5_3cx36',\n",
       " 'subreddit_subscribers': 758816,\n",
       " 'subreddit_type': 'public',\n",
       " 'thumbnail': 'self',\n",
       " 'title': 'ULPT Request: Resume tips for college grads',\n",
       " 'url': 'https://www.reddit.com/r/UnethicalLifeProTips/comments/b7wm0c/ulpt_request_resume_tips_for_college_grads/',\n",
       " 'whitelist_status': 'house_only',\n",
       " 'wls': 1}"
      ]
     },
     "execution_count": 168,
     "metadata": {},
     "output_type": "execute_result"
    }
   ],
   "source": [
    "ulpt_list[0]"
   ]
  },
  {
   "cell_type": "markdown",
   "metadata": {},
   "source": [
    "Parsing the json file into a dataframe containing the features of interest."
   ]
  },
  {
   "cell_type": "code",
   "execution_count": 169,
   "metadata": {},
   "outputs": [],
   "source": [
    "def reddit_parse(sample, df):\n",
    "    \n",
    "    col_list = ['author',\n",
    "                'title',\n",
    "#                 'selftext',\n",
    "#                 'body',\n",
    "#                 'retrieved_on'\n",
    "                'subreddit',\n",
    "#                 'subreddit_id',\n",
    "#                 'created_utc',\n",
    "#                 'retrieved_on',\n",
    "#                 'link_id',\n",
    "#                 'parent_id',\n",
    "                'permalink',\n",
    "                ]\n",
    "    \n",
    "    df = pd.DataFrame(sample)\n",
    "    df = df[col_list]\n",
    "    \n",
    "    df.rename(columns={'subreddit':'subreddit'}, inplace=True)\n",
    "#     df['subreddit'] = df['subreddit'].map({'unethicallifeprotips':0, 'lifeprotips':1})\n",
    "    \n",
    "    col_order = ['author',\n",
    "                'title',\n",
    "#                 'selftext',\n",
    "#                 'body',\n",
    "#                 'retrieved_on'\n",
    "                'subreddit',\n",
    "#                 'subreddit_id',\n",
    "#                 'created_utc',\n",
    "#                 'retrieved_on',\n",
    "#                 'link_id',\n",
    "#                 'parent_id',\n",
    "                'permalink',\n",
    "                ]\n",
    "\n",
    "    return df[col_order]"
   ]
  },
  {
   "cell_type": "markdown",
   "metadata": {},
   "source": [
    "Reviewing the shape of the dataframe to ensure correct transformation"
   ]
  },
  {
   "cell_type": "code",
   "execution_count": 170,
   "metadata": {},
   "outputs": [],
   "source": [
    "df_lpt = reddit_parse(lpt_list, df = 'df_lpt')"
   ]
  },
  {
   "cell_type": "code",
   "execution_count": 171,
   "metadata": {},
   "outputs": [],
   "source": [
    "df_ulpt = reddit_parse(ulpt_list, df = 'df_ulpt')"
   ]
  },
  {
   "cell_type": "code",
   "execution_count": 172,
   "metadata": {},
   "outputs": [],
   "source": [
    "frames = [df_lpt, df_ulpt]"
   ]
  },
  {
   "cell_type": "code",
   "execution_count": 173,
   "metadata": {},
   "outputs": [],
   "source": [
    "df = pd.concat(frames, ignore_index=True)"
   ]
  },
  {
   "cell_type": "code",
   "execution_count": 174,
   "metadata": {},
   "outputs": [
    {
     "data": {
      "text/html": [
       "<div>\n",
       "<style scoped>\n",
       "    .dataframe tbody tr th:only-of-type {\n",
       "        vertical-align: middle;\n",
       "    }\n",
       "\n",
       "    .dataframe tbody tr th {\n",
       "        vertical-align: top;\n",
       "    }\n",
       "\n",
       "    .dataframe thead th {\n",
       "        text-align: right;\n",
       "    }\n",
       "</style>\n",
       "<table border=\"1\" class=\"dataframe\">\n",
       "  <thead>\n",
       "    <tr style=\"text-align: right;\">\n",
       "      <th></th>\n",
       "      <th>author</th>\n",
       "      <th>title</th>\n",
       "      <th>subreddit</th>\n",
       "      <th>permalink</th>\n",
       "    </tr>\n",
       "  </thead>\n",
       "  <tbody>\n",
       "    <tr>\n",
       "      <th>19995</th>\n",
       "      <td>existentialzebra</td>\n",
       "      <td>As a parent of a baby, smell your baby’s diape...</td>\n",
       "      <td>UnethicalLifeProTips</td>\n",
       "      <td>/r/UnethicalLifeProTips/comments/9yym50/as_a_p...</td>\n",
       "    </tr>\n",
       "    <tr>\n",
       "      <th>19996</th>\n",
       "      <td>shercroft</td>\n",
       "      <td>ULPT Hey kids, rather than search through your...</td>\n",
       "      <td>UnethicalLifeProTips</td>\n",
       "      <td>/r/UnethicalLifeProTips/comments/9yyigh/ulpt_h...</td>\n",
       "    </tr>\n",
       "    <tr>\n",
       "      <th>19997</th>\n",
       "      <td>Jojda6</td>\n",
       "      <td>How to Receive a Double Refund from Amazon</td>\n",
       "      <td>UnethicalLifeProTips</td>\n",
       "      <td>/r/UnethicalLifeProTips/comments/9yyc7m/how_to...</td>\n",
       "    </tr>\n",
       "    <tr>\n",
       "      <th>19998</th>\n",
       "      <td>TheBaconestCow</td>\n",
       "      <td>ULPT I don't know the specifics, basically whe...</td>\n",
       "      <td>UnethicalLifeProTips</td>\n",
       "      <td>/r/UnethicalLifeProTips/comments/9yybak/ulpt_i...</td>\n",
       "    </tr>\n",
       "    <tr>\n",
       "      <th>19999</th>\n",
       "      <td>TheBaconestCow</td>\n",
       "      <td>I don't know the specifics here, basically whe...</td>\n",
       "      <td>UnethicalLifeProTips</td>\n",
       "      <td>/r/UnethicalLifeProTips/comments/9yy7b6/i_dont...</td>\n",
       "    </tr>\n",
       "  </tbody>\n",
       "</table>\n",
       "</div>"
      ],
      "text/plain": [
       "                 author                                              title  \\\n",
       "19995  existentialzebra  As a parent of a baby, smell your baby’s diape...   \n",
       "19996         shercroft  ULPT Hey kids, rather than search through your...   \n",
       "19997            Jojda6         How to Receive a Double Refund from Amazon   \n",
       "19998    TheBaconestCow  ULPT I don't know the specifics, basically whe...   \n",
       "19999    TheBaconestCow  I don't know the specifics here, basically whe...   \n",
       "\n",
       "                  subreddit                                          permalink  \n",
       "19995  UnethicalLifeProTips  /r/UnethicalLifeProTips/comments/9yym50/as_a_p...  \n",
       "19996  UnethicalLifeProTips  /r/UnethicalLifeProTips/comments/9yyigh/ulpt_h...  \n",
       "19997  UnethicalLifeProTips  /r/UnethicalLifeProTips/comments/9yyc7m/how_to...  \n",
       "19998  UnethicalLifeProTips  /r/UnethicalLifeProTips/comments/9yybak/ulpt_i...  \n",
       "19999  UnethicalLifeProTips  /r/UnethicalLifeProTips/comments/9yy7b6/i_dont...  "
      ]
     },
     "execution_count": 174,
     "metadata": {},
     "output_type": "execute_result"
    }
   ],
   "source": [
    "df.tail()"
   ]
  },
  {
   "cell_type": "code",
   "execution_count": 175,
   "metadata": {},
   "outputs": [],
   "source": [
    "df['subreddit'] = df['subreddit'].map({'LifeProTips': 0, 'UnethicalLifeProTips': 1})"
   ]
  },
  {
   "cell_type": "code",
   "execution_count": 176,
   "metadata": {},
   "outputs": [
    {
     "data": {
      "text/plain": [
       "(20000, 4)"
      ]
     },
     "execution_count": 176,
     "metadata": {},
     "output_type": "execute_result"
    }
   ],
   "source": [
    "df.shape"
   ]
  },
  {
   "cell_type": "markdown",
   "metadata": {},
   "source": [
    "Shape corresponds with expected values. Reviewing the head of the dataframe to ensure data was correctly labeled. "
   ]
  },
  {
   "cell_type": "code",
   "execution_count": 177,
   "metadata": {},
   "outputs": [
    {
     "data": {
      "text/html": [
       "<div>\n",
       "<style scoped>\n",
       "    .dataframe tbody tr th:only-of-type {\n",
       "        vertical-align: middle;\n",
       "    }\n",
       "\n",
       "    .dataframe tbody tr th {\n",
       "        vertical-align: top;\n",
       "    }\n",
       "\n",
       "    .dataframe thead th {\n",
       "        text-align: right;\n",
       "    }\n",
       "</style>\n",
       "<table border=\"1\" class=\"dataframe\">\n",
       "  <thead>\n",
       "    <tr style=\"text-align: right;\">\n",
       "      <th></th>\n",
       "      <th>author</th>\n",
       "      <th>title</th>\n",
       "      <th>subreddit</th>\n",
       "      <th>permalink</th>\n",
       "    </tr>\n",
       "  </thead>\n",
       "  <tbody>\n",
       "    <tr>\n",
       "      <th>0</th>\n",
       "      <td>minigunman123</td>\n",
       "      <td>If you load a news website with a paywall, kee...</td>\n",
       "      <td>0</td>\n",
       "      <td>/r/LifeProTips/comments/b7wnp4/if_you_load_a_n...</td>\n",
       "    </tr>\n",
       "    <tr>\n",
       "      <th>1</th>\n",
       "      <td>Justinjp126</td>\n",
       "      <td>LPT: So you know those little pieces of detach...</td>\n",
       "      <td>0</td>\n",
       "      <td>/r/LifeProTips/comments/b7wnm4/lpt_so_you_know...</td>\n",
       "    </tr>\n",
       "    <tr>\n",
       "      <th>2</th>\n",
       "      <td>TheFormulaS</td>\n",
       "      <td>LPT: Use a pistachio shell to help you open a ...</td>\n",
       "      <td>0</td>\n",
       "      <td>/r/LifeProTips/comments/b7wnja/lpt_use_a_pista...</td>\n",
       "    </tr>\n",
       "    <tr>\n",
       "      <th>3</th>\n",
       "      <td>NullandRandom</td>\n",
       "      <td>LPT: Whenever you buy food combos but you know...</td>\n",
       "      <td>0</td>\n",
       "      <td>/r/LifeProTips/comments/b7wney/lpt_whenever_yo...</td>\n",
       "    </tr>\n",
       "    <tr>\n",
       "      <th>4</th>\n",
       "      <td>Serenitybyjan88</td>\n",
       "      <td>LPT: Take a picture or video of yourself doing...</td>\n",
       "      <td>0</td>\n",
       "      <td>/r/LifeProTips/comments/b7wncl/lpt_take_a_pict...</td>\n",
       "    </tr>\n",
       "  </tbody>\n",
       "</table>\n",
       "</div>"
      ],
      "text/plain": [
       "            author                                              title  \\\n",
       "0    minigunman123  If you load a news website with a paywall, kee...   \n",
       "1      Justinjp126  LPT: So you know those little pieces of detach...   \n",
       "2      TheFormulaS  LPT: Use a pistachio shell to help you open a ...   \n",
       "3    NullandRandom  LPT: Whenever you buy food combos but you know...   \n",
       "4  Serenitybyjan88  LPT: Take a picture or video of yourself doing...   \n",
       "\n",
       "   subreddit                                          permalink  \n",
       "0          0  /r/LifeProTips/comments/b7wnp4/if_you_load_a_n...  \n",
       "1          0  /r/LifeProTips/comments/b7wnm4/lpt_so_you_know...  \n",
       "2          0  /r/LifeProTips/comments/b7wnja/lpt_use_a_pista...  \n",
       "3          0  /r/LifeProTips/comments/b7wney/lpt_whenever_yo...  \n",
       "4          0  /r/LifeProTips/comments/b7wncl/lpt_take_a_pict...  "
      ]
     },
     "execution_count": 177,
     "metadata": {},
     "output_type": "execute_result"
    }
   ],
   "source": [
    "df.head()"
   ]
  },
  {
   "cell_type": "code",
   "execution_count": 178,
   "metadata": {},
   "outputs": [
    {
     "data": {
      "text/plain": [
       "19742"
      ]
     },
     "execution_count": 178,
     "metadata": {},
     "output_type": "execute_result"
    }
   ],
   "source": [
    "df['title'].nunique()"
   ]
  },
  {
   "cell_type": "code",
   "execution_count": 179,
   "metadata": {},
   "outputs": [],
   "source": [
    "df.drop_duplicates(subset = 'title', inplace = True)"
   ]
  },
  {
   "cell_type": "code",
   "execution_count": 180,
   "metadata": {},
   "outputs": [
    {
     "data": {
      "text/plain": [
       "1    9909\n",
       "0    9833\n",
       "Name: subreddit, dtype: int64"
      ]
     },
     "execution_count": 180,
     "metadata": {},
     "output_type": "execute_result"
    }
   ],
   "source": [
    "df.subreddit.value_counts()"
   ]
  },
  {
   "cell_type": "code",
   "execution_count": 181,
   "metadata": {},
   "outputs": [],
   "source": [
    "df['title'] = df['title'].map(lambda x: x.lstrip('ULPT'))"
   ]
  },
  {
   "cell_type": "code",
   "execution_count": 182,
   "metadata": {},
   "outputs": [],
   "source": [
    "df['title'] = df['title'].map(lambda x: x.lstrip('LPT'))"
   ]
  },
  {
   "cell_type": "code",
   "execution_count": 183,
   "metadata": {},
   "outputs": [],
   "source": [
    "df['title'] = df['title'].map(lambda x: x.lstrip(':'))"
   ]
  },
  {
   "cell_type": "code",
   "execution_count": 184,
   "metadata": {},
   "outputs": [],
   "source": [
    "df['title'] = df['title'].map(lambda x: x.lstrip(' '))"
   ]
  },
  {
   "cell_type": "code",
   "execution_count": 185,
   "metadata": {},
   "outputs": [
    {
     "data": {
      "text/plain": [
       "13917"
      ]
     },
     "execution_count": 185,
     "metadata": {},
     "output_type": "execute_result"
    }
   ],
   "source": [
    "df['author'].nunique()"
   ]
  },
  {
   "cell_type": "code",
   "execution_count": 186,
   "metadata": {},
   "outputs": [],
   "source": [
    "df.to_csv('../data/combined_df.csv', index = False)"
   ]
  },
  {
   "cell_type": "code",
   "execution_count": null,
   "metadata": {},
   "outputs": [],
   "source": []
  }
 ],
 "metadata": {
  "kernelspec": {
   "display_name": "Python 3",
   "language": "python",
   "name": "python3"
  },
  "language_info": {
   "codemirror_mode": {
    "name": "ipython",
    "version": 3
   },
   "file_extension": ".py",
   "mimetype": "text/x-python",
   "name": "python",
   "nbconvert_exporter": "python",
   "pygments_lexer": "ipython3",
   "version": "3.7.2"
  }
 },
 "nbformat": 4,
 "nbformat_minor": 2
}
