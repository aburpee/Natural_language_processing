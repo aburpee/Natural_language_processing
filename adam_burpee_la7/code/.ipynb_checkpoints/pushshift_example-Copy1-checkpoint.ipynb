{
 "cells": [
  {
   "cell_type": "markdown",
   "metadata": {},
   "source": [
    "# Using the Pushshift API\n",
    "\n",
    "Pushshift is a service that archives and indexes Reddit at regular intervals. It allows for higher-level search functionality and querying for Reddit comments and submissions, facilitating data collection for analysis and modeling. It leverages the requests library to return a json response that can then be parsed for the data of interest.\n",
    "\n",
    "Resources: \n",
    "- Pushshift Endpoints: https://pushshift.io/\n",
    "- Pushshift Documentation: https://github.com/pushshift/api\n",
    "- Pushshift Subreddit: https://www.reddit.com/r/pushshift/comments/89pxra/pushshift_api_with_large_amounts_of_data/\n"
   ]
  },
  {
   "cell_type": "code",
   "execution_count": 1,
   "metadata": {},
   "outputs": [],
   "source": [
    "import requests, time, csv, json, re\n",
    "import pandas as pd"
   ]
  },
  {
   "cell_type": "markdown",
   "metadata": {},
   "source": [
    "## Setting the base query syntax:"
   ]
  },
  {
   "cell_type": "markdown",
   "metadata": {},
   "source": [
    "Setting the query url to the pushshift api"
   ]
  },
  {
   "cell_type": "code",
   "execution_count": 2,
   "metadata": {},
   "outputs": [],
   "source": [
    "url = 'https://api.pushshift.io/reddit/search/'"
   ]
  },
  {
   "cell_type": "markdown",
   "metadata": {},
   "source": [
    "Setting the parameters for the query. A full list of parameters can be found on: https://pushshift.io/api-parameters/"
   ]
  },
  {
   "cell_type": "code",
   "execution_count": 3,
   "metadata": {},
   "outputs": [],
   "source": [
    "params = {'searchType':'submission',\n",
    "          'subreddit':'conservative,libertarian',\n",
    "          'sort':'desc',\n",
    "          'size':10,\n",
    "#           'before':,\n",
    "#           'after':,\n",
    "         }"
   ]
  },
  {
   "cell_type": "markdown",
   "metadata": {},
   "source": [
    "Making the request."
   ]
  },
  {
   "cell_type": "code",
   "execution_count": 4,
   "metadata": {},
   "outputs": [],
   "source": [
    "response = requests.get(url, params=params)"
   ]
  },
  {
   "cell_type": "markdown",
   "metadata": {},
   "source": [
    "Checking the url to make sure the query terms are correct and the server is responsive"
   ]
  },
  {
   "cell_type": "code",
   "execution_count": 5,
   "metadata": {},
   "outputs": [
    {
     "data": {
      "text/plain": [
       "200"
      ]
     },
     "execution_count": 5,
     "metadata": {},
     "output_type": "execute_result"
    }
   ],
   "source": [
    "response.status_code"
   ]
  },
  {
   "cell_type": "markdown",
   "metadata": {},
   "source": [
    "The status code returned from the server is 200, meaning the query was accepted and there aren't any connection issues. Checking length of the json file."
   ]
  },
  {
   "cell_type": "code",
   "execution_count": 6,
   "metadata": {},
   "outputs": [
    {
     "data": {
      "text/plain": [
       "10"
      ]
     },
     "execution_count": 6,
     "metadata": {},
     "output_type": "execute_result"
    }
   ],
   "source": [
    "len(response.json()['data'])"
   ]
  },
  {
   "cell_type": "markdown",
   "metadata": {},
   "source": [
    "Length is 10, as expected. Assessing the file structure for keys of interest."
   ]
  },
  {
   "cell_type": "code",
   "execution_count": 13,
   "metadata": {},
   "outputs": [
    {
     "data": {
      "text/plain": [
       "[{'author': '[deleted]',\n",
       "  'author_flair_background_color': '',\n",
       "  'author_flair_css_class': None,\n",
       "  'author_flair_template_id': None,\n",
       "  'author_flair_text': None,\n",
       "  'author_flair_text_color': 'dark',\n",
       "  'body': '[removed]',\n",
       "  'created_utc': 1553727783,\n",
       "  'gildings': {'gid_1': 0, 'gid_2': 0, 'gid_3': 0},\n",
       "  'id': 'ejj6hw8',\n",
       "  'link_id': 't3_b650hr',\n",
       "  'no_follow': True,\n",
       "  'parent_id': 't3_b650hr',\n",
       "  'permalink': '/r/Conservative/comments/b650hr/funny_how_it_is_conservatives_who_must_accept/ejj6hw8/',\n",
       "  'retrieved_on': 1553727784,\n",
       "  'score': 1,\n",
       "  'send_replies': True,\n",
       "  'stickied': False,\n",
       "  'subreddit': 'Conservative',\n",
       "  'subreddit_id': 't5_2qh6p'},\n",
       " {'author': 'yourmothersbhole',\n",
       "  'author_flair_background_color': None,\n",
       "  'author_flair_css_class': None,\n",
       "  'author_flair_richtext': [],\n",
       "  'author_flair_template_id': None,\n",
       "  'author_flair_text': None,\n",
       "  'author_flair_text_color': None,\n",
       "  'author_flair_type': 'text',\n",
       "  'author_fullname': 't2_2tz0m7s4',\n",
       "  'author_patreon_flair': False,\n",
       "  'body': 'He’s saying he married a cunt. ',\n",
       "  'created_utc': 1553727776,\n",
       "  'gildings': {'gid_1': 0, 'gid_2': 0, 'gid_3': 0},\n",
       "  'id': 'ejj6hjc',\n",
       "  'link_id': 't3_b67txe',\n",
       "  'no_follow': True,\n",
       "  'parent_id': 't1_ejj0ge8',\n",
       "  'permalink': '/r/Libertarian/comments/b67txe/a_libertarian_attempts_to_go_on_a_date/ejj6hjc/',\n",
       "  'retrieved_on': 1553727777,\n",
       "  'score': 1,\n",
       "  'send_replies': True,\n",
       "  'stickied': False,\n",
       "  'subreddit': 'Libertarian',\n",
       "  'subreddit_id': 't5_2qh63'},\n",
       " {'author': '-KingAdrock-',\n",
       "  'author_flair_background_color': None,\n",
       "  'author_flair_css_class': None,\n",
       "  'author_flair_richtext': [],\n",
       "  'author_flair_template_id': None,\n",
       "  'author_flair_text': None,\n",
       "  'author_flair_text_color': None,\n",
       "  'author_flair_type': 'text',\n",
       "  'author_fullname': 't2_vg1z5',\n",
       "  'author_patreon_flair': False,\n",
       "  'body': \"Except that assumes the last 250+ years would have been exactly the same *without* the 2ndA.  \\n\\n\\nThat's a stupid assumption.\",\n",
       "  'created_utc': 1553727765,\n",
       "  'gildings': {'gid_1': 0, 'gid_2': 0, 'gid_3': 0},\n",
       "  'id': 'ejj6h1h',\n",
       "  'link_id': 't3_b67v40',\n",
       "  'no_follow': True,\n",
       "  'parent_id': 't1_ejiiy4a',\n",
       "  'permalink': '/r/Libertarian/comments/b67v40/is_the_2nd_amendment_is_meant_to_keep_our/ejj6h1h/',\n",
       "  'retrieved_on': 1553727767,\n",
       "  'score': 1,\n",
       "  'send_replies': True,\n",
       "  'stickied': False,\n",
       "  'subreddit': 'Libertarian',\n",
       "  'subreddit_id': 't5_2qh63'},\n",
       " {'author': 'whater39',\n",
       "  'author_flair_background_color': None,\n",
       "  'author_flair_css_class': None,\n",
       "  'author_flair_richtext': [],\n",
       "  'author_flair_template_id': None,\n",
       "  'author_flair_text': None,\n",
       "  'author_flair_text_color': None,\n",
       "  'author_flair_type': 'text',\n",
       "  'author_fullname': 't2_79m4x',\n",
       "  'author_patreon_flair': False,\n",
       "  'body': \"I'm 41, and I would smash my 20 year old self. I'm a lot bigger then I was at 20. And my knowledge of fighting is a lot higher (I would go from no knowledge, to my current level).  \\n\\n\\nWhat I know from my Jiu Jitsu training. It's another world on the ground, if you don't know you are doing, someone much smaller then you is going to reverse then own you. I got tapped so many times in BJJ from smaller/weaker opponents (including women) when I first started off. I have much more knowledge now, and I wouldn't make the rookie mistakes that I was making (getting caught in triangles). But BJJ taught me skill matters alot, and only when the skill level difference is similar then does size matter. And you need enough time sparring to really understand how to do things (youtube tutorials only help so much). \\n\\n&amp;#x200B;\\n\\nToo many people feel a gun is their only protection. But what if it jams or you get disarmed or you don't have it on you. Then all the sudden you might be fighting for your life. Better to have the skills that would result in you living. You don't want to be learning how to fight, when you are in the middle of a fight.\",\n",
       "  'created_utc': 1553727751,\n",
       "  'gildings': {'gid_1': 0, 'gid_2': 0, 'gid_3': 0},\n",
       "  'id': 'ejj6gb3',\n",
       "  'link_id': 't3_b601ab',\n",
       "  'no_follow': True,\n",
       "  'parent_id': 't1_ejipz6o',\n",
       "  'permalink': '/r/Libertarian/comments/b601ab/antigun_is_prorape/ejj6gb3/',\n",
       "  'retrieved_on': 1553727752,\n",
       "  'score': 1,\n",
       "  'send_replies': True,\n",
       "  'stickied': False,\n",
       "  'subreddit': 'Libertarian',\n",
       "  'subreddit_id': 't5_2qh63'},\n",
       " {'author': 'HelperBot_',\n",
       "  'author_flair_background_color': None,\n",
       "  'author_flair_css_class': None,\n",
       "  'author_flair_richtext': [],\n",
       "  'author_flair_template_id': None,\n",
       "  'author_flair_text': None,\n",
       "  'author_flair_text_color': None,\n",
       "  'author_flair_type': 'text',\n",
       "  'author_fullname': 't2_owot1',\n",
       "  'author_patreon_flair': False,\n",
       "  'body': 'Desktop link: https://en.wikipedia.org/wiki/Bundy_standoff\\n***\\n ^^/r/HelperBot_ ^^Downvote ^^to ^^remove. ^^Counter: ^^247173',\n",
       "  'created_utc': 1553727746,\n",
       "  'gildings': {'gid_1': 0, 'gid_2': 0, 'gid_3': 0},\n",
       "  'id': 'ejj6g2u',\n",
       "  'link_id': 't3_b67v40',\n",
       "  'no_follow': True,\n",
       "  'parent_id': 't1_ejj6f1z',\n",
       "  'permalink': '/r/Libertarian/comments/b67v40/is_the_2nd_amendment_is_meant_to_keep_our/ejj6g2u/',\n",
       "  'retrieved_on': 1553727748,\n",
       "  'score': 1,\n",
       "  'send_replies': True,\n",
       "  'stickied': False,\n",
       "  'subreddit': 'Libertarian',\n",
       "  'subreddit_id': 't5_2qh63'},\n",
       " {'author': 'WikiTextBot',\n",
       "  'author_flair_background_color': None,\n",
       "  'author_flair_css_class': None,\n",
       "  'author_flair_richtext': [],\n",
       "  'author_flair_template_id': None,\n",
       "  'author_flair_text': None,\n",
       "  'author_flair_text_color': None,\n",
       "  'author_flair_type': 'text',\n",
       "  'author_fullname': 't2_32duad4',\n",
       "  'author_patreon_flair': False,\n",
       "  'body': '**Bundy standoff**\\n\\nThe 2014 Bundy standoff was an armed confrontation between supporters of cattle rancher Cliven Bundy and law enforcement following a 21-year legal dispute in which the United States Bureau of Land Management (BLM) obtained court orders directing Bundy to pay over $1 million in withheld grazing fees for Bundy\\'s use of federally-owned land adjacent to Bundy\\'s ranch in southeastern Nevada.\\n\\nOn March 27, 2014, 145,604 acres of federal land in Clark County were temporarily closed for the \"capture, impound, and removal of trespass cattle.\" BLM officials and law enforcement rangers began a roundup of such livestock on April 5, and Cliven Bundy\\'s son, Dave, was arrested. On April 12, 2014, a group of protesters, some of them armed, approached the BLM \"cattle gather\". Sheriff Doug Gillespie negotiated with Bundy and newly-confirmed BLM director Neil Kornze, who elected to release the cattle and de-escalate the situation.\\n\\n***\\n\\n^[ [^PM](https://www.reddit.com/message/compose?to=kittens_from_space) ^| [^Exclude ^me](https://reddit.com/message/compose?to=WikiTextBot&amp;message=Excludeme&amp;subject=Excludeme) ^| [^Exclude ^from ^subreddit](https://np.reddit.com/r/Libertarian/about/banned) ^| [^FAQ ^/ ^Information](https://np.reddit.com/r/WikiTextBot/wiki/index) ^| [^Source](https://github.com/kittenswolf/WikiTextBot)   ^]\\n^Downvote ^to ^remove ^| ^v0.28',\n",
       "  'created_utc': 1553727736,\n",
       "  'gildings': {'gid_1': 0, 'gid_2': 0, 'gid_3': 0},\n",
       "  'id': 'ejj6fke',\n",
       "  'link_id': 't3_b67v40',\n",
       "  'no_follow': True,\n",
       "  'parent_id': 't1_ejj6f1z',\n",
       "  'permalink': '/r/Libertarian/comments/b67v40/is_the_2nd_amendment_is_meant_to_keep_our/ejj6fke/',\n",
       "  'retrieved_on': 1553727738,\n",
       "  'score': 1,\n",
       "  'send_replies': True,\n",
       "  'stickied': False,\n",
       "  'subreddit': 'Libertarian',\n",
       "  'subreddit_id': 't5_2qh63'},\n",
       " {'author': 'killalltheroaches',\n",
       "  'author_flair_background_color': None,\n",
       "  'author_flair_css_class': None,\n",
       "  'author_flair_richtext': [],\n",
       "  'author_flair_template_id': None,\n",
       "  'author_flair_text': None,\n",
       "  'author_flair_text_color': None,\n",
       "  'author_flair_type': 'text',\n",
       "  'author_fullname': 't2_zz56f',\n",
       "  'author_patreon_flair': False,\n",
       "  'body': '[Because a few idiots with guns could never beat the almighty US government. ](https://en.m.wikipedia.org/wiki/Bundy_standoff)',\n",
       "  'created_utc': 1553727727,\n",
       "  'gildings': {'gid_1': 0, 'gid_2': 0, 'gid_3': 0},\n",
       "  'id': 'ejj6f1z',\n",
       "  'link_id': 't3_b67v40',\n",
       "  'no_follow': True,\n",
       "  'parent_id': 't1_ejitcdh',\n",
       "  'permalink': '/r/Libertarian/comments/b67v40/is_the_2nd_amendment_is_meant_to_keep_our/ejj6f1z/',\n",
       "  'retrieved_on': 1553727728,\n",
       "  'score': 1,\n",
       "  'send_replies': True,\n",
       "  'stickied': False,\n",
       "  'subreddit': 'Libertarian',\n",
       "  'subreddit_id': 't5_2qh63'},\n",
       " {'author': 'TheDailyCosco',\n",
       "  'author_flair_background_color': '',\n",
       "  'author_flair_css_class': 'Conservative',\n",
       "  'author_flair_richtext': [{'e': 'text', 't': 'Conservative'}],\n",
       "  'author_flair_template_id': '421b644c-8b38-11e1-bc5f-12313d18ad57',\n",
       "  'author_flair_text': 'Conservative',\n",
       "  'author_flair_text_color': 'dark',\n",
       "  'author_flair_type': 'richtext',\n",
       "  'author_fullname': 't2_30vro8jr',\n",
       "  'author_patreon_flair': False,\n",
       "  'body': 'I agree. I do think that it would have to be someone legitimately connected to Trump to succeed though. Haley is on the list.',\n",
       "  'created_utc': 1553727725,\n",
       "  'gildings': {'gid_1': 0, 'gid_2': 0, 'gid_3': 0},\n",
       "  'id': 'ejj6eyd',\n",
       "  'link_id': 't3_b6aufo',\n",
       "  'no_follow': True,\n",
       "  'parent_id': 't1_ejj6898',\n",
       "  'permalink': '/r/Conservative/comments/b6aufo/poll_majority_of_registered_voters_are_open_to/ejj6eyd/',\n",
       "  'retrieved_on': 1553727726,\n",
       "  'score': 1,\n",
       "  'send_replies': True,\n",
       "  'stickied': False,\n",
       "  'subreddit': 'Conservative',\n",
       "  'subreddit_id': 't5_2qh6p'},\n",
       " {'author': 'shamus4mwcrew',\n",
       "  'author_flair_background_color': '',\n",
       "  'author_flair_css_class': 'Libertarian Conservative',\n",
       "  'author_flair_richtext': [{'e': 'text', 't': 'Libertarian Conservative'}],\n",
       "  'author_flair_template_id': '6f4730d6-8b38-11e1-b67a-12313d096aae',\n",
       "  'author_flair_text': 'Libertarian Conservative',\n",
       "  'author_flair_text_color': 'dark',\n",
       "  'author_flair_type': 'richtext',\n",
       "  'author_fullname': 't2_bw9tu',\n",
       "  'author_patreon_flair': False,\n",
       "  'body': \"It makes sense when you think about when for the past few years their media has been written like a tabloid.  It's not about whatever world event it's about what Trump or some other Republican said or did that they found offensive.  I mean /r/politics is a prime example of this you actually come out less informed after leaving there and plenty of people that use this site go there thinking they're being informed.  For the past few years they've only really had 5 different stories and the numer 1 has been this Russia stuff and still is.  I even understand covering it somewhat but not to the level that the media does.  I mean the half hour nightly news is actually more informative and to the point then 24 hours of like CNN and 10 of those minutes is about sports and the weather.\\n\",\n",
       "  'created_utc': 1553727670,\n",
       "  'gildings': {'gid_1': 0, 'gid_2': 0, 'gid_3': 0},\n",
       "  'id': 'ejj6c5y',\n",
       "  'link_id': 't3_b67wys',\n",
       "  'no_follow': True,\n",
       "  'parent_id': 't3_b67wys',\n",
       "  'permalink': '/r/Conservative/comments/b67wys/republicans_more_informed_than_democrats/ejj6c5y/',\n",
       "  'retrieved_on': 1553727672,\n",
       "  'score': 1,\n",
       "  'send_replies': True,\n",
       "  'stickied': False,\n",
       "  'subreddit': 'Conservative',\n",
       "  'subreddit_id': 't5_2qh6p'},\n",
       " {'author': 'Polske322',\n",
       "  'author_flair_background_color': None,\n",
       "  'author_flair_css_class': None,\n",
       "  'author_flair_richtext': [],\n",
       "  'author_flair_template_id': None,\n",
       "  'author_flair_text': None,\n",
       "  'author_flair_text_color': None,\n",
       "  'author_flair_type': 'text',\n",
       "  'author_fullname': 't2_7hu41',\n",
       "  'author_patreon_flair': False,\n",
       "  'body': 'It’s because of a fundamental difference in the interpretation of what “Liberty” means. Someone can view public transit and universal healthcare, for example, as actually *increasing* the liberty of the individual by allowing them to actually work more and earn more money without reliance on wealth from previous generations.',\n",
       "  'created_utc': 1553727624,\n",
       "  'gildings': {'gid_1': 0, 'gid_2': 0, 'gid_3': 0},\n",
       "  'id': 'ejj69ui',\n",
       "  'link_id': 't3_b67txe',\n",
       "  'no_follow': True,\n",
       "  'parent_id': 't1_ejj5met',\n",
       "  'permalink': '/r/Libertarian/comments/b67txe/a_libertarian_attempts_to_go_on_a_date/ejj69ui/',\n",
       "  'retrieved_on': 1553727625,\n",
       "  'score': 1,\n",
       "  'send_replies': True,\n",
       "  'stickied': False,\n",
       "  'subreddit': 'Libertarian',\n",
       "  'subreddit_id': 't5_2qh63'}]"
      ]
     },
     "execution_count": 13,
     "metadata": {},
     "output_type": "execute_result"
    }
   ],
   "source": [
    "response.json()['data']"
   ]
  },
  {
   "cell_type": "markdown",
   "metadata": {},
   "source": [
    "Keys of interest are:\n",
    "- author\n",
    "- body\n",
    "- created_utc\n",
    "- link_id\n",
    "- parent_id\n",
    "- permalink\n",
    "- subreddit\n",
    "- subreddit_id"
   ]
  },
  {
   "cell_type": "code",
   "execution_count": 11,
   "metadata": {},
   "outputs": [],
   "source": [
    "col_list = ['author',\n",
    "            'body',\n",
    "            'subreddit',\n",
    "            'subreddit_id',\n",
    "            'created_utc',\n",
    "            'retrieved_on',\n",
    "            'link_id',\n",
    "            'parent_id',\n",
    "            'permalink',\n",
    "            ]"
   ]
  },
  {
   "cell_type": "markdown",
   "metadata": {},
   "source": [
    " ## Querying Reddit and saving raw data in .json format:"
   ]
  },
  {
   "cell_type": "markdown",
   "metadata": {},
   "source": [
    "Writing a function for creating a logfile and formatting file names with a unique timestamp."
   ]
  },
  {
   "cell_type": "code",
   "execution_count": 12,
   "metadata": {},
   "outputs": [],
   "source": [
    "def filename_format_log(file_path, \n",
    "                        logfile = '../assets/file_log.txt', \n",
    "                        now = round(time.time()), \n",
    "                        file_description = None): \n",
    "   \n",
    "    try:\n",
    "        ext = re.search('(?<!^)(?<!\\.)\\.(?!\\.)', file_path).start() \n",
    "    except:\n",
    "        raise NameError('Please enter a relative path with a file extension.') \n",
    "    \n",
    "    stamp = re.search('(?<!^)(?<!\\.)[a-z]+_[a-z]+(?=\\.)', file_path).start()\n",
    "    formatted_name = f'{file_path[:stamp]}{now}_{file_path[stamp:]}'  \n",
    "    if not file_description:\n",
    "        file_description = f'Pull: {time.asctime(time.gmtime(now))}'\n",
    "    with open(logfile, 'a+') as f:\n",
    "        f.write(f'{formatted_name}: {file_description}\\n')\n",
    "    return formatted_name, now, file_description"
   ]
  },
  {
   "cell_type": "markdown",
   "metadata": {},
   "source": [
    "Writing a function for collecting comments and parsing into a dataframe with the features of interest, saving out the raw data for each pull. Request loop inspired: [(Source)](https://www.reddit.com/r/pushshift/comments/89pxra/pushshift_api_with_large_amounts_of_data/)."
   ]
  },
  {
   "cell_type": "code",
   "execution_count": 16,
   "metadata": {},
   "outputs": [],
   "source": [
    "def reddit_query(subreddits, n_samples=1500, searchType='comment', before=None, after=None):\n",
    "    url = f'https://api.pushshift.io/reddit/search/'\n",
    "    last_comment = round(time.time())\n",
    "    comment_list = []\n",
    "    \n",
    "    run = 1\n",
    "    while len(comment_list) < n_samples:\n",
    "        \n",
    "        try:\n",
    "            print(f'Starting query {run}')\n",
    "            \n",
    "            params = {'searchType':searchType,\n",
    "              'subreddit':subreddits,\n",
    "              'sort':'desc',\n",
    "              'size':1000,\n",
    "              'before':last_comment-1,\n",
    "              'after':after,\n",
    "             }\n",
    "                \n",
    "            response = requests.get(url, params = params)\n",
    "            posts = response.json()['data']\n",
    "            \n",
    "            if len(posts) == 0:\n",
    "                last_comment = last_comment\n",
    "            else:\n",
    "                last_comment = posts[-1]['created_utc']\n",
    "                comment_list.extend(posts)\n",
    "                timestamp = posts[-1]['created_utc']\n",
    "                time.sleep(1) \n",
    "                run += 1\n",
    "        except:\n",
    "            if response.status_code != 200:\n",
    "                return f'Check status. Error code: {response.status_code}'\n",
    "            else:\n",
    "                return 'Error. Pull not completed.'\n",
    "    \n",
    "    formatted_name, now, file_description = filename_format_log(file_path =f'../data/raw_{searchType}s.json', now=timestamp)\n",
    "    with open(formatted_name, 'w+') as f:\n",
    "        json.dump(comment_list, f)\n",
    "    \n",
    "    print(f'Saved and completed query and returned {len(comment_list)} {searchType}s.')\n",
    "    print(f'Reddit text is ready for processing.')\n",
    "    return print(f'Last timestamp was {timestamp}.')"
   ]
  },
  {
   "cell_type": "markdown",
   "metadata": {},
   "source": [
    "Using the query function to collect 15 comments from the conservative subreddit."
   ]
  },
  {
   "cell_type": "code",
   "execution_count": 17,
   "metadata": {},
   "outputs": [
    {
     "name": "stdout",
     "output_type": "stream",
     "text": [
      "Starting query 1\n",
      "Saved and completed query and returned 1000 comments.\n",
      "Reddit text is ready for processing.\n",
      "Last timestamp was 1553699454.\n"
     ]
    }
   ],
   "source": [
    "reddit_query(subreddits='conservative',\n",
    "             n_samples=15,\n",
    "             searchType='comment')"
   ]
  },
  {
   "cell_type": "code",
   "execution_count": 18,
   "metadata": {},
   "outputs": [],
   "source": [
    "with open(f'../data/1553699454_raw_comments.json', 'r') as f:\n",
    "    cons_sample_list = json.load(f)"
   ]
  },
  {
   "cell_type": "code",
   "execution_count": 19,
   "metadata": {},
   "outputs": [
    {
     "data": {
      "text/plain": [
       "1000"
      ]
     },
     "execution_count": 19,
     "metadata": {},
     "output_type": "execute_result"
    }
   ],
   "source": [
    "len(cons_sample_list)"
   ]
  },
  {
   "cell_type": "code",
   "execution_count": 20,
   "metadata": {},
   "outputs": [
    {
     "data": {
      "text/plain": [
       "{'author': 'EVG2666',\n",
       " 'author_flair_background_color': '',\n",
       " 'author_flair_css_class': None,\n",
       " 'author_flair_richtext': [{'e': 'text', 't': 'Conservative'}],\n",
       " 'author_flair_template_id': None,\n",
       " 'author_flair_text': 'Conservative',\n",
       " 'author_flair_text_color': 'dark',\n",
       " 'author_flair_type': 'richtext',\n",
       " 'author_fullname': 't2_20w4ohq9',\n",
       " 'author_patreon_flair': False,\n",
       " 'body': 'The average Liberal is a mindless NPC. Even professors who should know better are so gullible. They believe everything they see on CNN. No critical thinking',\n",
       " 'created_utc': 1553728358,\n",
       " 'gildings': {'gid_1': 0, 'gid_2': 0, 'gid_3': 0},\n",
       " 'id': 'ejj7b7y',\n",
       " 'link_id': 't3_b67wys',\n",
       " 'no_follow': True,\n",
       " 'parent_id': 't3_b67wys',\n",
       " 'permalink': '/r/Conservative/comments/b67wys/republicans_more_informed_than_democrats/ejj7b7y/',\n",
       " 'retrieved_on': 1553728360,\n",
       " 'score': 1,\n",
       " 'send_replies': True,\n",
       " 'stickied': False,\n",
       " 'subreddit': 'Conservative',\n",
       " 'subreddit_id': 't5_2qh6p'}"
      ]
     },
     "execution_count": 20,
     "metadata": {},
     "output_type": "execute_result"
    }
   ],
   "source": [
    "cons_sample_list[0]"
   ]
  },
  {
   "cell_type": "markdown",
   "metadata": {},
   "source": [
    "Parsing the json file into a dataframe containing the features of interest."
   ]
  },
  {
   "cell_type": "code",
   "execution_count": 21,
   "metadata": {},
   "outputs": [],
   "source": [
    "def reddit_parse(sample):\n",
    "    \n",
    "    col_list = ['author',\n",
    "                'body',\n",
    "                'subreddit',\n",
    "                'subreddit_id',\n",
    "                'created_utc',\n",
    "                'link_id',\n",
    "                'parent_id',\n",
    "                'permalink',\n",
    "                ]\n",
    "    \n",
    "    comments_df = pd.DataFrame(sample)\n",
    "    comments_df = comments_df[col_list]\n",
    "    \n",
    "    comments_df.rename(columns={'subreddit':'libertarian'}, inplace=True)\n",
    "    comments_df['libertarian'] = comments_df['libertarian'].map({'Conservative':0, 'Libertarian':1})\n",
    "    \n",
    "    col_order = ['author',\n",
    "                 'body',\n",
    "                 'libertarian',\n",
    "                 'created_utc',\n",
    "                 'subreddit_id',\n",
    "                 'parent_id',\n",
    "                 'link_id',\n",
    "                 'permalink',\n",
    "                ]\n",
    "\n",
    "    return comments_df[col_order]"
   ]
  },
  {
   "cell_type": "markdown",
   "metadata": {},
   "source": [
    "Reviewing the shape of the dataframe to ensure correct transformation"
   ]
  },
  {
   "cell_type": "code",
   "execution_count": 24,
   "metadata": {},
   "outputs": [],
   "source": [
    "cons_comments_df = reddit_parse(cons_sample_list)"
   ]
  },
  {
   "cell_type": "code",
   "execution_count": null,
   "metadata": {},
   "outputs": [],
   "source": []
  },
  {
   "cell_type": "code",
   "execution_count": 25,
   "metadata": {},
   "outputs": [
    {
     "data": {
      "text/plain": [
       "(1000, 8)"
      ]
     },
     "execution_count": 25,
     "metadata": {},
     "output_type": "execute_result"
    }
   ],
   "source": [
    "cons_comments_df.shape"
   ]
  },
  {
   "cell_type": "markdown",
   "metadata": {},
   "source": [
    "Shape corresponds with expected values. Reviewing the head of the dataframe to ensure data was correctly labeled. "
   ]
  },
  {
   "cell_type": "code",
   "execution_count": 26,
   "metadata": {},
   "outputs": [
    {
     "data": {
      "text/html": [
       "<div>\n",
       "<style scoped>\n",
       "    .dataframe tbody tr th:only-of-type {\n",
       "        vertical-align: middle;\n",
       "    }\n",
       "\n",
       "    .dataframe tbody tr th {\n",
       "        vertical-align: top;\n",
       "    }\n",
       "\n",
       "    .dataframe thead th {\n",
       "        text-align: right;\n",
       "    }\n",
       "</style>\n",
       "<table border=\"1\" class=\"dataframe\">\n",
       "  <thead>\n",
       "    <tr style=\"text-align: right;\">\n",
       "      <th></th>\n",
       "      <th>author</th>\n",
       "      <th>body</th>\n",
       "      <th>libertarian</th>\n",
       "      <th>created_utc</th>\n",
       "      <th>subreddit_id</th>\n",
       "      <th>parent_id</th>\n",
       "      <th>link_id</th>\n",
       "      <th>permalink</th>\n",
       "    </tr>\n",
       "  </thead>\n",
       "  <tbody>\n",
       "    <tr>\n",
       "      <th>0</th>\n",
       "      <td>EVG2666</td>\n",
       "      <td>The average Liberal is a mindless NPC. Even pr...</td>\n",
       "      <td>0</td>\n",
       "      <td>1553728358</td>\n",
       "      <td>t5_2qh6p</td>\n",
       "      <td>t3_b67wys</td>\n",
       "      <td>t3_b67wys</td>\n",
       "      <td>/r/Conservative/comments/b67wys/republicans_mo...</td>\n",
       "    </tr>\n",
       "    <tr>\n",
       "      <th>1</th>\n",
       "      <td>1iJack23</td>\n",
       "      <td>so that means he can be charged with the crime...</td>\n",
       "      <td>0</td>\n",
       "      <td>1553728316</td>\n",
       "      <td>t5_2qh6p</td>\n",
       "      <td>t3_b68ugv</td>\n",
       "      <td>t3_b68ugv</td>\n",
       "      <td>/r/Conservative/comments/b68ugv/as_if_it_never...</td>\n",
       "    </tr>\n",
       "    <tr>\n",
       "      <th>2</th>\n",
       "      <td>[deleted]</td>\n",
       "      <td>[removed]</td>\n",
       "      <td>0</td>\n",
       "      <td>1553728300</td>\n",
       "      <td>t5_2qh6p</td>\n",
       "      <td>t3_b650hr</td>\n",
       "      <td>t3_b650hr</td>\n",
       "      <td>/r/Conservative/comments/b650hr/funny_how_it_i...</td>\n",
       "    </tr>\n",
       "    <tr>\n",
       "      <th>3</th>\n",
       "      <td>[deleted]</td>\n",
       "      <td>[removed]</td>\n",
       "      <td>0</td>\n",
       "      <td>1553728227</td>\n",
       "      <td>t5_2qh6p</td>\n",
       "      <td>t1_eji7af8</td>\n",
       "      <td>t3_b66klc</td>\n",
       "      <td>/r/Conservative/comments/b66klc/ohio_defunds_p...</td>\n",
       "    </tr>\n",
       "    <tr>\n",
       "      <th>4</th>\n",
       "      <td>mdgolfpro</td>\n",
       "      <td>Mueller's report is bi-partisan and objective....</td>\n",
       "      <td>0</td>\n",
       "      <td>1553728203</td>\n",
       "      <td>t5_2qh6p</td>\n",
       "      <td>t3_b650hr</td>\n",
       "      <td>t3_b650hr</td>\n",
       "      <td>/r/Conservative/comments/b650hr/funny_how_it_i...</td>\n",
       "    </tr>\n",
       "  </tbody>\n",
       "</table>\n",
       "</div>"
      ],
      "text/plain": [
       "      author                                               body  libertarian  \\\n",
       "0    EVG2666  The average Liberal is a mindless NPC. Even pr...            0   \n",
       "1   1iJack23  so that means he can be charged with the crime...            0   \n",
       "2  [deleted]                                          [removed]            0   \n",
       "3  [deleted]                                          [removed]            0   \n",
       "4  mdgolfpro  Mueller's report is bi-partisan and objective....            0   \n",
       "\n",
       "   created_utc subreddit_id   parent_id    link_id  \\\n",
       "0   1553728358     t5_2qh6p   t3_b67wys  t3_b67wys   \n",
       "1   1553728316     t5_2qh6p   t3_b68ugv  t3_b68ugv   \n",
       "2   1553728300     t5_2qh6p   t3_b650hr  t3_b650hr   \n",
       "3   1553728227     t5_2qh6p  t1_eji7af8  t3_b66klc   \n",
       "4   1553728203     t5_2qh6p   t3_b650hr  t3_b650hr   \n",
       "\n",
       "                                           permalink  \n",
       "0  /r/Conservative/comments/b67wys/republicans_mo...  \n",
       "1  /r/Conservative/comments/b68ugv/as_if_it_never...  \n",
       "2  /r/Conservative/comments/b650hr/funny_how_it_i...  \n",
       "3  /r/Conservative/comments/b66klc/ohio_defunds_p...  \n",
       "4  /r/Conservative/comments/b650hr/funny_how_it_i...  "
      ]
     },
     "execution_count": 26,
     "metadata": {},
     "output_type": "execute_result"
    }
   ],
   "source": [
    "cons_comments_df.head()"
   ]
  },
  {
   "cell_type": "code",
   "execution_count": null,
   "metadata": {},
   "outputs": [],
   "source": []
  }
 ],
 "metadata": {
  "kernelspec": {
   "display_name": "Python 3",
   "language": "python",
   "name": "python3"
  },
  "language_info": {
   "codemirror_mode": {
    "name": "ipython",
    "version": 3
   },
   "file_extension": ".py",
   "mimetype": "text/x-python",
   "name": "python",
   "nbconvert_exporter": "python",
   "pygments_lexer": "ipython3",
   "version": "3.7.2"
  }
 },
 "nbformat": 4,
 "nbformat_minor": 2
}
