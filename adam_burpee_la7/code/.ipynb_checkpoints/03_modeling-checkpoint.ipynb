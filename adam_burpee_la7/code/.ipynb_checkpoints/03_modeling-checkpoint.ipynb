{
 "cells": [
  {
   "cell_type": "markdown",
   "metadata": {},
   "source": [
    "# Notebook 3: Modeling Using Logistic Regression\n",
    "\n",
    "In this notebook, I will be exploring the use of a Logistic Regression Model on my dataset. After using a countvectorizer to split my X variables into a dataframe of word counts, I will instantiate my model, fit it to a training split that I pickled in a previous notebook, and examine the coefficients of my predictions to see the 'predictive power' of each of them. \n",
    "\n",
    "With logistic regression, I am making certain assumptions about my data. I am assuming that my X variables are independent of one another, my errors in observing y are independent of one another, my distribution of errors will follow a Bernoulli distribution, and that my independent X variables are linearly related to the log-odds that Y = 1, my target class(ULPT). One of the assumptions that is interesting to me is the Independence of Independent Variables. Words are inherently meaningful based on the words that precede and succeed them. To split them up into completely independent variables changes the nature of language as humans understand it.  However, with this model, we will be looking at each individual word as its own predictor and see how we can combine different predictors to accurately predict our target class.\n",
    "\n",
    "By looking at the nature of each individual word, we can examine how certain words are used in insincere or toxic posts, and whether or not there is an appropriate way to use those words in wholesome posts. If certain words, like 'cheat', 'revenge' don't have any weight in nontoxic posts, we will observe trends that lean towards one class when using these words. Even further, there could be predictive powers in the way people use pronouns. 'You', 'I', 'We', 'They' may all have different trends in usage between sincere, insincere, toxic, and wholesome posts.\n",
    "\n",
    "Later in this notebook, I will be examining the strength of my model on an outside source, the [Kaggle Competition](https://www.kaggle.com/c/quora-insincere-questions-classification/data) that seeks to find insincere questions on quora. If my modeling tactics work as expected on my training data, I hope to see some good results on the Kaggle data. "
   ]
  },
  {
   "cell_type": "code",
   "execution_count": 13,
   "metadata": {},
   "outputs": [],
   "source": [
    "import pandas as pd\n",
    "import numpy as np\n",
    "from sklearn.feature_extraction.text import CountVectorizer, TfidfVectorizer\n",
    "from sklearn.linear_model import LogisticRegression\n",
    "from sklearn.model_selection import train_test_split, GridSearchCV\n",
    "from sklearn.pipeline import Pipeline\n",
    "import re\n",
    "import pickle\n",
    "import matplotlib.pyplot as plt\n",
    "\n",
    "%matplotlib inline"
   ]
  },
  {
   "cell_type": "markdown",
   "metadata": {},
   "source": [
    "Importing my pickled stopwords, including my intersection of most common words from both classes in the previous notebook. "
   ]
  },
  {
   "cell_type": "code",
   "execution_count": 14,
   "metadata": {},
   "outputs": [],
   "source": [
    "with open('../assets/stopwords.pkl', 'rb') as f: #pickles adding columns back into \n",
    "    stopwords = pickle.load(f)"
   ]
  },
  {
   "cell_type": "code",
   "execution_count": 15,
   "metadata": {},
   "outputs": [
    {
     "data": {
      "text/plain": [
       "351"
      ]
     },
     "execution_count": 15,
     "metadata": {},
     "output_type": "execute_result"
    }
   ],
   "source": [
    "len(stopwords)"
   ]
  },
  {
   "cell_type": "code",
   "execution_count": 16,
   "metadata": {},
   "outputs": [],
   "source": [
    "df = pd.read_csv('../data/df_clean.csv')"
   ]
  },
  {
   "cell_type": "markdown",
   "metadata": {},
   "source": [
    "Reading in my pickled train test split."
   ]
  },
  {
   "cell_type": "code",
   "execution_count": 17,
   "metadata": {},
   "outputs": [],
   "source": [
    "with open('../assets/X_train.pkl', 'rb') as f:\n",
    "    X_train = pickle.load(f)\n",
    "with open('../assets/X_test.pkl', 'rb') as f:\n",
    "    X_test = pickle.load(f)\n",
    "with open('../assets/y_train.pkl', 'rb') as f:\n",
    "    y_train = pickle.load(f)\n",
    "with open('../assets/y_test.pkl', 'rb') as f:\n",
    "    y_test = pickle.load(f)"
   ]
  },
  {
   "cell_type": "code",
   "execution_count": 18,
   "metadata": {},
   "outputs": [
    {
     "data": {
      "text/plain": [
       "(13182,)"
      ]
     },
     "execution_count": 18,
     "metadata": {},
     "output_type": "execute_result"
    }
   ],
   "source": [
    "X_train.shape"
   ]
  },
  {
   "cell_type": "code",
   "execution_count": 19,
   "metadata": {},
   "outputs": [
    {
     "data": {
      "text/plain": [
       "(13182,)"
      ]
     },
     "execution_count": 19,
     "metadata": {},
     "output_type": "execute_result"
    }
   ],
   "source": [
    "y_train.shape"
   ]
  },
  {
   "cell_type": "markdown",
   "metadata": {},
   "source": [
    "Instantiating my countvectorizor with my updated list of stopwords that include the intersection of the top 50 words used in each class. The intersection between the two classes totalled 33 words. This will create a matrix of each word as the columns and how many times they are used in the rows. "
   ]
  },
  {
   "cell_type": "code",
   "execution_count": 20,
   "metadata": {},
   "outputs": [],
   "source": [
    "cvec = CountVectorizer(stop_words = stopwords)"
   ]
  },
  {
   "cell_type": "markdown",
   "metadata": {},
   "source": [
    "Fitting my countvectorizer to my corpus. "
   ]
  },
  {
   "cell_type": "code",
   "execution_count": 21,
   "metadata": {},
   "outputs": [
    {
     "data": {
      "text/plain": [
       "CountVectorizer(analyzer='word', binary=False, decode_error='strict',\n",
       "        dtype=<class 'numpy.int64'>, encoding='utf-8', input='content',\n",
       "        lowercase=True, max_df=1.0, max_features=None, min_df=1,\n",
       "        ngram_range=(1, 1), preprocessor=None,\n",
       "        stop_words=frozenset({'make', 'how', 'back', 'whenever', 'youll', 'five', 'nine', 'whatever', 'behind', 'she', 'ourselves', 'hundred', 'me', 'money', 'amoungst', 'us', 'must', 'please', 'could', 'thin', 'might', 'free', 'ours', 'like', 'work', 'themselves', 'together', 'yourself', 'myself', 'full', ...'than', 'a', 'own', 'forty', 'that', 'thereafter', 'all', 'besides', 'had', 'became', 'everywhere'}),\n",
       "        strip_accents=None, token_pattern='(?u)\\\\b\\\\w\\\\w+\\\\b',\n",
       "        tokenizer=None, vocabulary=None)"
      ]
     },
     "execution_count": 21,
     "metadata": {},
     "output_type": "execute_result"
    }
   ],
   "source": [
    "cvec.fit(X_train)"
   ]
  },
  {
   "cell_type": "markdown",
   "metadata": {},
   "source": [
    "Transforming my corpus. "
   ]
  },
  {
   "cell_type": "code",
   "execution_count": 22,
   "metadata": {},
   "outputs": [],
   "source": [
    "X_train_cvec = cvec.transform(X_train)"
   ]
  },
  {
   "cell_type": "code",
   "execution_count": 23,
   "metadata": {},
   "outputs": [
    {
     "data": {
      "text/plain": [
       "<13182x16003 sparse matrix of type '<class 'numpy.int64'>'\n",
       "\twith 128018 stored elements in Compressed Sparse Row format>"
      ]
     },
     "execution_count": 23,
     "metadata": {},
     "output_type": "execute_result"
    }
   ],
   "source": [
    "X_train_cvec"
   ]
  },
  {
   "cell_type": "code",
   "execution_count": 24,
   "metadata": {},
   "outputs": [
    {
     "data": {
      "text/plain": [
       "(13182, 16003)"
      ]
     },
     "execution_count": 24,
     "metadata": {},
     "output_type": "execute_result"
    }
   ],
   "source": [
    "X_train_cvec.shape"
   ]
  },
  {
   "cell_type": "markdown",
   "metadata": {},
   "source": [
    "Looking at the top ten feature names alphabetically. "
   ]
  },
  {
   "cell_type": "code",
   "execution_count": 25,
   "metadata": {},
   "outputs": [
    {
     "data": {
      "text/plain": [
       "['aa',\n",
       " 'aah',\n",
       " 'aampe',\n",
       " 'ab',\n",
       " 'abandon',\n",
       " 'abandoned',\n",
       " 'abandonment',\n",
       " 'abandons',\n",
       " 'abbreviate',\n",
       " 'abbreviation']"
      ]
     },
     "execution_count": 25,
     "metadata": {},
     "output_type": "execute_result"
    }
   ],
   "source": [
    "cvec.get_feature_names()[:10]"
   ]
  },
  {
   "cell_type": "markdown",
   "metadata": {},
   "source": [
    "There are some words that seem like giberish, like 'aa', or 'aah', or 'aampe', but I think these will be insignificant, and there are sure to be plenty of typos throughout the corpus. "
   ]
  },
  {
   "cell_type": "markdown",
   "metadata": {},
   "source": [
    "Looking at the size of my different matrices."
   ]
  },
  {
   "cell_type": "code",
   "execution_count": 26,
   "metadata": {},
   "outputs": [],
   "source": [
    "import sys"
   ]
  },
  {
   "cell_type": "code",
   "execution_count": 27,
   "metadata": {},
   "outputs": [
    {
     "data": {
      "text/plain": [
       "56"
      ]
     },
     "execution_count": 27,
     "metadata": {},
     "output_type": "execute_result"
    }
   ],
   "source": [
    "sys.getsizeof(X_train_cvec)"
   ]
  },
  {
   "cell_type": "code",
   "execution_count": 28,
   "metadata": {},
   "outputs": [
    {
     "data": {
      "text/plain": [
       "array([[0, 0, 0, ..., 0, 0, 0],\n",
       "       [0, 0, 0, ..., 0, 0, 0],\n",
       "       [0, 0, 0, ..., 0, 0, 0],\n",
       "       ...,\n",
       "       [0, 0, 0, ..., 0, 0, 0],\n",
       "       [0, 0, 0, ..., 0, 0, 0],\n",
       "       [0, 0, 0, ..., 0, 0, 0]])"
      ]
     },
     "execution_count": 28,
     "metadata": {},
     "output_type": "execute_result"
    }
   ],
   "source": [
    "X_train_cvec.toarray()"
   ]
  },
  {
   "cell_type": "code",
   "execution_count": 29,
   "metadata": {},
   "outputs": [
    {
     "data": {
      "text/plain": [
       "1687612480"
      ]
     },
     "execution_count": 29,
     "metadata": {},
     "output_type": "execute_result"
    }
   ],
   "source": [
    "sys.getsizeof(X_train_cvec.toarray())"
   ]
  },
  {
   "cell_type": "markdown",
   "metadata": {},
   "source": [
    "Creating a dataframe of my vectorized matrix of my training set with feature names as the columns."
   ]
  },
  {
   "cell_type": "code",
   "execution_count": 30,
   "metadata": {},
   "outputs": [],
   "source": [
    "X_train_df = pd.DataFrame(X_train_cvec.toarray(), columns = cvec.get_feature_names())"
   ]
  },
  {
   "cell_type": "code",
   "execution_count": 31,
   "metadata": {},
   "outputs": [
    {
     "data": {
      "text/plain": [
       "(13182, 16003)"
      ]
     },
     "execution_count": 31,
     "metadata": {},
     "output_type": "execute_result"
    }
   ],
   "source": [
    "X_train_df.shape"
   ]
  },
  {
   "cell_type": "markdown",
   "metadata": {},
   "source": [
    "Repeating the above process on my test set, (validation set)."
   ]
  },
  {
   "cell_type": "code",
   "execution_count": 32,
   "metadata": {},
   "outputs": [],
   "source": [
    "X_test_cvec = cvec.transform(X_test)"
   ]
  },
  {
   "cell_type": "markdown",
   "metadata": {},
   "source": [
    "Creating a dataframe of my vectorized matrix of my training set with feature names as the columns."
   ]
  },
  {
   "cell_type": "code",
   "execution_count": 33,
   "metadata": {},
   "outputs": [],
   "source": [
    "X_test_df = pd.DataFrame(X_test_cvec.toarray(), columns = cvec.get_feature_names())"
   ]
  },
  {
   "cell_type": "markdown",
   "metadata": {},
   "source": [
    "Instantiating my logistic regression model. Using a solver of 'liblinear' as my dataset isn't huge. "
   ]
  },
  {
   "cell_type": "code",
   "execution_count": 34,
   "metadata": {},
   "outputs": [],
   "source": [
    "lr = LogisticRegression(solver = 'liblinear')"
   ]
  },
  {
   "cell_type": "markdown",
   "metadata": {},
   "source": [
    "Fitting my training sets to my logistic regression model. "
   ]
  },
  {
   "cell_type": "code",
   "execution_count": 108,
   "metadata": {},
   "outputs": [
    {
     "data": {
      "text/plain": [
       "LogisticRegression(C=1.0, class_weight=None, dual=False, fit_intercept=True,\n",
       "          intercept_scaling=1, max_iter=100, multi_class='warn',\n",
       "          n_jobs=None, penalty='l2', random_state=None, solver='liblinear',\n",
       "          tol=0.0001, verbose=0, warm_start=False)"
      ]
     },
     "execution_count": 108,
     "metadata": {},
     "output_type": "execute_result"
    }
   ],
   "source": [
    "lr.fit(X_train_df, y_train)"
   ]
  },
  {
   "cell_type": "markdown",
   "metadata": {},
   "source": [
    "Scoring  my training set with my logreg model."
   ]
  },
  {
   "cell_type": "code",
   "execution_count": 36,
   "metadata": {},
   "outputs": [
    {
     "data": {
      "text/plain": [
       "0.9428766499772417"
      ]
     },
     "execution_count": 36,
     "metadata": {},
     "output_type": "execute_result"
    }
   ],
   "source": [
    "lr.score(X_train_df, y_train)"
   ]
  },
  {
   "cell_type": "markdown",
   "metadata": {},
   "source": [
    "94% accuracy is pretty great for my logistic regression model. I am expecting my model to be overfit, as I am working with classification, but if my validation set can show some significant accuracy then we are in a good place."
   ]
  },
  {
   "cell_type": "markdown",
   "metadata": {},
   "source": [
    "Scoring my testing set with my logreg model. "
   ]
  },
  {
   "cell_type": "code",
   "execution_count": 37,
   "metadata": {},
   "outputs": [
    {
     "data": {
      "text/plain": [
       "0.7808375056895767"
      ]
     },
     "execution_count": 37,
     "metadata": {},
     "output_type": "execute_result"
    }
   ],
   "source": [
    "lr.score(X_test_df, y_test)"
   ]
  },
  {
   "cell_type": "markdown",
   "metadata": {},
   "source": [
    "As we can see, my model is overfit. With any classification problem, though, the model is likely to be overfit. An accuracy of 78% in my training set is still 28% better than my baseline accuracy of 50%."
   ]
  },
  {
   "cell_type": "markdown",
   "metadata": {},
   "source": [
    "Taking a look the logreg coefficients. "
   ]
  },
  {
   "cell_type": "code",
   "execution_count": 38,
   "metadata": {},
   "outputs": [
    {
     "data": {
      "text/plain": [
       "array([[ 0.36715671,  0.0006783 ,  0.41831816, ...,  0.00088588,\n",
       "        -0.19384018, -0.05381887]])"
      ]
     },
     "execution_count": 38,
     "metadata": {},
     "output_type": "execute_result"
    }
   ],
   "source": [
    "lr.coef_"
   ]
  },
  {
   "cell_type": "markdown",
   "metadata": {},
   "source": [
    "Setting my coefficients to a dataframe with the columns set as the columns of my countvectorized training dataframe. "
   ]
  },
  {
   "cell_type": "code",
   "execution_count": 39,
   "metadata": {},
   "outputs": [],
   "source": [
    "coef_weights = pd.DataFrame(lr.coef_[0], \n",
    "                               X_train_df.columns, \n",
    "                               columns=['importance'])"
   ]
  },
  {
   "cell_type": "markdown",
   "metadata": {},
   "source": [
    "Plotting the top 20 words that "
   ]
  },
  {
   "cell_type": "markdown",
   "metadata": {},
   "source": [
    "Plotting the top 20 features that have the give the most information to my model. "
   ]
  },
  {
   "cell_type": "code",
   "execution_count": 41,
   "metadata": {},
   "outputs": [
    {
     "data": {
      "text/plain": [
       "(array([0. , 0.5, 1. , 1.5, 2. , 2.5, 3. , 3.5]),\n",
       " <a list of 8 Text xticklabel objects>)"
      ]
     },
     "execution_count": 41,
     "metadata": {},
     "output_type": "execute_result"
    },
    {
     "data": {
      "image/png": "[encoded data removed]",
      "text/plain": [
       "<Figure size 1440x720 with 1 Axes>"
      ]
     },
     "metadata": {
      "needs_background": "light"
     },
     "output_type": "display_data"
    }
   ],
   "source": [
    "plt.figure(figsize=(20,10))\n",
    "temp = coef_weights.sort_values('importance', ascending=False).head(20)\n",
    "plt.barh(temp.index, temp['importance'], color = 'lightblue')\n",
    "plt.title('Top 20 Features', fontsize=30)\n",
    "plt.xlabel('Beta Weights', fontsize=20)\n",
    "plt.ylabel('Feature', fontsize=20)\n",
    "plt.yticks(fontsize = 15)\n",
    "plt.xticks(fontsize = 15)"
   ]
  },
  {
   "cell_type": "markdown",
   "metadata": {},
   "source": [
    "Looking at the above graph, there are some obvious words that would seem to give more information to my target class, 'UnethicalLifeProTips'. These include words like cheating, drunk, eavesdrop, steal, lie, fake, downvote. Some less obvious words include christmas, pretend, legal, excuse, shell, profit, silence, cops. These words are interesting to me, as some of them can be put into context that would give a lot of predictive power to my non target class. We will take a further look into the importance of these words further down."
   ]
  },
  {
   "cell_type": "markdown",
   "metadata": {},
   "source": [
    "Looking at the predicted probabilities of my countvectorized dataframe."
   ]
  },
  {
   "cell_type": "code",
   "execution_count": 42,
   "metadata": {},
   "outputs": [],
   "source": [
    "pred_probas = lr.predict_proba(X_test_df)"
   ]
  },
  {
   "cell_type": "markdown",
   "metadata": {},
   "source": [
    "Getting the probabilities of my target class. "
   ]
  },
  {
   "cell_type": "code",
   "execution_count": 43,
   "metadata": {},
   "outputs": [],
   "source": [
    "ulpt_preds = pred_probas[:,1]"
   ]
  },
  {
   "cell_type": "markdown",
   "metadata": {},
   "source": [
    "Looking at the target class the percentage out of total posts when it is above 80% sure that it is predicting the correct class. "
   ]
  },
  {
   "cell_type": "code",
   "execution_count": 44,
   "metadata": {},
   "outputs": [
    {
     "data": {
      "text/plain": [
       "0.2687756030951297"
      ]
     },
     "execution_count": 44,
     "metadata": {},
     "output_type": "execute_result"
    }
   ],
   "source": [
    "(ulpt_preds > .8).mean()"
   ]
  },
  {
   "cell_type": "markdown",
   "metadata": {},
   "source": [
    "Looking at the target class and when my model was less than 20% positive it was predicting the target class. This represents the percentage of posts that were above 80% in predicting the 0 class. "
   ]
  },
  {
   "cell_type": "code",
   "execution_count": 45,
   "metadata": {},
   "outputs": [
    {
     "data": {
      "text/plain": [
       "0.26718252162039147"
      ]
     },
     "execution_count": 45,
     "metadata": {},
     "output_type": "execute_result"
    }
   ],
   "source": [
    "(ulpt_preds < .2).mean()"
   ]
  },
  {
   "cell_type": "markdown",
   "metadata": {},
   "source": [
    "Below, we can see that about 7% of our posts sit around 50%, which is a good indicator that our model wasn't unsure about very many posts when it was classifying. We will take a look at some of these posts below. "
   ]
  },
  {
   "cell_type": "code",
   "execution_count": 46,
   "metadata": {},
   "outputs": [
    {
     "data": {
      "text/plain": [
       "0.07487482931269913"
      ]
     },
     "execution_count": 46,
     "metadata": {},
     "output_type": "execute_result"
    }
   ],
   "source": [
    "((.45 < ulpt_preds) & (ulpt_preds < .55)).mean()"
   ]
  },
  {
   "cell_type": "markdown",
   "metadata": {},
   "source": [
    "Looking at the actual posts that my model was predicting with less than 20% probability to the target class."
   ]
  },
  {
   "cell_type": "code",
   "execution_count": 99,
   "metadata": {},
   "outputs": [
    {
     "data": {
      "text/plain": [
       "9424     to stop hiccups simply keep your ears shut by ...\n",
       "3548     transition from daytoevening  create relaxatio...\n",
       "7232     put on your socks first before you put your pa...\n",
       "14795    dont know how to pronounce worcestershire sauc...\n",
       "6504     hey mckinney heres your weekly list of fun upc...\n",
       "Name: title, dtype: object"
      ]
     },
     "execution_count": 99,
     "metadata": {},
     "output_type": "execute_result"
    }
   ],
   "source": [
    "X_test.iloc[np.argwhere((ulpt_preds < .2))[:, 0]].head()"
   ]
  },
  {
   "cell_type": "code",
   "execution_count": 161,
   "metadata": {},
   "outputs": [
    {
     "data": {
      "text/plain": [
       "'to stop hiccups simply keep your ears shut by applying pressure on them with your fingers for about  seconds'"
      ]
     },
     "execution_count": 161,
     "metadata": {},
     "output_type": "execute_result"
    }
   ],
   "source": [
    "df.iloc[9424]['title']"
   ]
  },
  {
   "cell_type": "code",
   "execution_count": 162,
   "metadata": {},
   "outputs": [
    {
     "data": {
      "text/plain": [
       "'put on your socks first before you put your pants on its way easier than the other way around'"
      ]
     },
     "execution_count": 162,
     "metadata": {},
     "output_type": "execute_result"
    }
   ],
   "source": [
    "df.iloc[7232]['title']"
   ]
  },
  {
   "cell_type": "markdown",
   "metadata": {},
   "source": [
    "Looking at the above 2 posts, we can see that they don't have any of the top featured words that have the most weight. These are wholesome posts, without any negative sentiment or toxic intent. It is apparent why these wouldn't be put in the target class, ULPT. "
   ]
  },
  {
   "cell_type": "code",
   "execution_count": 49,
   "metadata": {},
   "outputs": [
    {
     "data": {
      "text/plain": [
       "7605     always check your cell phone signal when looki...\n",
       "3189     if you have a friend who is starting a new bus...\n",
       "5963     youtubes discriminatory new policies are destr...\n",
       "708      when joining a restaurant site use your annive...\n",
       "10397      save money on your internet bill by using a vpn\n",
       "16004    if youre insecure about your height add an inc...\n",
       "2249     you dont have to be friends with people you do...\n",
       "1291     are there any legal and ethical reasons to use...\n",
       "5197     give your used subway ticket to anyone you see...\n",
       "9589     want to save an image from a docx or pptx chan...\n",
       "3411     if youre looking at reviews on a site like ama...\n",
       "14455    you can make folders for your playlists on spo...\n",
       "3283     if you get a chaser email after contacting cus...\n",
       "6295     if you have good credit and are buying an enga...\n",
       "8837     if youre adding candy to gifts buy big bags of...\n",
       "7417     if you make a change in your daily routine to ...\n",
       "15349    if you move into a new home and plan on doing ...\n",
       "13172    while grocery shopping find a big expensive st...\n",
       "13116    dont like waiting while your date gets ready m...\n",
       "2548     if youre new in town particularly to a univers...\n",
       "8884     on a first date and dont want to awkwardly tal...\n",
       "2666     if you have people coming over that you know a...\n",
       "5180     you can obtain gift ideas for familyfriends by...\n",
       "550      youre not obligated to respond to people on so...\n",
       "10897    doordash doesnt follow up on missing item comp...\n",
       "6490     get your glasses from costco they are upto  ch...\n",
       "5603     sticky solution to tight seating on public tra...\n",
       "1514     want to remove ads from youtube without paying...\n",
       "9878     if you want children to behave in a specific w...\n",
       "11333    a question rather than a demand will always ma...\n",
       "                               ...                        \n",
       "7355     sit by the bar taps to get a good look at the ...\n",
       "16120    you have a rival company ahire someone and hel...\n",
       "15953    dont want to take a medicine but your family m...\n",
       "8342     se one but completely irrelevent answer for al...\n",
       "7071     if you tell a joke or pull a prank at another ...\n",
       "4450     assignment due in  minutes paste some random t...\n",
       "5852     if you have an apple iphone enable siri to res...\n",
       "9328     i always get free makeup in sephora i create a...\n",
       "10667    keep a magic eraserpiece of melamine foam in t...\n",
       "6655     if you are going to use a parking app to book ...\n",
       "1422     when making a reservation for two at a nice re...\n",
       "10280    concert sold out get empty pizza boxes and del...\n",
       "4098     want to see more college girls wearing yoga pa...\n",
       "1638     want to cure chronic sneezers stop saying bles...\n",
       "518      have a closet space for gifts you plan on regi...\n",
       "47       before asking a waiter whats good at a restaur...\n",
       "6081     if you are attending a small event you have to...\n",
       "4742     go to walmart and buy a pair of doctors scrubs...\n",
       "353      i figured out a thread that shares premium acc...\n",
       "1520     balance windshield wipers by there tips on you...\n",
       "16141    when moving in with a partner for the first ti...\n",
       "11286    is there an app that can make noise during a s...\n",
       "5090     if you own a pet and live in the us order your...\n",
       "9419     if you use an identification card that needs t...\n",
       "2491     any good  for finals anything can really reall...\n",
       "5473      move to cook county comit a crime for fame ge...\n",
       "2833           how to insult someone without repercussions\n",
       "236      if you ever drive after having consumed alcoho...\n",
       "7913     a lot of the sale offers you see in retail and...\n",
       "6267     how to get groceries for very cheap with out j...\n",
       "Name: title, Length: 329, dtype: object"
      ]
     },
     "execution_count": 49,
     "metadata": {},
     "output_type": "execute_result"
    }
   ],
   "source": [
    "X_test.iloc[np.argwhere((.45 < ulpt_preds) & \n",
    "                        (ulpt_preds < .55))[:, 0]]"
   ]
  },
  {
   "cell_type": "markdown",
   "metadata": {},
   "source": [
    "LPT within 45-55%"
   ]
  },
  {
   "cell_type": "code",
   "execution_count": 51,
   "metadata": {},
   "outputs": [
    {
     "data": {
      "text/plain": [
       "'build a dummy site that looks exactly like reddit and send emails to all the mods telling them they need to log in right away thus get the login and password of the mod that took down my last post and then pm me and ill pay you for it in bitcoin cheers'"
      ]
     },
     "execution_count": 51,
     "metadata": {},
     "output_type": "execute_result"
    }
   ],
   "source": [
    "X_test.loc[12410]"
   ]
  },
  {
   "cell_type": "markdown",
   "metadata": {},
   "source": [
    "LPT but within 45-55%"
   ]
  },
  {
   "cell_type": "code",
   "execution_count": 52,
   "metadata": {},
   "outputs": [
    {
     "data": {
      "text/plain": [
       "'if youre a guy whos dating  girls and couldnt decide which one to be in a relationship with all you gotta do is masturbate and the one that you longed more for right after ejaculation means you want her more beyond sex'"
      ]
     },
     "execution_count": 52,
     "metadata": {},
     "output_type": "execute_result"
    }
   ],
   "source": [
    "X_test.loc[4491]"
   ]
  },
  {
   "cell_type": "markdown",
   "metadata": {},
   "source": [
    "Unethical but within 45 - 55%"
   ]
  },
  {
   "cell_type": "code",
   "execution_count": 55,
   "metadata": {},
   "outputs": [
    {
     "data": {
      "text/plain": [
       "'if you are attending a small event you have to pay to enter and the exits have little security just walk in through the exit and and ignore anyone that tries to stop you'"
      ]
     },
     "execution_count": 55,
     "metadata": {},
     "output_type": "execute_result"
    }
   ],
   "source": [
    "X_test.loc[6081]"
   ]
  },
  {
   "cell_type": "code",
   "execution_count": 58,
   "metadata": {},
   "outputs": [
    {
     "data": {
      "text/plain": [
       "'balance windshield wipers by there tips on your windshield after you park it will prevent them from icing over or freezing to your windshield'"
      ]
     },
     "execution_count": 58,
     "metadata": {},
     "output_type": "execute_result"
    }
   ],
   "source": [
    "X_test.loc[1520]"
   ]
  },
  {
   "cell_type": "markdown",
   "metadata": {},
   "source": [
    "Unethical but within 45-55%"
   ]
  },
  {
   "cell_type": "code",
   "execution_count": 60,
   "metadata": {},
   "outputs": [
    {
     "data": {
      "text/plain": [
       "'want to see more college girls wearing yoga pants write an opinion piece as a catholic mother urging them to think about how theyre making it hard to ignore for the boys'"
      ]
     },
     "execution_count": 60,
     "metadata": {},
     "output_type": "execute_result"
    }
   ],
   "source": [
    "X_test.loc[4098]"
   ]
  },
  {
   "cell_type": "markdown",
   "metadata": {},
   "source": [
    "LPT but within 45-55%."
   ]
  },
  {
   "cell_type": "code",
   "execution_count": 62,
   "metadata": {},
   "outputs": [
    {
     "data": {
      "text/plain": [
       "'play a game with your kiddos while driving whoever spots the most motorcycles wins everyone will be naturally more aware of bikers on the road saving lifes'"
      ]
     },
     "execution_count": 62,
     "metadata": {},
     "output_type": "execute_result"
    }
   ],
   "source": [
    "X_test.iloc[3853]"
   ]
  },
  {
   "cell_type": "markdown",
   "metadata": {},
   "source": [
    "Unethical but within 45-55%."
   ]
  },
  {
   "cell_type": "code",
   "execution_count": 140,
   "metadata": {},
   "outputs": [
    {
     "data": {
      "text/plain": [
       "'if someone tells you to do something at work that you dont think you should do rather than argue about it just say you did it'"
      ]
     },
     "execution_count": 140,
     "metadata": {},
     "output_type": "execute_result"
    }
   ],
   "source": [
    "df.iloc[16532]['title']"
   ]
  },
  {
   "cell_type": "markdown",
   "metadata": {},
   "source": [
    "From the above posts, it's clear why a model may not be able to accurately predict which class they are in. The language, word for word, is not necessarily toxic, even if the context is insincere and inappropriate. I expected to see posts like this, as the toxicity and insincerity of given posts can be interpretted from the context, but not from the word usage."
   ]
  },
  {
   "cell_type": "markdown",
   "metadata": {},
   "source": [
    "### Importing Kaggle Quora Data\n",
    "\n",
    "Below, I will be running kaggle data from quora to determine whether or not certain posts are insincere or toxic. This is a way to 'grade' the accuracy of my model on outside data."
   ]
  },
  {
   "cell_type": "code",
   "execution_count": 82,
   "metadata": {},
   "outputs": [],
   "source": [
    "df_kaggle = pd.read_csv('../data/kaggle_insincere.csv')"
   ]
  },
  {
   "cell_type": "code",
   "execution_count": 83,
   "metadata": {},
   "outputs": [
    {
     "data": {
      "text/plain": [
       "(1306122, 3)"
      ]
     },
     "execution_count": 83,
     "metadata": {},
     "output_type": "execute_result"
    }
   ],
   "source": [
    "df_kaggle.shape"
   ]
  },
  {
   "cell_type": "code",
   "execution_count": 84,
   "metadata": {},
   "outputs": [
    {
     "data": {
      "text/plain": [
       "0    0.93813\n",
       "1    0.06187\n",
       "Name: target, dtype: float64"
      ]
     },
     "execution_count": 84,
     "metadata": {},
     "output_type": "execute_result"
    }
   ],
   "source": [
    "df_kaggle.target.value_counts(normalize=True)"
   ]
  },
  {
   "cell_type": "markdown",
   "metadata": {},
   "source": [
    "The kaggle data is extremely unbalance. I will balance the classes so that my baseline is 50%. The target class will be 'insincere' or 1."
   ]
  },
  {
   "cell_type": "code",
   "execution_count": 85,
   "metadata": {},
   "outputs": [],
   "source": [
    "df_kaggle_insincere = df_kaggle[df_kaggle['target'] == 1]"
   ]
  },
  {
   "cell_type": "code",
   "execution_count": 86,
   "metadata": {},
   "outputs": [
    {
     "data": {
      "text/plain": [
       "(80810, 3)"
      ]
     },
     "execution_count": 86,
     "metadata": {},
     "output_type": "execute_result"
    }
   ],
   "source": [
    "df_kaggle_insincere.shape"
   ]
  },
  {
   "cell_type": "code",
   "execution_count": 87,
   "metadata": {},
   "outputs": [],
   "source": [
    "df_kaggle_sincere = df_kaggle[df_kaggle['target'] == 0]"
   ]
  },
  {
   "cell_type": "markdown",
   "metadata": {},
   "source": [
    "Below, I will decrease the size of my kaggle set to 5000 insincere posts and 5000 sincere posts."
   ]
  },
  {
   "cell_type": "code",
   "execution_count": 88,
   "metadata": {},
   "outputs": [],
   "source": [
    "df_kaggle_insincere.index = range(len(df_kaggle_insincere['target']))"
   ]
  },
  {
   "cell_type": "code",
   "execution_count": 89,
   "metadata": {},
   "outputs": [],
   "source": [
    "df_kaggle_insincere.drop(df_kaggle_insincere.index[:75810], inplace = True)"
   ]
  },
  {
   "cell_type": "code",
   "execution_count": 90,
   "metadata": {},
   "outputs": [],
   "source": [
    "df_kaggle_sincere.index = range(len(df_kaggle_sincere['target']))"
   ]
  },
  {
   "cell_type": "code",
   "execution_count": 91,
   "metadata": {},
   "outputs": [
    {
     "data": {
      "text/plain": [
       "(1225312, 3)"
      ]
     },
     "execution_count": 91,
     "metadata": {},
     "output_type": "execute_result"
    }
   ],
   "source": [
    "df_kaggle_sincere.shape"
   ]
  },
  {
   "cell_type": "code",
   "execution_count": 92,
   "metadata": {},
   "outputs": [],
   "source": [
    "df_kaggle_sincere.drop(df_kaggle_sincere.index[:1220312], inplace = True)"
   ]
  },
  {
   "cell_type": "code",
   "execution_count": 93,
   "metadata": {},
   "outputs": [
    {
     "data": {
      "text/plain": [
       "(5000, 3)"
      ]
     },
     "execution_count": 93,
     "metadata": {},
     "output_type": "execute_result"
    }
   ],
   "source": [
    "df_kaggle_sincere.shape"
   ]
  },
  {
   "cell_type": "markdown",
   "metadata": {},
   "source": [
    "Concatenating the two dataframes into one."
   ]
  },
  {
   "cell_type": "code",
   "execution_count": 94,
   "metadata": {},
   "outputs": [],
   "source": [
    "df_kaggle = pd.concat([df_kaggle_insincere, df_kaggle_sincere])"
   ]
  },
  {
   "cell_type": "code",
   "execution_count": 95,
   "metadata": {},
   "outputs": [],
   "source": [
    "df_kaggle.index = range(len(df_kaggle['target']))"
   ]
  },
  {
   "cell_type": "code",
   "execution_count": 96,
   "metadata": {},
   "outputs": [
    {
     "data": {
      "text/plain": [
       "1    0.5\n",
       "0    0.5\n",
       "Name: target, dtype: float64"
      ]
     },
     "execution_count": 96,
     "metadata": {},
     "output_type": "execute_result"
    }
   ],
   "source": [
    "df_kaggle.target.value_counts(normalize = True)"
   ]
  },
  {
   "cell_type": "markdown",
   "metadata": {},
   "source": [
    "Below I will clean the data before pushing it through my countvectorizer and logreg model."
   ]
  },
  {
   "cell_type": "code",
   "execution_count": 97,
   "metadata": {},
   "outputs": [],
   "source": [
    "df_kaggle['question_text'] = df_kaggle['question_text'].str.lower()"
   ]
  },
  {
   "cell_type": "code",
   "execution_count": 98,
   "metadata": {},
   "outputs": [],
   "source": [
    "df_kaggle['question_text'] = df_kaggle['question_text'].apply(lambda x: re.sub('([^a-zA-Z ]|aaa)', '', x))"
   ]
  },
  {
   "cell_type": "code",
   "execution_count": 105,
   "metadata": {},
   "outputs": [],
   "source": [
    "X = df_kaggle['question_text']\n",
    "y = df_kaggle['target']"
   ]
  },
  {
   "cell_type": "markdown",
   "metadata": {},
   "source": [
    "Transforming my data to my already instantiated Count Vectorizer"
   ]
  },
  {
   "cell_type": "code",
   "execution_count": 106,
   "metadata": {},
   "outputs": [],
   "source": [
    "X_cvec = cvec.transform(X)"
   ]
  },
  {
   "cell_type": "markdown",
   "metadata": {},
   "source": [
    "Scoring my already fitted logreg model on the Kaggle data."
   ]
  },
  {
   "cell_type": "code",
   "execution_count": 109,
   "metadata": {},
   "outputs": [
    {
     "data": {
      "text/plain": [
       "0.5986"
      ]
     },
     "execution_count": 109,
     "metadata": {},
     "output_type": "execute_result"
    }
   ],
   "source": [
    "lr.score(X_cvec,y)"
   ]
  },
  {
   "cell_type": "markdown",
   "metadata": {},
   "source": [
    "Considering my data all came from reddit and my model was able to predict with an increase of 10% from my baseline model, I think this model is pretty good. 60% isn't a great score, but with a dataset this small, that doesn't encompass all words used in the english language, I think it does a pretty effective job at predicting insincerity and toxicity. Next steps would definitely be to combine reddit posts and quora questions to create a wider range of vocabulary to train my model with."
   ]
  },
  {
   "cell_type": "markdown",
   "metadata": {},
   "source": [
    "Pickling my kaggle data so I can run it on a random forest model in the next notebook."
   ]
  },
  {
   "cell_type": "code",
   "execution_count": 110,
   "metadata": {},
   "outputs": [],
   "source": [
    "with open('../assets/X_kaggle.pkl', 'wb+') as f:\n",
    "    pickle.dump(X, f)\n",
    "with open('../assets/y_kaggle.pkl', 'wb+') as f:\n",
    "    pickle.dump(y, f)"
   ]
  },
  {
   "cell_type": "markdown",
   "metadata": {},
   "source": [
    "### Conclusions and Next Steps\n",
    "\n",
    "While this score isn't amazing, it is 10% more accurate than my baseline model. I think this says something about the words used in insincere and toxic posts. My original data was about 17k posts from reddit, and scored around 79% accuracy. Given that a model trained on that small of a dataset was used on a completely unrelated dataset and scored 60% is worth noting. This validates my model as a decent predictor of toxic and insincere online activity. I think my next step would be to combine reddit and quora posts and use more data to really examine word usage and how those words can predict toxic behavior online. If using more data can increase my models predictive power, perhaps social media sites and online forums can use it to track toxicity and users who display such behavior. \n",
    "\n",
    "In my next notebook, I will be examining random forest and how it deals with my dataset. I think It will outperform logistic regression, but I think it won't be as interpretable. "
   ]
  }
 ],
 "metadata": {
  "kernelspec": {
   "display_name": "Python 3",
   "language": "python",
   "name": "python3"
  },
  "language_info": {
   "codemirror_mode": {
    "name": "ipython",
    "version": 3
   },
   "file_extension": ".py",
   "mimetype": "text/x-python",
   "name": "python",
   "nbconvert_exporter": "python",
   "pygments_lexer": "ipython3",
   "version": "3.7.2"
  }
 },
 "nbformat": 4,
 "nbformat_minor": 2
}
