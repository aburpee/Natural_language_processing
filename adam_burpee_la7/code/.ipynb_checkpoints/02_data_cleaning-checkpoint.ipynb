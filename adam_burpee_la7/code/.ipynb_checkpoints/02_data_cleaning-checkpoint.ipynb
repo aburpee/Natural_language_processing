{
 "cells": [
  {
   "cell_type": "markdown",
   "metadata": {},
   "source": [
    "# Notebook 2: Data Cleaning and EDA\n"
   ]
  },
  {
   "cell_type": "markdown",
   "metadata": {},
   "source": [
    "In this notebook I will clean my dataset and examine some trends in my data. I will remove all unnecessary characters from my title column, look at the distribution of word counts per post, character counts per post, and examine the most frequently used words in each class to determine what I should or shouldn't add to my stopwords list. I will be instantiating a countvectorizer to do this. I am hoping that by finding a list of common words and a list of unique words in the two classes that I can find trends in what kinds of words people use when displaying toxic and unhealthy behavior online that should be noted by social media sites for further examination."
   ]
  },
  {
   "cell_type": "code",
   "execution_count": 47,
   "metadata": {},
   "outputs": [],
   "source": [
    "import pandas as pd\n",
    "import numpy as np\n",
    "import seaborn as sns\n",
    "import matplotlib.pyplot as plt\n",
    "import re\n",
    "import pickle\n",
    "from sklearn.feature_extraction.text import CountVectorizer\n",
    "%matplotlib inline\n",
    "plt.style.use('fivethirtyeight')"
   ]
  },
  {
   "cell_type": "markdown",
   "metadata": {},
   "source": [
    "Reading the CSV with my combined dataframes from notebook 1. "
   ]
  },
  {
   "cell_type": "code",
   "execution_count": 2,
   "metadata": {},
   "outputs": [],
   "source": [
    "df = pd.read_csv('../data/combined_df.csv')"
   ]
  },
  {
   "cell_type": "markdown",
   "metadata": {},
   "source": [
    "Examining the top rows. r/unethicallifeprotips is my target class, 1. "
   ]
  },
  {
   "cell_type": "code",
   "execution_count": 3,
   "metadata": {},
   "outputs": [
    {
     "data": {
      "text/html": [
       "<div>\n",
       "<style scoped>\n",
       "    .dataframe tbody tr th:only-of-type {\n",
       "        vertical-align: middle;\n",
       "    }\n",
       "\n",
       "    .dataframe tbody tr th {\n",
       "        vertical-align: top;\n",
       "    }\n",
       "\n",
       "    .dataframe thead th {\n",
       "        text-align: right;\n",
       "    }\n",
       "</style>\n",
       "<table border=\"1\" class=\"dataframe\">\n",
       "  <thead>\n",
       "    <tr style=\"text-align: right;\">\n",
       "      <th></th>\n",
       "      <th>author</th>\n",
       "      <th>title</th>\n",
       "      <th>subreddit</th>\n",
       "      <th>permalink</th>\n",
       "    </tr>\n",
       "  </thead>\n",
       "  <tbody>\n",
       "    <tr>\n",
       "      <th>0</th>\n",
       "      <td>minigunman123</td>\n",
       "      <td>If you load a news website with a paywall, kee...</td>\n",
       "      <td>0</td>\n",
       "      <td>/r/LifeProTips/comments/b7wnp4/if_you_load_a_n...</td>\n",
       "    </tr>\n",
       "    <tr>\n",
       "      <th>1</th>\n",
       "      <td>Justinjp126</td>\n",
       "      <td>So you know those little pieces of detached sk...</td>\n",
       "      <td>0</td>\n",
       "      <td>/r/LifeProTips/comments/b7wnm4/lpt_so_you_know...</td>\n",
       "    </tr>\n",
       "    <tr>\n",
       "      <th>2</th>\n",
       "      <td>TheFormulaS</td>\n",
       "      <td>Use a pistachio shell to help you open a pista...</td>\n",
       "      <td>0</td>\n",
       "      <td>/r/LifeProTips/comments/b7wnja/lpt_use_a_pista...</td>\n",
       "    </tr>\n",
       "    <tr>\n",
       "      <th>3</th>\n",
       "      <td>NullandRandom</td>\n",
       "      <td>Whenever you buy food combos but you know that...</td>\n",
       "      <td>0</td>\n",
       "      <td>/r/LifeProTips/comments/b7wney/lpt_whenever_yo...</td>\n",
       "    </tr>\n",
       "    <tr>\n",
       "      <th>4</th>\n",
       "      <td>Serenitybyjan88</td>\n",
       "      <td>Take a picture or video of yourself doing the ...</td>\n",
       "      <td>0</td>\n",
       "      <td>/r/LifeProTips/comments/b7wncl/lpt_take_a_pict...</td>\n",
       "    </tr>\n",
       "  </tbody>\n",
       "</table>\n",
       "</div>"
      ],
      "text/plain": [
       "            author                                              title  \\\n",
       "0    minigunman123  If you load a news website with a paywall, kee...   \n",
       "1      Justinjp126  So you know those little pieces of detached sk...   \n",
       "2      TheFormulaS  Use a pistachio shell to help you open a pista...   \n",
       "3    NullandRandom  Whenever you buy food combos but you know that...   \n",
       "4  Serenitybyjan88  Take a picture or video of yourself doing the ...   \n",
       "\n",
       "   subreddit                                          permalink  \n",
       "0          0  /r/LifeProTips/comments/b7wnp4/if_you_load_a_n...  \n",
       "1          0  /r/LifeProTips/comments/b7wnm4/lpt_so_you_know...  \n",
       "2          0  /r/LifeProTips/comments/b7wnja/lpt_use_a_pista...  \n",
       "3          0  /r/LifeProTips/comments/b7wney/lpt_whenever_yo...  \n",
       "4          0  /r/LifeProTips/comments/b7wncl/lpt_take_a_pict...  "
      ]
     },
     "execution_count": 3,
     "metadata": {},
     "output_type": "execute_result"
    }
   ],
   "source": [
    "df.head()"
   ]
  },
  {
   "cell_type": "code",
   "execution_count": 4,
   "metadata": {},
   "outputs": [
    {
     "data": {
      "text/plain": [
       "(19742, 4)"
      ]
     },
     "execution_count": 4,
     "metadata": {},
     "output_type": "execute_result"
    }
   ],
   "source": [
    "df.shape"
   ]
  },
  {
   "cell_type": "markdown",
   "metadata": {},
   "source": [
    "Examining a couple posts to see what's going on in my dataset. "
   ]
  },
  {
   "cell_type": "code",
   "execution_count": 5,
   "metadata": {},
   "outputs": [
    {
     "data": {
      "text/plain": [
       "'Take a picture or video of yourself doing the things you’ll later worry you forgot to do'"
      ]
     },
     "execution_count": 5,
     "metadata": {},
     "output_type": "execute_result"
    }
   ],
   "source": [
    "df.loc[4]['title']"
   ]
  },
  {
   "cell_type": "markdown",
   "metadata": {},
   "source": [
    "Looking at the above title, we can see that this post is wholesome and sincere, and likely part of the 0 class."
   ]
  },
  {
   "cell_type": "code",
   "execution_count": 6,
   "metadata": {},
   "outputs": [
    {
     "data": {
      "text/plain": [
       "'Take a picture or video of yourself doing the things you’ll later worry you forgot to do'"
      ]
     },
     "execution_count": 6,
     "metadata": {},
     "output_type": "execute_result"
    }
   ],
   "source": [
    "df.loc[4,'title']"
   ]
  },
  {
   "cell_type": "markdown",
   "metadata": {},
   "source": [
    "Similar to above, this post is sincere and isn't offering any harmful suggestions or tips."
   ]
  },
  {
   "cell_type": "code",
   "execution_count": 7,
   "metadata": {},
   "outputs": [
    {
     "data": {
      "text/plain": [
       "'Want a few days off? If your employer offers bereavement. Look through the obituary find the date(s) you want. Tell you boss that your aunt or uncle passed away. If you decide to attend the funeral to get the program you may also get a free meal out of it.'"
      ]
     },
     "execution_count": 7,
     "metadata": {},
     "output_type": "execute_result"
    }
   ],
   "source": [
    "df.loc[12000,'title']"
   ]
  },
  {
   "cell_type": "markdown",
   "metadata": {},
   "source": [
    "On the contrary to above, this post offers suggestions on how to sneak around the rules and act unethically to gain an immoral advantage over peers by lying about a serious issue, a death in the family. This is part of my target class. A post like this on social media should be noted. If someone is unaware enough to post this on social media, they shouldn't be considered for the job they have."
   ]
  },
  {
   "cell_type": "markdown",
   "metadata": {},
   "source": [
    "Looking at datatypes to see what I'm working with. "
   ]
  },
  {
   "cell_type": "code",
   "execution_count": 8,
   "metadata": {},
   "outputs": [
    {
     "data": {
      "text/plain": [
       "author       object\n",
       "title        object\n",
       "subreddit     int64\n",
       "permalink    object\n",
       "dtype: object"
      ]
     },
     "execution_count": 8,
     "metadata": {},
     "output_type": "execute_result"
    }
   ],
   "source": [
    "df.dtypes"
   ]
  },
  {
   "cell_type": "markdown",
   "metadata": {},
   "source": [
    "Lowercasing everything in the title column, as this will be the only data I'm really working with. "
   ]
  },
  {
   "cell_type": "code",
   "execution_count": 9,
   "metadata": {},
   "outputs": [],
   "source": [
    "df['title'] = df['title'].str.lower()"
   ]
  },
  {
   "cell_type": "markdown",
   "metadata": {},
   "source": [
    "Checking for null values. "
   ]
  },
  {
   "cell_type": "code",
   "execution_count": 10,
   "metadata": {},
   "outputs": [
    {
     "data": {
      "text/plain": [
       "6"
      ]
     },
     "execution_count": 10,
     "metadata": {},
     "output_type": "execute_result"
    }
   ],
   "source": [
    "df['title'].isnull().sum()"
   ]
  },
  {
   "cell_type": "markdown",
   "metadata": {},
   "source": [
    "There are few enough null values that I will just delete them. "
   ]
  },
  {
   "cell_type": "code",
   "execution_count": 11,
   "metadata": {},
   "outputs": [],
   "source": [
    "df.dropna(axis = 0, inplace = True)"
   ]
  },
  {
   "cell_type": "code",
   "execution_count": 12,
   "metadata": {},
   "outputs": [
    {
     "data": {
      "text/plain": [
       "0"
      ]
     },
     "execution_count": 12,
     "metadata": {},
     "output_type": "execute_result"
    }
   ],
   "source": [
    "df.title.isnull().sum()"
   ]
  },
  {
   "cell_type": "code",
   "execution_count": 13,
   "metadata": {},
   "outputs": [
    {
     "data": {
      "text/plain": [
       "author       0\n",
       "title        0\n",
       "subreddit    0\n",
       "permalink    0\n",
       "dtype: int64"
      ]
     },
     "execution_count": 13,
     "metadata": {},
     "output_type": "execute_result"
    }
   ],
   "source": [
    "df.isnull().sum()"
   ]
  },
  {
   "cell_type": "code",
   "execution_count": 14,
   "metadata": {},
   "outputs": [
    {
     "data": {
      "text/plain": [
       "(19736, 4)"
      ]
     },
     "execution_count": 14,
     "metadata": {},
     "output_type": "execute_result"
    }
   ],
   "source": [
    "df.shape"
   ]
  },
  {
   "cell_type": "markdown",
   "metadata": {},
   "source": [
    "Checking class distributions. "
   ]
  },
  {
   "cell_type": "code",
   "execution_count": 15,
   "metadata": {},
   "outputs": [
    {
     "data": {
      "text/plain": [
       "1    0.501925\n",
       "0    0.498075\n",
       "Name: subreddit, dtype: float64"
      ]
     },
     "execution_count": 15,
     "metadata": {},
     "output_type": "execute_result"
    }
   ],
   "source": [
    "df.subreddit.value_counts(normalize=True)"
   ]
  },
  {
   "cell_type": "markdown",
   "metadata": {},
   "source": [
    "My classes are just about even. 50.2% to the target class."
   ]
  },
  {
   "cell_type": "markdown",
   "metadata": {},
   "source": [
    "Reseting the index. "
   ]
  },
  {
   "cell_type": "code",
   "execution_count": 16,
   "metadata": {},
   "outputs": [],
   "source": [
    "df.index = range(len(df['title']))"
   ]
  },
  {
   "cell_type": "code",
   "execution_count": 17,
   "metadata": {},
   "outputs": [
    {
     "data": {
      "text/html": [
       "<div>\n",
       "<style scoped>\n",
       "    .dataframe tbody tr th:only-of-type {\n",
       "        vertical-align: middle;\n",
       "    }\n",
       "\n",
       "    .dataframe tbody tr th {\n",
       "        vertical-align: top;\n",
       "    }\n",
       "\n",
       "    .dataframe thead th {\n",
       "        text-align: right;\n",
       "    }\n",
       "</style>\n",
       "<table border=\"1\" class=\"dataframe\">\n",
       "  <thead>\n",
       "    <tr style=\"text-align: right;\">\n",
       "      <th></th>\n",
       "      <th>title</th>\n",
       "    </tr>\n",
       "  </thead>\n",
       "  <tbody>\n",
       "    <tr>\n",
       "      <th>0</th>\n",
       "      <td>if you load a news website with a paywall, kee...</td>\n",
       "    </tr>\n",
       "    <tr>\n",
       "      <th>1</th>\n",
       "      <td>so you know those little pieces of detached sk...</td>\n",
       "    </tr>\n",
       "    <tr>\n",
       "      <th>2</th>\n",
       "      <td>use a pistachio shell to help you open a pista...</td>\n",
       "    </tr>\n",
       "    <tr>\n",
       "      <th>3</th>\n",
       "      <td>whenever you buy food combos but you know that...</td>\n",
       "    </tr>\n",
       "    <tr>\n",
       "      <th>4</th>\n",
       "      <td>take a picture or video of yourself doing the ...</td>\n",
       "    </tr>\n",
       "  </tbody>\n",
       "</table>\n",
       "</div>"
      ],
      "text/plain": [
       "                                               title\n",
       "0  if you load a news website with a paywall, kee...\n",
       "1  so you know those little pieces of detached sk...\n",
       "2  use a pistachio shell to help you open a pista...\n",
       "3  whenever you buy food combos but you know that...\n",
       "4  take a picture or video of yourself doing the ..."
      ]
     },
     "execution_count": 17,
     "metadata": {},
     "output_type": "execute_result"
    }
   ],
   "source": [
    "df[['title']].head()"
   ]
  },
  {
   "cell_type": "markdown",
   "metadata": {},
   "source": [
    "Using regex to get rid of everything except lowercase and uppercase letters. Uppercase letters should have been lowercased already, but just making sure. "
   ]
  },
  {
   "cell_type": "code",
   "execution_count": 18,
   "metadata": {},
   "outputs": [],
   "source": [
    "df['title'] = df['title'].apply(lambda x: re.sub('([^a-zA-Z ]|aaa)', '', x))"
   ]
  },
  {
   "cell_type": "markdown",
   "metadata": {},
   "source": [
    "Checking if there are any empty title rows. "
   ]
  },
  {
   "cell_type": "code",
   "execution_count": 19,
   "metadata": {},
   "outputs": [
    {
     "data": {
      "text/html": [
       "<div>\n",
       "<style scoped>\n",
       "    .dataframe tbody tr th:only-of-type {\n",
       "        vertical-align: middle;\n",
       "    }\n",
       "\n",
       "    .dataframe tbody tr th {\n",
       "        vertical-align: top;\n",
       "    }\n",
       "\n",
       "    .dataframe thead th {\n",
       "        text-align: right;\n",
       "    }\n",
       "</style>\n",
       "<table border=\"1\" class=\"dataframe\">\n",
       "  <thead>\n",
       "    <tr style=\"text-align: right;\">\n",
       "      <th></th>\n",
       "      <th>author</th>\n",
       "      <th>title</th>\n",
       "      <th>subreddit</th>\n",
       "      <th>permalink</th>\n",
       "    </tr>\n",
       "  </thead>\n",
       "  <tbody>\n",
       "    <tr>\n",
       "      <th>4315</th>\n",
       "      <td>polkmjh</td>\n",
       "      <td></td>\n",
       "      <td>0</td>\n",
       "      <td>/r/LifeProTips/comments/azpe2g/ดบอล/</td>\n",
       "    </tr>\n",
       "    <tr>\n",
       "      <th>6201</th>\n",
       "      <td>polkmjh</td>\n",
       "      <td></td>\n",
       "      <td>0</td>\n",
       "      <td>/r/LifeProTips/comments/aw39l8/먹튀/</td>\n",
       "    </tr>\n",
       "    <tr>\n",
       "      <th>6846</th>\n",
       "      <td>14681452</td>\n",
       "      <td></td>\n",
       "      <td>0</td>\n",
       "      <td>/r/LifeProTips/comments/aurhb8/102934729293900...</td>\n",
       "    </tr>\n",
       "    <tr>\n",
       "      <th>7796</th>\n",
       "      <td>jaelstrauss33</td>\n",
       "      <td></td>\n",
       "      <td>0</td>\n",
       "      <td>/r/LifeProTips/comments/at1ko9/แทงบอล/</td>\n",
       "    </tr>\n",
       "    <tr>\n",
       "      <th>10596</th>\n",
       "      <td>talpa710</td>\n",
       "      <td></td>\n",
       "      <td>1</td>\n",
       "      <td>/r/UnethicalLifeProTips/comments/b38wlo/ulpt_6...</td>\n",
       "    </tr>\n",
       "    <tr>\n",
       "      <th>12283</th>\n",
       "      <td>nicbrit93</td>\n",
       "      <td></td>\n",
       "      <td>1</td>\n",
       "      <td>/r/UnethicalLifeProTips/comments/au9g24/ulpt/</td>\n",
       "    </tr>\n",
       "    <tr>\n",
       "      <th>16572</th>\n",
       "      <td>Lx13lx</td>\n",
       "      <td></td>\n",
       "      <td>1</td>\n",
       "      <td>/r/UnethicalLifeProTips/comments/aab42b/ulpt/</td>\n",
       "    </tr>\n",
       "    <tr>\n",
       "      <th>18839</th>\n",
       "      <td>xxxmlgglmxxx</td>\n",
       "      <td></td>\n",
       "      <td>1</td>\n",
       "      <td>/r/UnethicalLifeProTips/comments/a2ieej/ulpt/</td>\n",
       "    </tr>\n",
       "  </tbody>\n",
       "</table>\n",
       "</div>"
      ],
      "text/plain": [
       "              author title  subreddit  \\\n",
       "4315         polkmjh                0   \n",
       "6201         polkmjh                0   \n",
       "6846        14681452                0   \n",
       "7796   jaelstrauss33                0   \n",
       "10596       talpa710                1   \n",
       "12283      nicbrit93                1   \n",
       "16572         Lx13lx                1   \n",
       "18839   xxxmlgglmxxx                1   \n",
       "\n",
       "                                               permalink  \n",
       "4315                /r/LifeProTips/comments/azpe2g/ดบอล/  \n",
       "6201                  /r/LifeProTips/comments/aw39l8/먹튀/  \n",
       "6846   /r/LifeProTips/comments/aurhb8/102934729293900...  \n",
       "7796              /r/LifeProTips/comments/at1ko9/แทงบอล/  \n",
       "10596  /r/UnethicalLifeProTips/comments/b38wlo/ulpt_6...  \n",
       "12283      /r/UnethicalLifeProTips/comments/au9g24/ulpt/  \n",
       "16572      /r/UnethicalLifeProTips/comments/aab42b/ulpt/  \n",
       "18839      /r/UnethicalLifeProTips/comments/a2ieej/ulpt/  "
      ]
     },
     "execution_count": 19,
     "metadata": {},
     "output_type": "execute_result"
    }
   ],
   "source": [
    "df[df['title'] == '']"
   ]
  },
  {
   "cell_type": "markdown",
   "metadata": {},
   "source": [
    "Dropping all empty title values. "
   ]
  },
  {
   "cell_type": "code",
   "execution_count": 20,
   "metadata": {},
   "outputs": [],
   "source": [
    "df = df[df['title'] != '']"
   ]
  },
  {
   "cell_type": "code",
   "execution_count": 21,
   "metadata": {},
   "outputs": [
    {
     "data": {
      "text/html": [
       "<div>\n",
       "<style scoped>\n",
       "    .dataframe tbody tr th:only-of-type {\n",
       "        vertical-align: middle;\n",
       "    }\n",
       "\n",
       "    .dataframe tbody tr th {\n",
       "        vertical-align: top;\n",
       "    }\n",
       "\n",
       "    .dataframe thead th {\n",
       "        text-align: right;\n",
       "    }\n",
       "</style>\n",
       "<table border=\"1\" class=\"dataframe\">\n",
       "  <thead>\n",
       "    <tr style=\"text-align: right;\">\n",
       "      <th></th>\n",
       "      <th>author</th>\n",
       "      <th>title</th>\n",
       "      <th>subreddit</th>\n",
       "      <th>permalink</th>\n",
       "    </tr>\n",
       "  </thead>\n",
       "  <tbody>\n",
       "  </tbody>\n",
       "</table>\n",
       "</div>"
      ],
      "text/plain": [
       "Empty DataFrame\n",
       "Columns: [author, title, subreddit, permalink]\n",
       "Index: []"
      ]
     },
     "execution_count": 21,
     "metadata": {},
     "output_type": "execute_result"
    }
   ],
   "source": [
    "df[df['title'] == '']"
   ]
  },
  {
   "cell_type": "markdown",
   "metadata": {},
   "source": [
    "Resetting index after dropping row."
   ]
  },
  {
   "cell_type": "code",
   "execution_count": 22,
   "metadata": {},
   "outputs": [],
   "source": [
    "df.index = range(len(df['title']))"
   ]
  },
  {
   "cell_type": "code",
   "execution_count": 23,
   "metadata": {},
   "outputs": [
    {
     "data": {
      "text/plain": [
       "19728"
      ]
     },
     "execution_count": 23,
     "metadata": {},
     "output_type": "execute_result"
    }
   ],
   "source": [
    "len(df.title)"
   ]
  },
  {
   "cell_type": "markdown",
   "metadata": {},
   "source": [
    "Shuffling my dataset so that the target class and the 0 class aren't sorted. "
   ]
  },
  {
   "cell_type": "code",
   "execution_count": 24,
   "metadata": {},
   "outputs": [],
   "source": [
    "df = df.sample(len(df.title), replace=False)"
   ]
  },
  {
   "cell_type": "code",
   "execution_count": 25,
   "metadata": {},
   "outputs": [
    {
     "data": {
      "text/html": [
       "<div>\n",
       "<style scoped>\n",
       "    .dataframe tbody tr th:only-of-type {\n",
       "        vertical-align: middle;\n",
       "    }\n",
       "\n",
       "    .dataframe tbody tr th {\n",
       "        vertical-align: top;\n",
       "    }\n",
       "\n",
       "    .dataframe thead th {\n",
       "        text-align: right;\n",
       "    }\n",
       "</style>\n",
       "<table border=\"1\" class=\"dataframe\">\n",
       "  <thead>\n",
       "    <tr style=\"text-align: right;\">\n",
       "      <th></th>\n",
       "      <th>author</th>\n",
       "      <th>title</th>\n",
       "      <th>subreddit</th>\n",
       "      <th>permalink</th>\n",
       "    </tr>\n",
       "  </thead>\n",
       "  <tbody>\n",
       "    <tr>\n",
       "      <th>5686</th>\n",
       "      <td>Papips</td>\n",
       "      <td>if you have to drive a car filled with helium ...</td>\n",
       "      <td>0</td>\n",
       "      <td>/r/LifeProTips/comments/ax2ujm/lpt_if_you_have...</td>\n",
       "    </tr>\n",
       "    <tr>\n",
       "      <th>13844</th>\n",
       "      <td>hoopy21</td>\n",
       "      <td>if your car needs fixing but you dont have any...</td>\n",
       "      <td>1</td>\n",
       "      <td>/r/UnethicalLifeProTips/comments/am6duo/ulpt_i...</td>\n",
       "    </tr>\n",
       "    <tr>\n",
       "      <th>13118</th>\n",
       "      <td>SandraMejias</td>\n",
       "      <td>if you want a beta male or someone to act nice...</td>\n",
       "      <td>1</td>\n",
       "      <td>/r/UnethicalLifeProTips/comments/apq947/if_you...</td>\n",
       "    </tr>\n",
       "    <tr>\n",
       "      <th>10306</th>\n",
       "      <td>AwhiteBEANER</td>\n",
       "      <td>need to change the time of your flight but don...</td>\n",
       "      <td>1</td>\n",
       "      <td>/r/UnethicalLifeProTips/comments/b4q4p3/ulpt_n...</td>\n",
       "    </tr>\n",
       "    <tr>\n",
       "      <th>6974</th>\n",
       "      <td>canieatyourbootylol</td>\n",
       "      <td>if you are ever lost and own an iphone remembe...</td>\n",
       "      <td>0</td>\n",
       "      <td>/r/LifeProTips/comments/auiios/lpt_if_you_are_...</td>\n",
       "    </tr>\n",
       "  </tbody>\n",
       "</table>\n",
       "</div>"
      ],
      "text/plain": [
       "                    author                                              title  \\\n",
       "5686                Papips  if you have to drive a car filled with helium ...   \n",
       "13844              hoopy21  if your car needs fixing but you dont have any...   \n",
       "13118         SandraMejias  if you want a beta male or someone to act nice...   \n",
       "10306         AwhiteBEANER  need to change the time of your flight but don...   \n",
       "6974   canieatyourbootylol  if you are ever lost and own an iphone remembe...   \n",
       "\n",
       "       subreddit                                          permalink  \n",
       "5686           0  /r/LifeProTips/comments/ax2ujm/lpt_if_you_have...  \n",
       "13844          1  /r/UnethicalLifeProTips/comments/am6duo/ulpt_i...  \n",
       "13118          1  /r/UnethicalLifeProTips/comments/apq947/if_you...  \n",
       "10306          1  /r/UnethicalLifeProTips/comments/b4q4p3/ulpt_n...  \n",
       "6974           0  /r/LifeProTips/comments/auiios/lpt_if_you_are_...  "
      ]
     },
     "execution_count": 25,
     "metadata": {},
     "output_type": "execute_result"
    }
   ],
   "source": [
    "df.head()"
   ]
  },
  {
   "cell_type": "code",
   "execution_count": 26,
   "metadata": {},
   "outputs": [
    {
     "data": {
      "text/plain": [
       "(19728, 4)"
      ]
     },
     "execution_count": 26,
     "metadata": {},
     "output_type": "execute_result"
    }
   ],
   "source": [
    "df.shape"
   ]
  },
  {
   "cell_type": "markdown",
   "metadata": {},
   "source": [
    "Adding a 'title_length' column that counts the characters in the title column."
   ]
  },
  {
   "cell_type": "code",
   "execution_count": 27,
   "metadata": {},
   "outputs": [],
   "source": [
    "df['title_length'] = df['title'].apply(len)"
   ]
  },
  {
   "cell_type": "markdown",
   "metadata": {},
   "source": [
    "Adding a 'word_count' column that counts the words in the title column."
   ]
  },
  {
   "cell_type": "code",
   "execution_count": 28,
   "metadata": {},
   "outputs": [],
   "source": [
    "df['word_count'] = df['title'].map(lambda x: len(x.split()))"
   ]
  },
  {
   "cell_type": "code",
   "execution_count": 29,
   "metadata": {},
   "outputs": [
    {
     "data": {
      "text/html": [
       "<div>\n",
       "<style scoped>\n",
       "    .dataframe tbody tr th:only-of-type {\n",
       "        vertical-align: middle;\n",
       "    }\n",
       "\n",
       "    .dataframe tbody tr th {\n",
       "        vertical-align: top;\n",
       "    }\n",
       "\n",
       "    .dataframe thead th {\n",
       "        text-align: right;\n",
       "    }\n",
       "</style>\n",
       "<table border=\"1\" class=\"dataframe\">\n",
       "  <thead>\n",
       "    <tr style=\"text-align: right;\">\n",
       "      <th></th>\n",
       "      <th>author</th>\n",
       "      <th>title</th>\n",
       "      <th>subreddit</th>\n",
       "      <th>permalink</th>\n",
       "      <th>title_length</th>\n",
       "      <th>word_count</th>\n",
       "    </tr>\n",
       "  </thead>\n",
       "  <tbody>\n",
       "    <tr>\n",
       "      <th>5686</th>\n",
       "      <td>Papips</td>\n",
       "      <td>if you have to drive a car filled with helium ...</td>\n",
       "      <td>0</td>\n",
       "      <td>/r/LifeProTips/comments/ax2ujm/lpt_if_you_have...</td>\n",
       "      <td>89</td>\n",
       "      <td>18</td>\n",
       "    </tr>\n",
       "    <tr>\n",
       "      <th>13844</th>\n",
       "      <td>hoopy21</td>\n",
       "      <td>if your car needs fixing but you dont have any...</td>\n",
       "      <td>1</td>\n",
       "      <td>/r/UnethicalLifeProTips/comments/am6duo/ulpt_i...</td>\n",
       "      <td>134</td>\n",
       "      <td>29</td>\n",
       "    </tr>\n",
       "    <tr>\n",
       "      <th>13118</th>\n",
       "      <td>SandraMejias</td>\n",
       "      <td>if you want a beta male or someone to act nice...</td>\n",
       "      <td>1</td>\n",
       "      <td>/r/UnethicalLifeProTips/comments/apq947/if_you...</td>\n",
       "      <td>87</td>\n",
       "      <td>19</td>\n",
       "    </tr>\n",
       "    <tr>\n",
       "      <th>10306</th>\n",
       "      <td>AwhiteBEANER</td>\n",
       "      <td>need to change the time of your flight but don...</td>\n",
       "      <td>1</td>\n",
       "      <td>/r/UnethicalLifeProTips/comments/b4q4p3/ulpt_n...</td>\n",
       "      <td>277</td>\n",
       "      <td>54</td>\n",
       "    </tr>\n",
       "    <tr>\n",
       "      <th>6974</th>\n",
       "      <td>canieatyourbootylol</td>\n",
       "      <td>if you are ever lost and own an iphone remembe...</td>\n",
       "      <td>0</td>\n",
       "      <td>/r/LifeProTips/comments/auiios/lpt_if_you_are_...</td>\n",
       "      <td>87</td>\n",
       "      <td>18</td>\n",
       "    </tr>\n",
       "  </tbody>\n",
       "</table>\n",
       "</div>"
      ],
      "text/plain": [
       "                    author                                              title  \\\n",
       "5686                Papips  if you have to drive a car filled with helium ...   \n",
       "13844              hoopy21  if your car needs fixing but you dont have any...   \n",
       "13118         SandraMejias  if you want a beta male or someone to act nice...   \n",
       "10306         AwhiteBEANER  need to change the time of your flight but don...   \n",
       "6974   canieatyourbootylol  if you are ever lost and own an iphone remembe...   \n",
       "\n",
       "       subreddit                                          permalink  \\\n",
       "5686           0  /r/LifeProTips/comments/ax2ujm/lpt_if_you_have...   \n",
       "13844          1  /r/UnethicalLifeProTips/comments/am6duo/ulpt_i...   \n",
       "13118          1  /r/UnethicalLifeProTips/comments/apq947/if_you...   \n",
       "10306          1  /r/UnethicalLifeProTips/comments/b4q4p3/ulpt_n...   \n",
       "6974           0  /r/LifeProTips/comments/auiios/lpt_if_you_are_...   \n",
       "\n",
       "       title_length  word_count  \n",
       "5686             89          18  \n",
       "13844           134          29  \n",
       "13118            87          19  \n",
       "10306           277          54  \n",
       "6974             87          18  "
      ]
     },
     "execution_count": 29,
     "metadata": {},
     "output_type": "execute_result"
    }
   ],
   "source": [
    "df.head()"
   ]
  },
  {
   "cell_type": "markdown",
   "metadata": {},
   "source": [
    "Plotting the character count by class and comparing the distribution to the mean of each class. "
   ]
  },
  {
   "cell_type": "code",
   "execution_count": 30,
   "metadata": {},
   "outputs": [
    {
     "data": {
      "image/png": "[encoded data removed]",
      "text/plain": [
       "<Figure size 1440x720 with 1 Axes>"
      ]
     },
     "metadata": {
      "needs_background": "light"
     },
     "output_type": "display_data"
    }
   ],
   "source": [
    "plt.figure(figsize=(20,10))\n",
    "plt.hist([df[df['subreddit']==0]['title_length'], \n",
    "               df[df['subreddit']==1]['title_length']],\n",
    "               bins=15, \n",
    "               color=['lightblue', '#E983BD'], \n",
    "               ec='k')\n",
    "# plt.hist([df[df['subreddit']==0]['title_length'], \n",
    "#                df[df['subreddit']==1]['title_length']],\n",
    "#                bins=15, \n",
    "#                color=['#23E9E3', '#EF9E35'], \n",
    "#                ec='#23E9E3')\n",
    "plt.ylabel('Frequency', fontsize = 30)\n",
    "plt.xlabel('Character Count', fontsize = 30)\n",
    "plt.axvline(df[df['subreddit']==0]['title_length'].mean(), color = 'purple')\n",
    "plt.axvline(df[df['subreddit']==1]['title_length'].mean(), color = 'blue')\n",
    "plt.title('Character Count by Class', fontsize=30)\n",
    "plt.legend(['LPT Mean', 'ULPT Mean', 'LPT', 'ULPT'])\n",
    "plt.xticks([20,40,60,80,100,120,140,160,180,200,220,240,260,280]);"
   ]
  },
  {
   "cell_type": "markdown",
   "metadata": {},
   "source": [
    "The character count of the ULPT posts is distributed pretty normally, with a slight right skew. LPT is also distributed pretty normally, but is more skewed to the right. The mean character count for both classes is between 120 and 130. Also looking at this graph gives me insight into the fact that there are quite a few posts with less than 40 characters per title. I don't think 40 characters is enough to say a whole lot, so I will look into these. Looking at this distribution, it doesn't seem to lend any insight into whether or not a post's length has any information about whether or not it is toxic, unethical, or insincere."
   ]
  },
  {
   "cell_type": "markdown",
   "metadata": {},
   "source": [
    "Plotting the distribution of word count by class along with the mean word count of each. "
   ]
  },
  {
   "cell_type": "code",
   "execution_count": 31,
   "metadata": {},
   "outputs": [
    {
     "data": {
      "image/png": "[encoded data removed]",
      "text/plain": [
       "<Figure size 1440x720 with 1 Axes>"
      ]
     },
     "metadata": {
      "needs_background": "light"
     },
     "output_type": "display_data"
    }
   ],
   "source": [
    "plt.figure(figsize=(20,10))\n",
    "plt.hist([df[df['subreddit']==0]['word_count'], \n",
    "               df[df['subreddit']==1]['word_count']],\n",
    "               bins=15, \n",
    "               color=['lightblue', '#E983BD'], \n",
    "               ec='k')\n",
    "plt.ylabel('Frequency', fontsize = 30)\n",
    "plt.xlabel('Word Count', fontsize = 30)\n",
    "plt.axvline(df[df['subreddit']==0]['word_count'].mean(), color = 'purple')\n",
    "plt.axvline(df[df['subreddit']==1]['word_count'].mean(), color = 'blue')\n",
    "plt.title('Word Count by Class', fontsize=30)\n",
    "plt.legend(['LPT Mean', 'ULPT Mean', 'LPT', 'ULPT'])\n",
    "plt.xticks([10,20,30,40,50,60,70]);"
   ]
  },
  {
   "cell_type": "markdown",
   "metadata": {},
   "source": [
    "The word counts are a little less normally distributed. LPT spikes around 15 words, and ULP spike around 30 words. Their means are pretty similar, around 23-25 words. Similar to above, this plot doesn't give us any insight as to whether or not a post's word count indicates how toxic or unethical it may be."
   ]
  },
  {
   "cell_type": "markdown",
   "metadata": {},
   "source": [
    "Looking at titles with 'request' in them. I will remove request and leave the text, as it may still give us some insight as to whether or not the text is unethical or conveying a toxic message or request. "
   ]
  },
  {
   "cell_type": "code",
   "execution_count": 32,
   "metadata": {},
   "outputs": [
    {
     "data": {
      "text/plain": [
       "912"
      ]
     },
     "execution_count": 32,
     "metadata": {},
     "output_type": "execute_result"
    }
   ],
   "source": [
    "len(df[df['title'].str.contains('reques')])"
   ]
  },
  {
   "cell_type": "code",
   "execution_count": 33,
   "metadata": {},
   "outputs": [],
   "source": [
    "df['title'] = df['title'].str.replace('request','')"
   ]
  },
  {
   "cell_type": "markdown",
   "metadata": {},
   "source": [
    "Checking to see if any posts have 'unethical', 'ulpt', or 'lpt' in them. Will remove that word. "
   ]
  },
  {
   "cell_type": "code",
   "execution_count": 34,
   "metadata": {},
   "outputs": [
    {
     "data": {
      "text/plain": [
       "50"
      ]
     },
     "execution_count": 34,
     "metadata": {},
     "output_type": "execute_result"
    }
   ],
   "source": [
    "len(df[df['title'].str.contains('unethical')])"
   ]
  },
  {
   "cell_type": "code",
   "execution_count": 35,
   "metadata": {},
   "outputs": [],
   "source": [
    "df['title'] = df['title'].str.replace('unethical', '')"
   ]
  },
  {
   "cell_type": "code",
   "execution_count": 36,
   "metadata": {},
   "outputs": [],
   "source": [
    "df['title'] = df['title'].str.replace('ulpt', '')"
   ]
  },
  {
   "cell_type": "code",
   "execution_count": 37,
   "metadata": {},
   "outputs": [],
   "source": [
    "df['title'] = df['title'].str.replace('lpt', '')"
   ]
  },
  {
   "cell_type": "code",
   "execution_count": 38,
   "metadata": {},
   "outputs": [
    {
     "data": {
      "text/plain": [
       "1"
      ]
     },
     "execution_count": 38,
     "metadata": {},
     "output_type": "execute_result"
    }
   ],
   "source": [
    "df['title_length'].min()"
   ]
  },
  {
   "cell_type": "markdown",
   "metadata": {},
   "source": [
    "Looking at the titles with less than 40 characters. These are likely to have little context and little signal, and many of them may have been part of a post with selftext, which I removed."
   ]
  },
  {
   "cell_type": "code",
   "execution_count": 39,
   "metadata": {},
   "outputs": [
    {
     "data": {
      "text/html": [
       "<div>\n",
       "<style scoped>\n",
       "    .dataframe tbody tr th:only-of-type {\n",
       "        vertical-align: middle;\n",
       "    }\n",
       "\n",
       "    .dataframe tbody tr th {\n",
       "        vertical-align: top;\n",
       "    }\n",
       "\n",
       "    .dataframe thead th {\n",
       "        text-align: right;\n",
       "    }\n",
       "</style>\n",
       "<table border=\"1\" class=\"dataframe\">\n",
       "  <thead>\n",
       "    <tr style=\"text-align: right;\">\n",
       "      <th></th>\n",
       "      <th>author</th>\n",
       "      <th>title</th>\n",
       "      <th>subreddit</th>\n",
       "      <th>permalink</th>\n",
       "      <th>title_length</th>\n",
       "      <th>word_count</th>\n",
       "    </tr>\n",
       "  </thead>\n",
       "  <tbody>\n",
       "    <tr>\n",
       "      <th>12251</th>\n",
       "      <td>henzhou</td>\n",
       "      <td>how to get free amazon prime</td>\n",
       "      <td>1</td>\n",
       "      <td>/r/UnethicalLifeProTips/comments/aufc2y/ulpt_r...</td>\n",
       "      <td>36</td>\n",
       "      <td>7</td>\n",
       "    </tr>\n",
       "    <tr>\n",
       "      <th>10788</th>\n",
       "      <td>Franlian</td>\n",
       "      <td>found a gift card worth</td>\n",
       "      <td>1</td>\n",
       "      <td>/r/UnethicalLifeProTips/comments/b241ds/ultp_r...</td>\n",
       "      <td>32</td>\n",
       "      <td>6</td>\n",
       "    </tr>\n",
       "    <tr>\n",
       "      <th>9331</th>\n",
       "      <td>iamnotagarlicbread</td>\n",
       "      <td>nevr sell a god hamburg</td>\n",
       "      <td>0</td>\n",
       "      <td>/r/LifeProTips/comments/aq7hw9/nevr_sell_a_god...</td>\n",
       "      <td>23</td>\n",
       "      <td>5</td>\n",
       "    </tr>\n",
       "    <tr>\n",
       "      <th>4257</th>\n",
       "      <td>aelbaum</td>\n",
       "      <td>nclogg a drain without a plunger</td>\n",
       "      <td>0</td>\n",
       "      <td>/r/LifeProTips/comments/azti6e/unclogg_a_drain...</td>\n",
       "      <td>32</td>\n",
       "      <td>6</td>\n",
       "    </tr>\n",
       "    <tr>\n",
       "      <th>1297</th>\n",
       "      <td>acow552</td>\n",
       "      <td>do you get mouth ulcers use listerine</td>\n",
       "      <td>0</td>\n",
       "      <td>/r/LifeProTips/comments/b5nbju/do_you_get_mout...</td>\n",
       "      <td>37</td>\n",
       "      <td>7</td>\n",
       "    </tr>\n",
       "  </tbody>\n",
       "</table>\n",
       "</div>"
      ],
      "text/plain": [
       "                   author                                  title  subreddit  \\\n",
       "12251             henzhou           how to get free amazon prime          1   \n",
       "10788            Franlian               found a gift card worth           1   \n",
       "9331   iamnotagarlicbread                nevr sell a god hamburg          0   \n",
       "4257              aelbaum       nclogg a drain without a plunger          0   \n",
       "1297              acow552  do you get mouth ulcers use listerine          0   \n",
       "\n",
       "                                               permalink  title_length  \\\n",
       "12251  /r/UnethicalLifeProTips/comments/aufc2y/ulpt_r...            36   \n",
       "10788  /r/UnethicalLifeProTips/comments/b241ds/ultp_r...            32   \n",
       "9331   /r/LifeProTips/comments/aq7hw9/nevr_sell_a_god...            23   \n",
       "4257   /r/LifeProTips/comments/azti6e/unclogg_a_drain...            32   \n",
       "1297   /r/LifeProTips/comments/b5nbju/do_you_get_mout...            37   \n",
       "\n",
       "       word_count  \n",
       "12251           7  \n",
       "10788           6  \n",
       "9331            5  \n",
       "4257            6  \n",
       "1297            7  "
      ]
     },
     "execution_count": 39,
     "metadata": {},
     "output_type": "execute_result"
    }
   ],
   "source": [
    "df[df['title_length'] <=40].head()"
   ]
  },
  {
   "cell_type": "markdown",
   "metadata": {},
   "source": [
    "They seem to be mostly typos, short posts with no context, or posts with selftext. "
   ]
  },
  {
   "cell_type": "code",
   "execution_count": 40,
   "metadata": {},
   "outputs": [
    {
     "data": {
      "text/plain": [
       "2057"
      ]
     },
     "execution_count": 40,
     "metadata": {},
     "output_type": "execute_result"
    }
   ],
   "source": [
    "len(df[df['title_length'] <=40])"
   ]
  },
  {
   "cell_type": "markdown",
   "metadata": {},
   "source": [
    "I think my dataset is big enough that I can remove the titles with less than 40 characters."
   ]
  },
  {
   "cell_type": "markdown",
   "metadata": {},
   "source": [
    "Dropping all rows with a character count of less than 40 to get rid of accidental posts and things without substance."
   ]
  },
  {
   "cell_type": "code",
   "execution_count": 41,
   "metadata": {},
   "outputs": [],
   "source": [
    "df.index = range(len(df['title']))"
   ]
  },
  {
   "cell_type": "markdown",
   "metadata": {},
   "source": [
    "Using a try except in my for loop to make sure that nothing gets missed, and if it does, I will know which line."
   ]
  },
  {
   "cell_type": "code",
   "execution_count": 42,
   "metadata": {},
   "outputs": [],
   "source": [
    "for i in range(len(df['title'])):\n",
    "    count = 0\n",
    "    try:\n",
    "        if len(df['title'][i]) <= 40:       \n",
    "            df.drop(i, inplace=True)\n",
    "    except:\n",
    "        KeyError\n",
    "        count += 1\n",
    "        print(i)"
   ]
  },
  {
   "cell_type": "markdown",
   "metadata": {},
   "source": [
    "Resetting the index after deleting rows. "
   ]
  },
  {
   "cell_type": "code",
   "execution_count": 43,
   "metadata": {},
   "outputs": [
    {
     "data": {
      "text/plain": [
       "41"
      ]
     },
     "execution_count": 43,
     "metadata": {},
     "output_type": "execute_result"
    }
   ],
   "source": [
    "df['title_length'].min()"
   ]
  },
  {
   "cell_type": "code",
   "execution_count": 44,
   "metadata": {},
   "outputs": [],
   "source": [
    "df.index = range(len(df['title']))"
   ]
  },
  {
   "cell_type": "markdown",
   "metadata": {},
   "source": [
    "Checking my distribution again after removing a few thousand rows. "
   ]
  },
  {
   "cell_type": "code",
   "execution_count": 45,
   "metadata": {},
   "outputs": [
    {
     "data": {
      "text/plain": [
       "1    0.503983\n",
       "0    0.496017\n",
       "Name: subreddit, dtype: float64"
      ]
     },
     "execution_count": 45,
     "metadata": {},
     "output_type": "execute_result"
    }
   ],
   "source": [
    "df.subreddit.value_counts(normalize=True)"
   ]
  },
  {
   "cell_type": "markdown",
   "metadata": {},
   "source": [
    "Still pretty equal distribution. "
   ]
  },
  {
   "cell_type": "markdown",
   "metadata": {},
   "source": [
    "Pushing this cleaned dataset to csv for modelling. "
   ]
  },
  {
   "cell_type": "code",
   "execution_count": 46,
   "metadata": {},
   "outputs": [],
   "source": [
    "df.to_csv('../data/df_clean.csv', index=False)"
   ]
  },
  {
   "cell_type": "markdown",
   "metadata": {},
   "source": [
    "### Using my Countvectorizer to look at the top words in each class."
   ]
  },
  {
   "cell_type": "markdown",
   "metadata": {},
   "source": [
    "Instantiating my cvec for class 0 with an ngram range of 1,1 and 'english' stop words"
   ]
  },
  {
   "cell_type": "code",
   "execution_count": 53,
   "metadata": {},
   "outputs": [],
   "source": [
    "cvec_lpt = CountVectorizer(ngram_range = (1,1), stop_words = 'english')"
   ]
  },
  {
   "cell_type": "markdown",
   "metadata": {},
   "source": [
    "Setting up a series for my 0 class. "
   ]
  },
  {
   "cell_type": "code",
   "execution_count": 54,
   "metadata": {},
   "outputs": [],
   "source": [
    "X_lpt = df['title'][df['subreddit'] == 0]"
   ]
  },
  {
   "cell_type": "markdown",
   "metadata": {},
   "source": [
    "Fitting my series with my vectorizor. "
   ]
  },
  {
   "cell_type": "code",
   "execution_count": 55,
   "metadata": {},
   "outputs": [
    {
     "data": {
      "text/plain": [
       "CountVectorizer(analyzer='word', binary=False, decode_error='strict',\n",
       "        dtype=<class 'numpy.int64'>, encoding='utf-8', input='content',\n",
       "        lowercase=True, max_df=1.0, max_features=None, min_df=1,\n",
       "        ngram_range=(1, 1), preprocessor=None, stop_words='english',\n",
       "        strip_accents=None, token_pattern='(?u)\\\\b\\\\w\\\\w+\\\\b',\n",
       "        tokenizer=None, vocabulary=None)"
      ]
     },
     "execution_count": 55,
     "metadata": {},
     "output_type": "execute_result"
    }
   ],
   "source": [
    "cvec_lpt.fit(X_lpt)"
   ]
  },
  {
   "cell_type": "markdown",
   "metadata": {},
   "source": [
    "Transforming my series. "
   ]
  },
  {
   "cell_type": "code",
   "execution_count": 56,
   "metadata": {},
   "outputs": [],
   "source": [
    "X_lpt_cvec = cvec_lpt.transform(X_lpt)"
   ]
  },
  {
   "cell_type": "markdown",
   "metadata": {},
   "source": [
    "Taking a look at the first 10 words alphabetically."
   ]
  },
  {
   "cell_type": "code",
   "execution_count": 57,
   "metadata": {},
   "outputs": [
    {
     "data": {
      "text/plain": [
       "['ab',\n",
       " 'abandon',\n",
       " 'abandoned',\n",
       " 'abbreviate',\n",
       " 'abbreviation',\n",
       " 'abbreviations',\n",
       " 'abcgmailcom',\n",
       " 'ability',\n",
       " 'able',\n",
       " 'ablebodiedness']"
      ]
     },
     "execution_count": 57,
     "metadata": {},
     "output_type": "execute_result"
    }
   ],
   "source": [
    "cvec_lpt.get_feature_names()[:10]"
   ]
  },
  {
   "cell_type": "markdown",
   "metadata": {},
   "source": [
    "Some of these words are giberish, but I will leave them in, as I can't tell the context in which they are posted currently."
   ]
  },
  {
   "cell_type": "markdown",
   "metadata": {},
   "source": [
    "Creating a dataframe of my most common lpt words with their counts."
   ]
  },
  {
   "cell_type": "code",
   "execution_count": 58,
   "metadata": {},
   "outputs": [],
   "source": [
    "most_common_lpt = pd.DataFrame(X_lpt_cvec.toarray(), columns = cvec_lpt.get_feature_names()).sum().sort_values(ascending = False)"
   ]
  },
  {
   "cell_type": "code",
   "execution_count": 59,
   "metadata": {},
   "outputs": [
    {
     "data": {
      "text/plain": [
       "dont       1307\n",
       "youre      1058\n",
       "use         875\n",
       "make        811\n",
       "just        757\n",
       "time        730\n",
       "want        694\n",
       "like        631\n",
       "phone       527\n",
       "way         511\n",
       "need        471\n",
       "people      463\n",
       "instead     415\n",
       "water       398\n",
       "know        386\n",
       "dtype: int64"
      ]
     },
     "execution_count": 59,
     "metadata": {},
     "output_type": "execute_result"
    }
   ],
   "source": [
    "most_common_lpt.head(15)"
   ]
  },
  {
   "cell_type": "markdown",
   "metadata": {},
   "source": [
    "Looking at these words, my guess is that both classes will have many of these words in their most frequently used. dont, your, use, make, just, want, like are all pretty common words. Lets continue."
   ]
  },
  {
   "cell_type": "markdown",
   "metadata": {},
   "source": [
    "Doing the same process with my target class. "
   ]
  },
  {
   "cell_type": "code",
   "execution_count": 60,
   "metadata": {},
   "outputs": [],
   "source": [
    "X_ulpt = df['title'][df['subreddit'] == 1]"
   ]
  },
  {
   "cell_type": "code",
   "execution_count": 62,
   "metadata": {},
   "outputs": [],
   "source": [
    "cvec_ulpt = CountVectorizer(ngram_range = (1,1), stop_words = 'english')"
   ]
  },
  {
   "cell_type": "code",
   "execution_count": 63,
   "metadata": {},
   "outputs": [
    {
     "data": {
      "text/plain": [
       "CountVectorizer(analyzer='word', binary=False, decode_error='strict',\n",
       "        dtype=<class 'numpy.int64'>, encoding='utf-8', input='content',\n",
       "        lowercase=True, max_df=1.0, max_features=None, min_df=1,\n",
       "        ngram_range=(1, 1), preprocessor=None, stop_words='english',\n",
       "        strip_accents=None, token_pattern='(?u)\\\\b\\\\w\\\\w+\\\\b',\n",
       "        tokenizer=None, vocabulary=None)"
      ]
     },
     "execution_count": 63,
     "metadata": {},
     "output_type": "execute_result"
    }
   ],
   "source": [
    "cvec_ulpt.fit(X_ulpt)"
   ]
  },
  {
   "cell_type": "code",
   "execution_count": 64,
   "metadata": {},
   "outputs": [],
   "source": [
    "X_ulpt_cvec = cvec_ulpt.transform(X_ulpt)"
   ]
  },
  {
   "cell_type": "code",
   "execution_count": 65,
   "metadata": {},
   "outputs": [
    {
     "data": {
      "text/plain": [
       "['aa',\n",
       " 'aah',\n",
       " 'aampe',\n",
       " 'abandon',\n",
       " 'abandoned',\n",
       " 'abandonment',\n",
       " 'abandons',\n",
       " 'abcatgmailcom',\n",
       " 'abcde',\n",
       " 'abd']"
      ]
     },
     "execution_count": 65,
     "metadata": {},
     "output_type": "execute_result"
    }
   ],
   "source": [
    "cvec_ulpt.get_feature_names()[:10]"
   ]
  },
  {
   "cell_type": "code",
   "execution_count": 66,
   "metadata": {},
   "outputs": [],
   "source": [
    "most_common_ulpt = pd.DataFrame(X_ulpt_cvec.toarray(), columns = cvec_ulpt.get_feature_names()).sum().sort_values(ascending = False)"
   ]
  },
  {
   "cell_type": "code",
   "execution_count": 70,
   "metadata": {},
   "outputs": [
    {
     "data": {
      "text/plain": [
       "want      1915\n",
       "free      1205\n",
       "just      1158\n",
       "dont      1153\n",
       "youre     1058\n",
       "make       805\n",
       "need       745\n",
       "like       708\n",
       "people     681\n",
       "buy        663\n",
       "use        632\n",
       "tell       620\n",
       "time       618\n",
       "money      552\n",
       "say        549\n",
       "dtype: int64"
      ]
     },
     "execution_count": 70,
     "metadata": {},
     "output_type": "execute_result"
    }
   ],
   "source": [
    "most_common_ulpt.head(15)"
   ]
  },
  {
   "cell_type": "code",
   "execution_count": 71,
   "metadata": {},
   "outputs": [],
   "source": [
    "df_ulpt = most_common_ulpt.to_frame()"
   ]
  },
  {
   "cell_type": "code",
   "execution_count": 72,
   "metadata": {},
   "outputs": [],
   "source": [
    "df_ulpt['count'] = df_ulpt"
   ]
  },
  {
   "cell_type": "code",
   "execution_count": 73,
   "metadata": {},
   "outputs": [
    {
     "data": {
      "text/html": [
       "<div>\n",
       "<style scoped>\n",
       "    .dataframe tbody tr th:only-of-type {\n",
       "        vertical-align: middle;\n",
       "    }\n",
       "\n",
       "    .dataframe tbody tr th {\n",
       "        vertical-align: top;\n",
       "    }\n",
       "\n",
       "    .dataframe thead th {\n",
       "        text-align: right;\n",
       "    }\n",
       "</style>\n",
       "<table border=\"1\" class=\"dataframe\">\n",
       "  <thead>\n",
       "    <tr style=\"text-align: right;\">\n",
       "      <th></th>\n",
       "      <th>0</th>\n",
       "      <th>count</th>\n",
       "    </tr>\n",
       "  </thead>\n",
       "  <tbody>\n",
       "    <tr>\n",
       "      <th>want</th>\n",
       "      <td>1915</td>\n",
       "      <td>1915</td>\n",
       "    </tr>\n",
       "    <tr>\n",
       "      <th>free</th>\n",
       "      <td>1205</td>\n",
       "      <td>1205</td>\n",
       "    </tr>\n",
       "    <tr>\n",
       "      <th>just</th>\n",
       "      <td>1158</td>\n",
       "      <td>1158</td>\n",
       "    </tr>\n",
       "    <tr>\n",
       "      <th>dont</th>\n",
       "      <td>1153</td>\n",
       "      <td>1153</td>\n",
       "    </tr>\n",
       "    <tr>\n",
       "      <th>youre</th>\n",
       "      <td>1058</td>\n",
       "      <td>1058</td>\n",
       "    </tr>\n",
       "  </tbody>\n",
       "</table>\n",
       "</div>"
      ],
      "text/plain": [
       "          0  count\n",
       "want   1915   1915\n",
       "free   1205   1205\n",
       "just   1158   1158\n",
       "dont   1153   1153\n",
       "youre  1058   1058"
      ]
     },
     "execution_count": 73,
     "metadata": {},
     "output_type": "execute_result"
    }
   ],
   "source": [
    "df_ulpt.head()"
   ]
  },
  {
   "cell_type": "code",
   "execution_count": 74,
   "metadata": {},
   "outputs": [],
   "source": [
    "df_lpt = most_common_lpt.to_frame()\n",
    "df_lpt['count'] = df_lpt"
   ]
  },
  {
   "cell_type": "code",
   "execution_count": 76,
   "metadata": {},
   "outputs": [
    {
     "data": {
      "text/plain": [
       "(array([   0.,  250.,  500.,  750., 1000., 1250., 1500., 1750., 2000.,\n",
       "        2250.]), <a list of 10 Text yticklabel objects>)"
      ]
     },
     "execution_count": 76,
     "metadata": {},
     "output_type": "execute_result"
    },
    {
     "data": {
      "image/png": "[encoded data removed]",
      "text/plain": [
       "<Figure size 1440x720 with 1 Axes>"
      ]
     },
     "metadata": {},
     "output_type": "display_data"
    }
   ],
   "source": [
    "plt.figure(figsize = (20,10))\n",
    "plt.bar(most_common_ulpt.head(15).index, height = df_ulpt['count'].head(15), color = 'lightblue')\n",
    "plt.title('Most Common ULPT Words', fontsize = 35)\n",
    "plt.ylabel('Count', fontsize = 25)\n",
    "plt.xlabel('Words', fontsize = 25)\n",
    "plt.xticks(fontsize = 20)\n",
    "plt.yticks(fontsize = 20)"
   ]
  },
  {
   "cell_type": "markdown",
   "metadata": {},
   "source": [
    "All of the words I mentioned above, (dont, your, use, make, just, want, like) are also in the top 10 most frequently used words in the target class as well. I will explore a way to add these to the stop words further down. "
   ]
  },
  {
   "cell_type": "code",
   "execution_count": 77,
   "metadata": {},
   "outputs": [
    {
     "data": {
      "text/plain": [
       "(array([   0.,  200.,  400.,  600.,  800., 1000., 1200., 1400.]),\n",
       " <a list of 8 Text yticklabel objects>)"
      ]
     },
     "execution_count": 77,
     "metadata": {},
     "output_type": "execute_result"
    },
    {
     "data": {
      "image/png": "[encoded data removed]",
      "text/plain": [
       "<Figure size 1440x720 with 1 Axes>"
      ]
     },
     "metadata": {},
     "output_type": "display_data"
    }
   ],
   "source": [
    "plt.figure(figsize = (20,10))\n",
    "plt.bar(most_common_lpt.head(15).index, height = df_lpt['count'].head(15), color = 'lightblue')\n",
    "plt.title('Most Common LPT Words', fontsize = 35)\n",
    "plt.ylabel('Count', fontsize = 25)\n",
    "plt.xlabel('Words', fontsize = 25)\n",
    "plt.xticks(fontsize = 20)\n",
    "plt.yticks(fontsize = 20)"
   ]
  },
  {
   "cell_type": "markdown",
   "metadata": {},
   "source": [
    "As mentioned above, a lot of the top 15 most used words overlap between the two classes. I will be adding the intersection of the top 50 words of each class to my stopwords list. Some of these are such common words in the english language that it makes sense that there is some intersection between the two classes."
   ]
  },
  {
   "cell_type": "markdown",
   "metadata": {},
   "source": [
    "Creating a most common list of the top 50 words of each class and will use the intersection of those as an additional list of stopwords."
   ]
  },
  {
   "cell_type": "code",
   "execution_count": 78,
   "metadata": {},
   "outputs": [],
   "source": [
    "most_common_list_lpt = list(most_common_lpt.head(50).index)"
   ]
  },
  {
   "cell_type": "code",
   "execution_count": 79,
   "metadata": {},
   "outputs": [],
   "source": [
    "most_common_list_ulpt = list(most_common_ulpt.head(50).index)"
   ]
  },
  {
   "cell_type": "code",
   "execution_count": 86,
   "metadata": {},
   "outputs": [],
   "source": [
    "intersect_ulpt_lpt = list(set(most_common_list_lpt).intersection(set(most_common_list_ulpt)))"
   ]
  },
  {
   "cell_type": "code",
   "execution_count": 93,
   "metadata": {},
   "outputs": [
    {
     "data": {
      "text/plain": [
       "33"
      ]
     },
     "execution_count": 93,
     "metadata": {},
     "output_type": "execute_result"
    }
   ],
   "source": [
    "len(intersect_ulpt_lpt)"
   ]
  },
  {
   "cell_type": "markdown",
   "metadata": {},
   "source": [
    "The above is the additional list of stopwords I will be adding. They aren't very polar words, so I am hoping they take out insignificant noise from my lists. "
   ]
  },
  {
   "cell_type": "markdown",
   "metadata": {},
   "source": [
    "Looking at the unique words left in each class"
   ]
  },
  {
   "cell_type": "code",
   "execution_count": 88,
   "metadata": {},
   "outputs": [],
   "source": [
    "lpt_unique = list(set(cvec_lpt.get_feature_names()) - (set(cvec_ulpt.get_feature_names())))"
   ]
  },
  {
   "cell_type": "code",
   "execution_count": 83,
   "metadata": {},
   "outputs": [
    {
     "data": {
      "text/plain": [
       "6097"
      ]
     },
     "execution_count": 83,
     "metadata": {},
     "output_type": "execute_result"
    }
   ],
   "source": [
    "len(lpt_unique)"
   ]
  },
  {
   "cell_type": "code",
   "execution_count": 84,
   "metadata": {},
   "outputs": [],
   "source": [
    "ulpt_unique = list(set(cvec_ulpt.get_feature_names()) - (set(cvec_lpt.get_feature_names())))"
   ]
  },
  {
   "cell_type": "code",
   "execution_count": 85,
   "metadata": {},
   "outputs": [
    {
     "data": {
      "text/plain": [
       "5499"
      ]
     },
     "execution_count": 85,
     "metadata": {},
     "output_type": "execute_result"
    }
   ],
   "source": [
    "len(ulpt_unique)"
   ]
  },
  {
   "cell_type": "markdown",
   "metadata": {},
   "source": [
    "The target class uses less unique words. Perhaps they focus more around similar topics when posting. Or perhaps toxic language is more limited than sincere language."
   ]
  },
  {
   "cell_type": "markdown",
   "metadata": {},
   "source": [
    "Importing the stop words and adding my own stop words to them. Will pickle them out after."
   ]
  },
  {
   "cell_type": "code",
   "execution_count": 89,
   "metadata": {},
   "outputs": [],
   "source": [
    "from sklearn.feature_extraction import text \n",
    "stopwords = text.ENGLISH_STOP_WORDS.union(intersect_ulpt_lpt)"
   ]
  },
  {
   "cell_type": "code",
   "execution_count": 92,
   "metadata": {},
   "outputs": [],
   "source": [
    "with open('../assets/stopwords.pkl', 'wb+') as f:\n",
    "    pickle.dump(stopwords, f)"
   ]
  },
  {
   "cell_type": "markdown",
   "metadata": {},
   "source": [
    "### Conclusion and Next Steps\n",
    "\n",
    "Looking into the distributions of the word counts and character counts of each class, I couldn't make any realistic inferences regarding the tendencies of each class. Perhaps toxic language is more succinct and to the point, perhaps not. With the current dataset, I didn't see a trend. For the most part, both classes were pretty normally distributed with a slight skew to the right in both their word counts and their character counts. Even looking at the top 15 words in each class, it was difficult to see trends, as they both had several common words. While some of the words, like 'want' were in both classes, 'want' was used close to 2000 times in my target class, ULPT, vs 700 times in my 0 class. While this may not be the best choice, I added that, along with 32 other intersecting words to my stopwords list, which will be implemented in my next notebook.\n",
    "\n",
    "Next steps include exploring different modeling techniques and interpretting those models. "
   ]
  }
 ],
 "metadata": {
  "kernelspec": {
   "display_name": "Python 3",
   "language": "python",
   "name": "python3"
  },
  "language_info": {
   "codemirror_mode": {
    "name": "ipython",
    "version": 3
   },
   "file_extension": ".py",
   "mimetype": "text/x-python",
   "name": "python",
   "nbconvert_exporter": "python",
   "pygments_lexer": "ipython3",
   "version": "3.7.2"
  }
 },
 "nbformat": 4,
 "nbformat_minor": 2
}
