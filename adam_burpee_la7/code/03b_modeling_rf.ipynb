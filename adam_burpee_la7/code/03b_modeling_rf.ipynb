{
 "cells": [
  {
   "cell_type": "markdown",
   "metadata": {},
   "source": [
    "# Notebook 3b: Modeling with Random Forest\n",
    "\n",
    "In this notebook, I will be exploring the random forest classifier and how it compares to the logistic regression model. Similar to the logistic regression notebook, I will be using a countvectorizer with the standard english stop words along with the most common 33 intersecting words between my target class, UnethicalLifeProTips, and my zero class, LifeProTips.  \n",
    "\n",
    "I picked random forest classifier because it has plenty of hyperparameters that can be tuned, but few need to be tuned, and it naturally decreases the variance compared to bagged decision trees. It does this by selecting a random subset of the features at each split. In a standard bagged tree, the same features can be used over and over again in all of the trees, which means they will become correlated. By using random forest and picking a random subset at each split, we decrease the variance and the high correlation, which creates a stronger model. \n",
    "\n",
    "I am hoping that the random forest classifier will tune into the specific words used in each class and give us better insight into the specific words that can be associated with toxic and insincere online behavior. "
   ]
  },
  {
   "cell_type": "code",
   "execution_count": 150,
   "metadata": {},
   "outputs": [],
   "source": [
    "import pandas as pd\n",
    "import numpy as np\n",
    "from sklearn.feature_extraction.text import CountVectorizer\n",
    "import pickle\n",
    "import re\n",
    "from sklearn.ensemble import RandomForestClassifier\n",
    "import matplotlib.pyplot as plt\n",
    "\n",
    "%matplotlib inline\n",
    "plt.style.use('fivethirtyeight')"
   ]
  },
  {
   "cell_type": "markdown",
   "metadata": {},
   "source": [
    "Pickling in my necessary pickles. "
   ]
  },
  {
   "cell_type": "code",
   "execution_count": 173,
   "metadata": {},
   "outputs": [],
   "source": [
    "with open('../assets/stopwords.pkl', 'rb') as f: #pickles adding columns back into \n",
    "    stopwords = pickle.load(f)\n",
    "with open('../assets/X_train.pkl', 'rb') as f: #pickles adding columns back into \n",
    "    X_train = pickle.load(f)\n",
    "with open('../assets/X_test.pkl', 'rb') as f: #pickles adding columns back into \n",
    "    X_test = pickle.load(f)\n",
    "with open('../assets/y_train.pkl', 'rb') as f: #pickles adding columns back into \n",
    "    y_train = pickle.load(f)\n",
    "with open('../assets/y_test.pkl', 'rb') as f: #pickles adding columns back into \n",
    "    y_test = pickle.load(f)\n",
    "with open('../assets/X_kaggle.pkl', 'rb') as f: #pickles adding columns back into \n",
    "    X_kaggle = pickle.load(f)\n",
    "with open('../assets/y_kaggle.pkl', 'rb') as f: #pickles adding columns back into \n",
    "    y_kaggle = pickle.load(f)"
   ]
  },
  {
   "cell_type": "code",
   "execution_count": 3,
   "metadata": {},
   "outputs": [
    {
     "data": {
      "text/plain": [
       "351"
      ]
     },
     "execution_count": 3,
     "metadata": {},
     "output_type": "execute_result"
    }
   ],
   "source": [
    "len(stopwords)"
   ]
  },
  {
   "cell_type": "markdown",
   "metadata": {},
   "source": [
    "Reading in my cleaned dataframe for later use if necessary."
   ]
  },
  {
   "cell_type": "code",
   "execution_count": 48,
   "metadata": {},
   "outputs": [],
   "source": [
    "df = pd.read_csv('../data/df_clean.csv')"
   ]
  },
  {
   "cell_type": "markdown",
   "metadata": {},
   "source": [
    "Taking a look at the cpu count on my computer so I can increase the n_jobs in my random forest classifier if necessary."
   ]
  },
  {
   "cell_type": "code",
   "execution_count": 5,
   "metadata": {},
   "outputs": [
    {
     "data": {
      "text/plain": [
       "8"
      ]
     },
     "execution_count": 5,
     "metadata": {},
     "output_type": "execute_result"
    }
   ],
   "source": [
    "import multiprocessing\n",
    "\n",
    "multiprocessing.cpu_count()"
   ]
  },
  {
   "cell_type": "markdown",
   "metadata": {},
   "source": [
    "Instantiating my count vectorizer with the standard english stopwords, along with my additional 33 most common intersecting words between the two classes. "
   ]
  },
  {
   "cell_type": "code",
   "execution_count": 6,
   "metadata": {},
   "outputs": [],
   "source": [
    "cvec = CountVectorizer(stop_words=stopwords)"
   ]
  },
  {
   "cell_type": "markdown",
   "metadata": {},
   "source": [
    "Fitting my vectorizer to the corpus"
   ]
  },
  {
   "cell_type": "code",
   "execution_count": 7,
   "metadata": {},
   "outputs": [
    {
     "data": {
      "text/plain": [
       "CountVectorizer(analyzer='word', binary=False, decode_error='strict',\n",
       "        dtype=<class 'numpy.int64'>, encoding='utf-8', input='content',\n",
       "        lowercase=True, max_df=1.0, max_features=None, min_df=1,\n",
       "        ngram_range=(1, 1), preprocessor=None,\n",
       "        stop_words=frozenset({'time', 'day', 'can', 'our', 'between', 'anyway', 'become', 'yet', 'one', 'under', 'fill', 'mill', 'with', 'there', 'now', 'full', 'across', 'your', 'be', 'mine', 'except', 'thence', 'else', 'to', 'being', 'indeed', 'get', 'side', 'want', 'youll', 'put', 'nor', 'detail', 'make'...twelve', 'like', 'should', 'fire', 'next', 'any', 'eleven', 'often', 'from', 'alone', 'us', 'done'}),\n",
       "        strip_accents=None, token_pattern='(?u)\\\\b\\\\w\\\\w+\\\\b',\n",
       "        tokenizer=None, vocabulary=None)"
      ]
     },
     "execution_count": 7,
     "metadata": {},
     "output_type": "execute_result"
    }
   ],
   "source": [
    "cvec.fit(X_train)"
   ]
  },
  {
   "cell_type": "markdown",
   "metadata": {},
   "source": [
    "Transforming my vectorizer to my training set."
   ]
  },
  {
   "cell_type": "code",
   "execution_count": 8,
   "metadata": {},
   "outputs": [],
   "source": [
    "X_train_cvec = cvec.transform(X_train)"
   ]
  },
  {
   "cell_type": "code",
   "execution_count": 9,
   "metadata": {},
   "outputs": [
    {
     "data": {
      "text/plain": [
       "(13182, 15966)"
      ]
     },
     "execution_count": 9,
     "metadata": {},
     "output_type": "execute_result"
    }
   ],
   "source": [
    "X_train_cvec.shape"
   ]
  },
  {
   "cell_type": "markdown",
   "metadata": {},
   "source": [
    "Doing the same on my testing data."
   ]
  },
  {
   "cell_type": "code",
   "execution_count": 10,
   "metadata": {},
   "outputs": [],
   "source": [
    "X_test_cvec = cvec.transform(X_test)"
   ]
  },
  {
   "cell_type": "markdown",
   "metadata": {},
   "source": [
    "Creating dataframes of my cvec arrays for my training and testing datasets. Using the cvec featurenames as the columns. "
   ]
  },
  {
   "cell_type": "code",
   "execution_count": 11,
   "metadata": {},
   "outputs": [],
   "source": [
    "X_train_cvec = pd.DataFrame(X_train_cvec.toarray(), columns = cvec.get_feature_names())"
   ]
  },
  {
   "cell_type": "code",
   "execution_count": 12,
   "metadata": {},
   "outputs": [],
   "source": [
    "X_test_cvec = pd.DataFrame(X_test_cvec.toarray(), columns = cvec.get_feature_names())"
   ]
  },
  {
   "cell_type": "markdown",
   "metadata": {},
   "source": [
    "Instantiating and fitting my random forest classifier so that I can see how deep the tree goes."
   ]
  },
  {
   "cell_type": "code",
   "execution_count": 29,
   "metadata": {},
   "outputs": [
    {
     "name": "stderr",
     "output_type": "stream",
     "text": [
      "/Users/adamburpee/anaconda3/lib/python3.7/site-packages/sklearn/ensemble/forest.py:246: FutureWarning: The default value of n_estimators will change from 10 in version 0.20 to 100 in 0.22.\n",
      "  \"10 in version 0.20 to 100 in 0.22.\", FutureWarning)\n"
     ]
    },
    {
     "data": {
      "text/plain": [
       "1134"
      ]
     },
     "execution_count": 29,
     "metadata": {},
     "output_type": "execute_result"
    }
   ],
   "source": [
    "rf = RandomForestClassifier(random_state = 42)\n",
    "rf.fit(X_train_cvec, y_train)\n",
    "max([x.tree_.max_depth for x in rf.estimators_])"
   ]
  },
  {
   "cell_type": "code",
   "execution_count": 14,
   "metadata": {},
   "outputs": [
    {
     "data": {
      "text/plain": [
       "(13182, 15966)"
      ]
     },
     "execution_count": 14,
     "metadata": {},
     "output_type": "execute_result"
    }
   ],
   "source": [
    "X_train_cvec.shape"
   ]
  },
  {
   "cell_type": "markdown",
   "metadata": {},
   "source": [
    "Instantiating my random forest classifier once again. I am setting a random state of 42, n_jobs to 4, number of estimators to 100 (this is the number of trees i want in my forest), and a min samples split of 3, which means the minimum number of samples to split at a node. I toyed around with max depth and max features, but I decided to go with the defaults. The max depth default will go until all of the nodes are expanded. The max features will cap itself at the square root of the number of features I have. That will be about 126 features. "
   ]
  },
  {
   "cell_type": "code",
   "execution_count": 13,
   "metadata": {},
   "outputs": [],
   "source": [
    "rf = RandomForestClassifier(random_state= 42,\n",
    "                            n_jobs = 4, \n",
    "                            n_estimators = 100,\n",
    "#                             max_depth = 500,\n",
    "#                             max_features = 12500, \n",
    "                            min_samples_split= 3)"
   ]
  },
  {
   "cell_type": "markdown",
   "metadata": {},
   "source": [
    "Fitting my vectorized training set and my training y to the random forest"
   ]
  },
  {
   "cell_type": "code",
   "execution_count": 14,
   "metadata": {},
   "outputs": [
    {
     "data": {
      "text/plain": [
       "RandomForestClassifier(bootstrap=True, class_weight=None, criterion='gini',\n",
       "            max_depth=None, max_features='auto', max_leaf_nodes=None,\n",
       "            min_impurity_decrease=0.0, min_impurity_split=None,\n",
       "            min_samples_leaf=1, min_samples_split=3,\n",
       "            min_weight_fraction_leaf=0.0, n_estimators=100, n_jobs=4,\n",
       "            oob_score=False, random_state=42, verbose=0, warm_start=False)"
      ]
     },
     "execution_count": 14,
     "metadata": {},
     "output_type": "execute_result"
    }
   ],
   "source": [
    "rf.fit(X_train_cvec, y_train)"
   ]
  },
  {
   "cell_type": "markdown",
   "metadata": {},
   "source": [
    "Scoring my training set."
   ]
  },
  {
   "cell_type": "code",
   "execution_count": 16,
   "metadata": {},
   "outputs": [
    {
     "data": {
      "text/plain": [
       "0.9971931421635564"
      ]
     },
     "execution_count": 16,
     "metadata": {},
     "output_type": "execute_result"
    }
   ],
   "source": [
    "rf.score(X_train_cvec, y_train)"
   ]
  },
  {
   "cell_type": "markdown",
   "metadata": {},
   "source": [
    "This is an impressive score, but I am positive this will be overfit. On my training data, my random forest classifier is 99.7% accurate. We will take a look at the test score below."
   ]
  },
  {
   "cell_type": "code",
   "execution_count": 17,
   "metadata": {},
   "outputs": [
    {
     "data": {
      "text/plain": [
       "0.795402822030041"
      ]
     },
     "execution_count": 17,
     "metadata": {},
     "output_type": "execute_result"
    }
   ],
   "source": [
    "rf.score(X_test_cvec, y_test)"
   ]
  },
  {
   "cell_type": "markdown",
   "metadata": {},
   "source": [
    "My random forest model is significantly more overfit than my logreg model, which was expected. It increased accuracy by almost 2% compared to the logreg model. We will take a look at predictions and predictive probabilities below. "
   ]
  },
  {
   "cell_type": "code",
   "execution_count": 18,
   "metadata": {},
   "outputs": [],
   "source": [
    "preds_rf = rf.predict(X_test_cvec)"
   ]
  },
  {
   "cell_type": "code",
   "execution_count": 19,
   "metadata": {},
   "outputs": [
    {
     "data": {
      "text/plain": [
       "array([1, 0, 1, ..., 1, 0, 1])"
      ]
     },
     "execution_count": 19,
     "metadata": {},
     "output_type": "execute_result"
    }
   ],
   "source": [
    "preds_rf"
   ]
  },
  {
   "cell_type": "code",
   "execution_count": 40,
   "metadata": {},
   "outputs": [
    {
     "data": {
      "text/plain": [
       "array([2.13556935e-05, 1.05296998e-07, 4.42968074e-06, ...,\n",
       "       3.37313564e-07, 3.63109832e-06, 2.17640584e-07])"
      ]
     },
     "execution_count": 40,
     "metadata": {},
     "output_type": "execute_result"
    }
   ],
   "source": [
    "rf.feature_importances_"
   ]
  },
  {
   "cell_type": "code",
   "execution_count": 108,
   "metadata": {},
   "outputs": [],
   "source": [
    "from sklearn.metrics import confusion_matrix"
   ]
  },
  {
   "cell_type": "markdown",
   "metadata": {},
   "source": [
    "I will be taking a look at the confusion matrix below"
   ]
  },
  {
   "cell_type": "code",
   "execution_count": 1,
   "metadata": {},
   "outputs": [],
   "source": [
    "import datetime"
   ]
  },
  {
   "cell_type": "code",
   "execution_count": 7,
   "metadata": {},
   "outputs": [
    {
     "name": "stdout",
     "output_type": "stream",
     "text": [
      "You have 5.51 hours left until capsplosion\n"
     ]
    }
   ],
   "source": [
    "def never_forgetti():\n",
    "    from datetime import datetime\n",
    "    due_date = datetime(2019, 5, 17, 17) # provide UTC time\n",
    "    time_left = due_date - datetime.now()\n",
    "    hours_left = round(time_left.total_seconds()/3600,2)\n",
    "    print(f'You have {hours_left} hours left until capsplosion')\n",
    "\n",
    "never_forgetti()    "
   ]
  },
  {
   "cell_type": "code",
   "execution_count": null,
   "metadata": {},
   "outputs": [],
   "source": []
  },
  {
   "cell_type": "raw",
   "metadata": {},
   "source": [
    "cm = confusion_matrix(y_test, preds_rf)"
   ]
  },
  {
   "cell_type": "code",
   "execution_count": 176,
   "metadata": {},
   "outputs": [],
   "source": [
    "cm_df = pd.DataFrame(cm, columns = ['pred_neg', 'pred_pos'], index = ['actual_neg', 'actual_pos'])"
   ]
  },
  {
   "cell_type": "code",
   "execution_count": 177,
   "metadata": {},
   "outputs": [
    {
     "data": {
      "text/html": [
       "<div>\n",
       "<style scoped>\n",
       "    .dataframe tbody tr th:only-of-type {\n",
       "        vertical-align: middle;\n",
       "    }\n",
       "\n",
       "    .dataframe tbody tr th {\n",
       "        vertical-align: top;\n",
       "    }\n",
       "\n",
       "    .dataframe thead th {\n",
       "        text-align: right;\n",
       "    }\n",
       "</style>\n",
       "<table border=\"1\" class=\"dataframe\">\n",
       "  <thead>\n",
       "    <tr style=\"text-align: right;\">\n",
       "      <th></th>\n",
       "      <th>pred_neg</th>\n",
       "      <th>pred_pos</th>\n",
       "    </tr>\n",
       "  </thead>\n",
       "  <tbody>\n",
       "    <tr>\n",
       "      <th>actual_neg</th>\n",
       "      <td>1779</td>\n",
       "      <td>401</td>\n",
       "    </tr>\n",
       "    <tr>\n",
       "      <th>actual_pos</th>\n",
       "      <td>499</td>\n",
       "      <td>1715</td>\n",
       "    </tr>\n",
       "  </tbody>\n",
       "</table>\n",
       "</div>"
      ],
      "text/plain": [
       "            pred_neg  pred_pos\n",
       "actual_neg      1779       401\n",
       "actual_pos       499      1715"
      ]
     },
     "execution_count": 177,
     "metadata": {},
     "output_type": "execute_result"
    }
   ],
   "source": [
    "cm_df"
   ]
  },
  {
   "cell_type": "markdown",
   "metadata": {},
   "source": [
    "For toxic behavior, our worst case scenario would be false negatives. We wouldn't want to predict something to be wholesome, when in fact it is toxic or insincere. Those would be the users who 'sneak through the cracks', so to say. As a beginning model, though, I think 1/8 of posts being predicted as false negatives is ok. "
   ]
  },
  {
   "cell_type": "markdown",
   "metadata": {},
   "source": [
    "Looking at feature importance to create a plot of the top 20 features for random forest classifier."
   ]
  },
  {
   "cell_type": "code",
   "execution_count": 26,
   "metadata": {},
   "outputs": [],
   "source": [
    "feat_importance = pd.DataFrame(rf.feature_importances_, \n",
    "                               X_train_cvec.columns, \n",
    "                               columns=['importance'])"
   ]
  },
  {
   "cell_type": "code",
   "execution_count": 71,
   "metadata": {},
   "outputs": [],
   "source": [
    "temp = feat_importance.sort_values('importance', ascending=False).head(20)"
   ]
  },
  {
   "cell_type": "code",
   "execution_count": 184,
   "metadata": {},
   "outputs": [
    {
     "data": {
      "text/plain": [
       "(array([0.   , 0.001, 0.002, 0.003, 0.004, 0.005, 0.006, 0.007, 0.008,\n",
       "        0.009]), <a list of 10 Text xticklabel objects>)"
      ]
     },
     "execution_count": 184,
     "metadata": {},
     "output_type": "execute_result"
    },
    {
     "data": {
      "image/png": "[encoded data removed]",
      "text/plain": [
       "<Figure size 1440x720 with 1 Axes>"
      ]
     },
     "metadata": {},
     "output_type": "display_data"
    }
   ],
   "source": [
    "plt.figure(figsize=(20,10))\n",
    "temp = feat_importance.sort_values('importance', ascending=False).head(20)\n",
    "plt.barh(temp.index, \n",
    "         temp['importance'],\n",
    "         color = 'lightblue')\n",
    "plt.title('Top 20 Features Random Forest', fontsize=30)\n",
    "plt.xlabel('Amount of information gained', fontsize=20)\n",
    "plt.ylabel('Feature', fontsize=20)\n",
    "plt.yticks(fontsize = 15)\n",
    "plt.xticks(fontsize = 15)"
   ]
  },
  {
   "cell_type": "markdown",
   "metadata": {},
   "source": [
    "The top 20 features are pretty similar to the top 20 features from my logreg model. The amount of information gained isn't easy to interpret. It is based on decreasing the impurity at each split, meaning that when a node is going to be split, the tree picks the features that display the lowest gini impurity. The gini impurity is a measure of how often a randomly chosen feature would be labeled incorrectly if the label was also picked randomly. \n",
    "\n",
    "In laymens terms, these are the words that were picked and labeled correctly most often on average throughout the forest. "
   ]
  },
  {
   "cell_type": "markdown",
   "metadata": {},
   "source": [
    "Looking at the predicted probabilities of my countvectorized dataframe."
   ]
  },
  {
   "cell_type": "code",
   "execution_count": 29,
   "metadata": {},
   "outputs": [],
   "source": [
    "pred_probas = rf.predict_proba(X_test_cvec)"
   ]
  },
  {
   "cell_type": "markdown",
   "metadata": {},
   "source": [
    "Getting the probabilities of my target class. "
   ]
  },
  {
   "cell_type": "code",
   "execution_count": 30,
   "metadata": {},
   "outputs": [],
   "source": [
    "ulpt_preds = pred_probas[:,1]"
   ]
  },
  {
   "cell_type": "markdown",
   "metadata": {},
   "source": [
    "Looking at the target class the percentage out of total posts when it is above 80% sure that it is predicting the correct class. "
   ]
  },
  {
   "cell_type": "code",
   "execution_count": 31,
   "metadata": {},
   "outputs": [
    {
     "data": {
      "text/plain": [
       "0.18320436959490213"
      ]
     },
     "execution_count": 31,
     "metadata": {},
     "output_type": "execute_result"
    }
   ],
   "source": [
    "(ulpt_preds > .8).mean()"
   ]
  },
  {
   "cell_type": "markdown",
   "metadata": {},
   "source": [
    "Looking at the target class and when my model was less than 20% positive it was predicting the target class. This represents the percentage of posts that were above 80% in predicting the 0 class. "
   ]
  },
  {
   "cell_type": "code",
   "execution_count": 32,
   "metadata": {},
   "outputs": [
    {
     "data": {
      "text/plain": [
       "0.22030040964952208"
      ]
     },
     "execution_count": 32,
     "metadata": {},
     "output_type": "execute_result"
    }
   ],
   "source": [
    "(ulpt_preds < .2).mean()"
   ]
  },
  {
   "cell_type": "markdown",
   "metadata": {},
   "source": [
    "Above, we can see that 22% of my posts had less than 20% probability of being predicted to the target class. "
   ]
  },
  {
   "cell_type": "markdown",
   "metadata": {},
   "source": [
    "Below, we can see that about 8.5% of our posts sit around 50%, which is a good indicator that our model wasn't unsure about very many posts when it was classifying. We will take a look at some of these posts below. "
   ]
  },
  {
   "cell_type": "code",
   "execution_count": 33,
   "metadata": {},
   "outputs": [
    {
     "data": {
      "text/plain": [
       "0.08511606736458807"
      ]
     },
     "execution_count": 33,
     "metadata": {},
     "output_type": "execute_result"
    }
   ],
   "source": [
    "((.45 < ulpt_preds) & (ulpt_preds < .55)).mean()"
   ]
  },
  {
   "cell_type": "code",
   "execution_count": 44,
   "metadata": {},
   "outputs": [
    {
     "data": {
      "text/plain": [
       "2917     if you have a cracked windshield call a haulin...\n",
       "7443     dont take criticism from anyone you wouldnt ta...\n",
       "4223     only dress up as charlie chaplin if you are wi...\n",
       "3812     hink that your partner might be browsing your ...\n",
       "3882     you should never have more than a few hundred ...\n",
       "9603     want to ride a scooter around but dont want to...\n",
       "15488    if you procrastinate studying for finals use y...\n",
       "16803    cant legally carry brass knuckles in your area...\n",
       "713      many supermarkets in the uk offer double money...\n",
       "17068    get a fish ruler sticker for the wall next to ...\n",
       "Name: title, dtype: object"
      ]
     },
     "execution_count": 44,
     "metadata": {},
     "output_type": "execute_result"
    }
   ],
   "source": [
    "X_test.iloc[np.argwhere((.45 < ulpt_preds) & \n",
    "                        (ulpt_preds < .55))[:, 0]].head(10)"
   ]
  },
  {
   "cell_type": "markdown",
   "metadata": {},
   "source": [
    "Examining some of the posts from the middle 10% range."
   ]
  },
  {
   "cell_type": "code",
   "execution_count": 65,
   "metadata": {},
   "outputs": [
    {
     "data": {
      "text/plain": [
       "'if you have a cracked windshield call a haulingdisposal service and claim something fell off their truck some companies use gps tracking so try to find one on the freeway to make your story more credible before calling'"
      ]
     },
     "execution_count": 65,
     "metadata": {},
     "output_type": "execute_result"
    }
   ],
   "source": [
    "X_test.loc[2917]"
   ]
  },
  {
   "cell_type": "code",
   "execution_count": 66,
   "metadata": {},
   "outputs": [
    {
     "data": {
      "text/plain": [
       "'dont take criticism from anyone you wouldnt take advice from'"
      ]
     },
     "execution_count": 66,
     "metadata": {},
     "output_type": "execute_result"
    }
   ],
   "source": [
    "X_test.loc[7443]"
   ]
  },
  {
   "cell_type": "code",
   "execution_count": 68,
   "metadata": {},
   "outputs": [
    {
     "data": {
      "text/plain": [
       "'if you procrastinate studying for finals use your apple watch'"
      ]
     },
     "execution_count": 68,
     "metadata": {},
     "output_type": "execute_result"
    }
   ],
   "source": [
    "X_test.loc[15488]"
   ]
  },
  {
   "cell_type": "code",
   "execution_count": 70,
   "metadata": {},
   "outputs": [
    {
     "data": {
      "text/plain": [
       "'you should never have more than a few hundred dollars in your checking account'"
      ]
     },
     "execution_count": 70,
     "metadata": {},
     "output_type": "execute_result"
    }
   ],
   "source": [
    "X_test.loc[3882]"
   ]
  },
  {
   "cell_type": "markdown",
   "metadata": {},
   "source": [
    "Looking above, a human might be able to tell which of these posts display insincere or unethical ideas. Without the some of the keywords that we will explore below, a machine has a difficult time reading into them. In the first one, the post uses the word 'claim' which is a gives a lot of information to the target class, but it also uses the word 'credible' which might be more indicative of an wholesome post. This would be a case where increasing the n_grams might be helpful. "
   ]
  },
  {
   "cell_type": "markdown",
   "metadata": {},
   "source": [
    "Looking at the top 20 words that give the most information to my model. "
   ]
  },
  {
   "cell_type": "code",
   "execution_count": 73,
   "metadata": {},
   "outputs": [
    {
     "data": {
      "text/html": [
       "<div>\n",
       "<style scoped>\n",
       "    .dataframe tbody tr th:only-of-type {\n",
       "        vertical-align: middle;\n",
       "    }\n",
       "\n",
       "    .dataframe tbody tr th {\n",
       "        vertical-align: top;\n",
       "    }\n",
       "\n",
       "    .dataframe thead th {\n",
       "        text-align: right;\n",
       "    }\n",
       "</style>\n",
       "<table border=\"1\" class=\"dataframe\">\n",
       "  <thead>\n",
       "    <tr style=\"text-align: right;\">\n",
       "      <th></th>\n",
       "      <th>importance</th>\n",
       "    </tr>\n",
       "  </thead>\n",
       "  <tbody>\n",
       "    <tr>\n",
       "      <th>tell</th>\n",
       "      <td>0.008186</td>\n",
       "    </tr>\n",
       "    <tr>\n",
       "      <th>pay</th>\n",
       "      <td>0.007246</td>\n",
       "    </tr>\n",
       "    <tr>\n",
       "      <th>fake</th>\n",
       "      <td>0.005891</td>\n",
       "    </tr>\n",
       "    <tr>\n",
       "      <th>karma</th>\n",
       "      <td>0.005886</td>\n",
       "    </tr>\n",
       "    <tr>\n",
       "      <th>return</th>\n",
       "      <td>0.005870</td>\n",
       "    </tr>\n",
       "    <tr>\n",
       "      <th>christmas</th>\n",
       "      <td>0.005849</td>\n",
       "    </tr>\n",
       "    <tr>\n",
       "      <th>post</th>\n",
       "      <td>0.005545</td>\n",
       "    </tr>\n",
       "    <tr>\n",
       "      <th>theyll</th>\n",
       "      <td>0.005143</td>\n",
       "    </tr>\n",
       "    <tr>\n",
       "      <th>try</th>\n",
       "      <td>0.004230</td>\n",
       "    </tr>\n",
       "    <tr>\n",
       "      <th>order</th>\n",
       "      <td>0.004181</td>\n",
       "    </tr>\n",
       "    <tr>\n",
       "      <th>pretend</th>\n",
       "      <td>0.003839</td>\n",
       "    </tr>\n",
       "    <tr>\n",
       "      <th>claim</th>\n",
       "      <td>0.003709</td>\n",
       "    </tr>\n",
       "    <tr>\n",
       "      <th>steal</th>\n",
       "      <td>0.003569</td>\n",
       "    </tr>\n",
       "    <tr>\n",
       "      <th>water</th>\n",
       "      <td>0.003114</td>\n",
       "    </tr>\n",
       "    <tr>\n",
       "      <th>restaurant</th>\n",
       "      <td>0.003066</td>\n",
       "    </tr>\n",
       "    <tr>\n",
       "      <th>drive</th>\n",
       "      <td>0.003002</td>\n",
       "    </tr>\n",
       "    <tr>\n",
       "      <th>remember</th>\n",
       "      <td>0.002972</td>\n",
       "    </tr>\n",
       "    <tr>\n",
       "      <th>cash</th>\n",
       "      <td>0.002764</td>\n",
       "    </tr>\n",
       "    <tr>\n",
       "      <th>lie</th>\n",
       "      <td>0.002624</td>\n",
       "    </tr>\n",
       "    <tr>\n",
       "      <th>wait</th>\n",
       "      <td>0.002315</td>\n",
       "    </tr>\n",
       "  </tbody>\n",
       "</table>\n",
       "</div>"
      ],
      "text/plain": [
       "            importance\n",
       "tell          0.008186\n",
       "pay           0.007246\n",
       "fake          0.005891\n",
       "karma         0.005886\n",
       "return        0.005870\n",
       "christmas     0.005849\n",
       "post          0.005545\n",
       "theyll        0.005143\n",
       "try           0.004230\n",
       "order         0.004181\n",
       "pretend       0.003839\n",
       "claim         0.003709\n",
       "steal         0.003569\n",
       "water         0.003114\n",
       "restaurant    0.003066\n",
       "drive         0.003002\n",
       "remember      0.002972\n",
       "cash          0.002764\n",
       "lie           0.002624\n",
       "wait          0.002315"
      ]
     },
     "execution_count": 73,
     "metadata": {},
     "output_type": "execute_result"
    }
   ],
   "source": [
    "temp"
   ]
  },
  {
   "cell_type": "code",
   "execution_count": 139,
   "metadata": {},
   "outputs": [
    {
     "data": {
      "text/plain": [
       "['tell',\n",
       " 'pay',\n",
       " 'fake',\n",
       " 'karma',\n",
       " 'return',\n",
       " 'christmas',\n",
       " 'post',\n",
       " 'theyll',\n",
       " 'try',\n",
       " 'order',\n",
       " 'pretend',\n",
       " 'claim',\n",
       " 'steal',\n",
       " 'water',\n",
       " 'restaurant',\n",
       " 'drive',\n",
       " 'remember',\n",
       " 'cash',\n",
       " 'lie',\n",
       " 'wait']"
      ]
     },
     "execution_count": 139,
     "metadata": {},
     "output_type": "execute_result"
    }
   ],
   "source": [
    "list(temp.index)"
   ]
  },
  {
   "cell_type": "code",
   "execution_count": 140,
   "metadata": {},
   "outputs": [
    {
     "data": {
      "text/plain": [
       "0.9726027397260274"
      ]
     },
     "execution_count": 140,
     "metadata": {},
     "output_type": "execute_result"
    }
   ],
   "source": [
    "df[df['title'].str.contains('christmas')]['subreddit'].mean()"
   ]
  },
  {
   "cell_type": "code",
   "execution_count": 141,
   "metadata": {},
   "outputs": [
    {
     "data": {
      "text/plain": [
       "0.7457627118644068"
      ]
     },
     "execution_count": 141,
     "metadata": {},
     "output_type": "execute_result"
    }
   ],
   "source": [
    "df[df['title'].str.contains('tell')]['subreddit'].mean()"
   ]
  },
  {
   "cell_type": "markdown",
   "metadata": {},
   "source": [
    "Exploring the percent of posts in my target class that each of my top features was included in."
   ]
  },
  {
   "cell_type": "code",
   "execution_count": 142,
   "metadata": {},
   "outputs": [
    {
     "name": "stdout",
     "output_type": "stream",
     "text": [
      "75.0 percent of the posts with the word \"tell\" point towards the target class\n",
      "75.0 percent of the posts with the word \"pay\" point towards the target class\n",
      "90.0 percent of the posts with the word \"fake\" point towards the target class\n",
      "94.0 percent of the posts with the word \"karma\" point towards the target class\n",
      "85.0 percent of the posts with the word \"return\" point towards the target class\n",
      "97.0 percent of the posts with the word \"christmas\" point towards the target class\n",
      "73.0 percent of the posts with the word \"post\" point towards the target class\n",
      "82.0 percent of the posts with the word \"theyll\" point towards the target class\n",
      "33.0 percent of the posts with the word \"try\" point towards the target class\n",
      "77.0 percent of the posts with the word \"order\" point towards the target class\n",
      "88.0 percent of the posts with the word \"pretend\" point towards the target class\n",
      "89.0 percent of the posts with the word \"claim\" point towards the target class\n",
      "92.0 percent of the posts with the word \"steal\" point towards the target class\n",
      "26.0 percent of the posts with the word \"water\" point towards the target class\n",
      "78.0 percent of the posts with the word \"restaurant\" point towards the target class\n",
      "71.0 percent of the posts with the word \"drive\" point towards the target class\n",
      "20.0 percent of the posts with the word \"remember\" point towards the target class\n",
      "79.0 percent of the posts with the word \"cash\" point towards the target class\n",
      "64.0 percent of the posts with the word \"lie\" point towards the target class\n",
      "74.0 percent of the posts with the word \"wait\" point towards the target class\n"
     ]
    }
   ],
   "source": [
    "percent_list = []\n",
    "for i in list(temp.index):\n",
    "    print(round(df[df[\"title\"].str.contains(i)][\"subreddit\"].mean(),2)*100, \n",
    "          f'percent of the posts with the word \"{i}\" point towards the target class') \n",
    "    percent_list.append(round(df[df[\"title\"].str.contains(i)][\"subreddit\"].mean(),2)*100)"
   ]
  },
  {
   "cell_type": "code",
   "execution_count": 179,
   "metadata": {},
   "outputs": [],
   "source": [
    "temp['percent'] = percent_list"
   ]
  },
  {
   "cell_type": "code",
   "execution_count": 180,
   "metadata": {},
   "outputs": [
    {
     "data": {
      "text/html": [
       "<div>\n",
       "<style scoped>\n",
       "    .dataframe tbody tr th:only-of-type {\n",
       "        vertical-align: middle;\n",
       "    }\n",
       "\n",
       "    .dataframe tbody tr th {\n",
       "        vertical-align: top;\n",
       "    }\n",
       "\n",
       "    .dataframe thead th {\n",
       "        text-align: right;\n",
       "    }\n",
       "</style>\n",
       "<table border=\"1\" class=\"dataframe\">\n",
       "  <thead>\n",
       "    <tr style=\"text-align: right;\">\n",
       "      <th></th>\n",
       "      <th>importance</th>\n",
       "      <th>percent</th>\n",
       "    </tr>\n",
       "  </thead>\n",
       "  <tbody>\n",
       "    <tr>\n",
       "      <th>christmas</th>\n",
       "      <td>0.005849</td>\n",
       "      <td>97.0</td>\n",
       "    </tr>\n",
       "    <tr>\n",
       "      <th>karma</th>\n",
       "      <td>0.005886</td>\n",
       "      <td>94.0</td>\n",
       "    </tr>\n",
       "    <tr>\n",
       "      <th>steal</th>\n",
       "      <td>0.003569</td>\n",
       "      <td>92.0</td>\n",
       "    </tr>\n",
       "    <tr>\n",
       "      <th>fake</th>\n",
       "      <td>0.005891</td>\n",
       "      <td>90.0</td>\n",
       "    </tr>\n",
       "    <tr>\n",
       "      <th>claim</th>\n",
       "      <td>0.003709</td>\n",
       "      <td>89.0</td>\n",
       "    </tr>\n",
       "    <tr>\n",
       "      <th>pretend</th>\n",
       "      <td>0.003839</td>\n",
       "      <td>88.0</td>\n",
       "    </tr>\n",
       "    <tr>\n",
       "      <th>return</th>\n",
       "      <td>0.005870</td>\n",
       "      <td>85.0</td>\n",
       "    </tr>\n",
       "    <tr>\n",
       "      <th>theyll</th>\n",
       "      <td>0.005143</td>\n",
       "      <td>82.0</td>\n",
       "    </tr>\n",
       "    <tr>\n",
       "      <th>cash</th>\n",
       "      <td>0.002764</td>\n",
       "      <td>79.0</td>\n",
       "    </tr>\n",
       "    <tr>\n",
       "      <th>restaurant</th>\n",
       "      <td>0.003066</td>\n",
       "      <td>78.0</td>\n",
       "    </tr>\n",
       "    <tr>\n",
       "      <th>order</th>\n",
       "      <td>0.004181</td>\n",
       "      <td>77.0</td>\n",
       "    </tr>\n",
       "    <tr>\n",
       "      <th>tell</th>\n",
       "      <td>0.008186</td>\n",
       "      <td>75.0</td>\n",
       "    </tr>\n",
       "    <tr>\n",
       "      <th>pay</th>\n",
       "      <td>0.007246</td>\n",
       "      <td>75.0</td>\n",
       "    </tr>\n",
       "    <tr>\n",
       "      <th>wait</th>\n",
       "      <td>0.002315</td>\n",
       "      <td>74.0</td>\n",
       "    </tr>\n",
       "    <tr>\n",
       "      <th>post</th>\n",
       "      <td>0.005545</td>\n",
       "      <td>73.0</td>\n",
       "    </tr>\n",
       "    <tr>\n",
       "      <th>drive</th>\n",
       "      <td>0.003002</td>\n",
       "      <td>71.0</td>\n",
       "    </tr>\n",
       "    <tr>\n",
       "      <th>lie</th>\n",
       "      <td>0.002624</td>\n",
       "      <td>64.0</td>\n",
       "    </tr>\n",
       "    <tr>\n",
       "      <th>try</th>\n",
       "      <td>0.004230</td>\n",
       "      <td>33.0</td>\n",
       "    </tr>\n",
       "    <tr>\n",
       "      <th>water</th>\n",
       "      <td>0.003114</td>\n",
       "      <td>26.0</td>\n",
       "    </tr>\n",
       "    <tr>\n",
       "      <th>remember</th>\n",
       "      <td>0.002972</td>\n",
       "      <td>20.0</td>\n",
       "    </tr>\n",
       "  </tbody>\n",
       "</table>\n",
       "</div>"
      ],
      "text/plain": [
       "            importance  percent\n",
       "christmas     0.005849     97.0\n",
       "karma         0.005886     94.0\n",
       "steal         0.003569     92.0\n",
       "fake          0.005891     90.0\n",
       "claim         0.003709     89.0\n",
       "pretend       0.003839     88.0\n",
       "return        0.005870     85.0\n",
       "theyll        0.005143     82.0\n",
       "cash          0.002764     79.0\n",
       "restaurant    0.003066     78.0\n",
       "order         0.004181     77.0\n",
       "tell          0.008186     75.0\n",
       "pay           0.007246     75.0\n",
       "wait          0.002315     74.0\n",
       "post          0.005545     73.0\n",
       "drive         0.003002     71.0\n",
       "lie           0.002624     64.0\n",
       "try           0.004230     33.0\n",
       "water         0.003114     26.0\n",
       "remember      0.002972     20.0"
      ]
     },
     "execution_count": 180,
     "metadata": {},
     "output_type": "execute_result"
    }
   ],
   "source": [
    "temp.sort_values('percent', ascending = False)"
   ]
  },
  {
   "cell_type": "markdown",
   "metadata": {},
   "source": [
    "Plotting the top 20 words and how often the target class was predicted when these words were in the post. "
   ]
  },
  {
   "cell_type": "code",
   "execution_count": 181,
   "metadata": {},
   "outputs": [
    {
     "data": {
      "text/plain": [
       "(array([  0.,  20.,  40.,  60.,  80., 100., 120.]),\n",
       " <a list of 7 Text yticklabel objects>)"
      ]
     },
     "execution_count": 181,
     "metadata": {},
     "output_type": "execute_result"
    },
    {
     "data": {
      "image/png": "[encoded data removed]",
      "text/plain": [
       "<Figure size 1440x720 with 1 Axes>"
      ]
     },
     "metadata": {},
     "output_type": "display_data"
    }
   ],
   "source": [
    "plt.figure(figsize = (20,10))\n",
    "plt.bar(x=temp.index, \n",
    "        height = temp['percent'].sort_values(ascending = False),\n",
    "        color = 'lightblue')\n",
    "plt.xlabel(xlabel = 'Words that Give the Most Information', fontsize = 25)\n",
    "plt.ylabel(ylabel = 'Percent', fontsize = 25)\n",
    "plt.title('Percent of Posts With Each Word in Toxic Class', fontsize = 35)\n",
    "plt.xticks(fontsize = 18, rotation = 45)\n",
    "plt.yticks(fontsize = 20)"
   ]
  },
  {
   "cell_type": "markdown",
   "metadata": {},
   "source": [
    "The above graph shows the use of certain words and how often they are used in toxic posts. For example 94% of the posts with 'tell' in them were insincere or toxic posts. Right behind that is 'pay', 'fake', 'christmas', 'theyll', 'pretend', 'claim', 'steal'. While not looking too deeply into this, I am interested into the fact tha there are nicer, more wholesome ways to say some of these words. Knowing the context is great, but knowing that toxic posts encourage to 'tell' someone something, instead of 'to say' something to someone. Talking about people as 'they' instead of using the actual noun representing who they are. 'Christmas' is the most interesting to me. I found the most of the posts that have 'christmas' in them are trolling posts telling people how to display toxic behavior during the holidays. All in all, I think looking at the words used can be pretty accurate when filtering out toxic posts, but creating a model that looks into sentiment could also be useful in the future. "
   ]
  },
  {
   "cell_type": "markdown",
   "metadata": {},
   "source": [
    "Wondering how many posts these 20 words have been in all together. "
   ]
  },
  {
   "cell_type": "code",
   "execution_count": 106,
   "metadata": {},
   "outputs": [],
   "source": [
    "count = 0\n",
    "for i in list(temp.index): \n",
    "    count += df[df['title'].str.contains(i)]['title'].count()"
   ]
  },
  {
   "cell_type": "code",
   "execution_count": 107,
   "metadata": {},
   "outputs": [
    {
     "data": {
      "text/plain": [
       "8057"
      ]
     },
     "execution_count": 107,
     "metadata": {},
     "output_type": "execute_result"
    }
   ],
   "source": [
    "count"
   ]
  },
  {
   "cell_type": "markdown",
   "metadata": {},
   "source": [
    "These 20 words have been in almost 50 percent of the posts i scraped, and all but 3 of them are strong predictors for the target class, Unethical Life Pro Tips. "
   ]
  },
  {
   "cell_type": "markdown",
   "metadata": {},
   "source": [
    "Setting up a pd to run a AUC ROC graph."
   ]
  },
  {
   "cell_type": "code",
   "execution_count": 111,
   "metadata": {},
   "outputs": [],
   "source": [
    "pred_df = pd.DataFrame({'true_values': y_test,\n",
    "                        'pred_probs':ulpt_preds})"
   ]
  },
  {
   "cell_type": "code",
   "execution_count": 172,
   "metadata": {},
   "outputs": [
    {
     "data": {
      "image/png": "[encoded data removed]",
      "text/plain": [
       "<Figure size 720x504 with 1 Axes>"
      ]
     },
     "metadata": {},
     "output_type": "display_data"
    }
   ],
   "source": [
    "# Create figure.\n",
    "plt.figure(figsize = (10,7))\n",
    "\n",
    "# Create threshold values.\n",
    "thresholds = np.linspace(0, 1, 200)\n",
    "\n",
    "# Define function to calculate sensitivity. (True positive rate.)\n",
    "def TPR(df, true_col, pred_prob_col, threshold):\n",
    "    true_positive = df[(df[true_col] == 1) & (df[pred_prob_col] >= threshold)].shape[0]\n",
    "    false_negative = df[(df[true_col] == 1) & (df[pred_prob_col] < threshold)].shape[0]\n",
    "    return true_positive / (true_positive + false_negative)\n",
    "\n",
    "# Define function to calculate 1 - specificity. (False positive rate.)\n",
    "def FPR(df, true_col, pred_prob_col, threshold):\n",
    "    true_negative = df[(df[true_col] == 0) & (df[pred_prob_col] <= threshold)].shape[0]\n",
    "    false_positive = df[(df[true_col] == 0) & (df[pred_prob_col] > threshold)].shape[0]\n",
    "    return 1 - (true_negative / (true_negative + false_positive))\n",
    "    \n",
    "# Calculate sensitivity & 1-specificity for each threshold between 0 and 1.\n",
    "tpr_values = [TPR(pred_df, 'true_values', 'pred_probs', prob) for prob in thresholds]\n",
    "fpr_values = [FPR(pred_df, 'true_values', 'pred_probs', prob) for prob in thresholds]\n",
    "\n",
    "# Plotting the ROC curve.\n",
    "plt.plot(fpr_values, # False Positive Rate on X-axis\n",
    "         tpr_values, # True Positive Rate on Y-axis\n",
    "         label='ROC Curve',\n",
    "         color = 'lightblue')\n",
    "\n",
    "# Plotting the baseline.\n",
    "plt.plot(np.linspace(0, 1, 200),\n",
    "         np.linspace(0, 1, 200),\n",
    "         label='baseline',\n",
    "         linestyle='--',\n",
    "         color = '#E983BD')\n",
    "\n",
    "# Axis Labels\n",
    "plt.title('ROC Curve Scored at 87%', fontsize=22)\n",
    "plt.ylabel('Sensitivity', fontsize=18)\n",
    "plt.xlabel('1 - Specificity', fontsize=18)\n",
    "\n",
    "# legend.\n",
    "plt.legend(fontsize=16);"
   ]
  },
  {
   "cell_type": "markdown",
   "metadata": {},
   "source": [
    "My auc roc curve shows a pretty good model at determining which class a given post is from, given the words used in the post. Essentially, the curve representing my target class(ULPT) overlaps with the curve representing my 0 class (LPT). This means that there isn't complete separation between the two, so there is some overlap in the classification of the two. Some posts are classified false positively, and some are classified false negatively. My score of 87% means that there is an 87% chance that my model will be able to predict which class a given post comes from. That means that 87% of the time, my model can determine whether or not a given post is toxic or insincere. "
   ]
  },
  {
   "cell_type": "code",
   "execution_count": 168,
   "metadata": {},
   "outputs": [],
   "source": [
    "from sklearn.metrics import roc_auc_score"
   ]
  },
  {
   "cell_type": "code",
   "execution_count": 170,
   "metadata": {},
   "outputs": [],
   "source": [
    "auc_roc_score = round(roc_auc_score(pred_df['true_values'], pred_df['pred_probs']),2)"
   ]
  },
  {
   "cell_type": "code",
   "execution_count": 171,
   "metadata": {},
   "outputs": [
    {
     "data": {
      "text/plain": [
       "0.87"
      ]
     },
     "execution_count": 171,
     "metadata": {},
     "output_type": "execute_result"
    }
   ],
   "source": [
    "auc_roc_score"
   ]
  },
  {
   "cell_type": "markdown",
   "metadata": {},
   "source": [
    "Pulling in kaggle data and scoring it with my random forest model. "
   ]
  },
  {
   "cell_type": "code",
   "execution_count": 182,
   "metadata": {},
   "outputs": [],
   "source": [
    "X_kaggle_cvec = cvec.transform(X_kaggle)"
   ]
  },
  {
   "cell_type": "code",
   "execution_count": 183,
   "metadata": {},
   "outputs": [
    {
     "data": {
      "text/plain": [
       "0.5592"
      ]
     },
     "execution_count": 183,
     "metadata": {},
     "output_type": "execute_result"
    }
   ],
   "source": [
    "rf.score(X_kaggle_cvec, y_kaggle)"
   ]
  },
  {
   "cell_type": "markdown",
   "metadata": {},
   "source": [
    "To my surprise, my random forest classifier performed worse on the kaggle data than my logreg model. My log reg model predicted toxicity in a completely unknown dataset with 60% accuracy, while my Random Forest model predicted it with 55% accuracy. "
   ]
  },
  {
   "cell_type": "markdown",
   "metadata": {},
   "source": [
    "# Conclusions and Next Steps\n",
    "\n",
    "After looking at my random forest model and my logistic regression model, I think I would pick my logistic regression model to use in production. The top 20 features in each are pretty similar to each other, but my logistic regression model is more accurate on unknown data, which is the same type of data that will be gathered 'in the field', so to say. I think that my logistic regression model can be used to identify toxic or insincere behavior online. Random Forest worked really well on the data I trained it on, with an accuracy score of 99%, but on the testing data it was marginally better than the logistic regression model and on the unknown data it was 5% worse, just barely eking out the baseline accuracy. \n",
    "\n",
    "Next steps would be to look into sentiment analysis to try to find the overall latent semantic analysis to create relationships between the different posts, and hopefully look into how those relationships, along with word usage, can predict toxic behavior online. \n",
    "\n",
    "Toxic and insincere trolling behavior will always be a part of internet culture, and arguable, that is part of the fun of being online. It is the wild wild west of real life. You can say anything you want, be anyone you want, and tell anyone whatever you want. However, there are certain settings and forums in which this behavior isn't accepted or tolerated. I think that these models are a good step in the direction of implementing bot moderators that aren't humans who have to read every single post and can follow a certain set of guidelines based on the rules of a specific forum. "
   ]
  }
 ],
 "metadata": {
  "kernelspec": {
   "display_name": "Python 3",
   "language": "python",
   "name": "python3"
  },
  "language_info": {
   "codemirror_mode": {
    "name": "ipython",
    "version": 3
   },
   "file_extension": ".py",
   "mimetype": "text/x-python",
   "name": "python",
   "nbconvert_exporter": "python",
   "pygments_lexer": "ipython3",
   "version": "3.7.2"
  }
 },
 "nbformat": 4,
 "nbformat_minor": 2
}
